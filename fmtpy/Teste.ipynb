{
 "cells": [
  {
   "cell_type": "code",
   "execution_count": 1,
   "metadata": {},
   "outputs": [],
   "source": [
    "import main\n",
    "import numpy as np"
   ]
  },
  {
   "cell_type": "code",
   "execution_count": 2,
   "metadata": {},
   "outputs": [],
   "source": [
    "import bi"
   ]
  },
  {
   "cell_type": "code",
   "execution_count": 3,
   "metadata": {},
   "outputs": [],
   "source": [
    "import cvmpy as cvm"
   ]
  },
  {
   "cell_type": "code",
   "execution_count": 4,
   "metadata": {},
   "outputs": [],
   "source": [
    "import numpy as np"
   ]
  },
  {
   "cell_type": "code",
   "execution_count": 5,
   "metadata": {},
   "outputs": [],
   "source": [
    "import pandas as pd\n",
    "pd.options.display.float_format = '{:,.2f}'.format"
   ]
  },
  {
   "cell_type": "code",
   "execution_count": 6,
   "metadata": {},
   "outputs": [],
   "source": [
    "#x = main.Balanco('MGLU3')"
   ]
  },
  {
   "cell_type": "code",
   "execution_count": 7,
   "metadata": {},
   "outputs": [],
   "source": [
    "x = bi.Balancos('MGLU3',r'C:\\Users\\11111\\Desktop\\Python\\chromedriver.exe')"
   ]
  },
  {
   "cell_type": "code",
   "execution_count": 16,
   "metadata": {},
   "outputs": [
    {
     "name": "stdout",
     "output_type": "stream",
     "text": [
      "Obtendo Fluxo de Caixa para MGLU3 referente ao 3º trimestre de 2019\n"
     ]
    }
   ],
   "source": [
    "tabela = x.fat_balancos_cvm_agregado(5,2019,3)"
   ]
  },
  {
   "cell_type": "code",
   "execution_count": 19,
   "metadata": {},
   "outputs": [],
   "source": [
    "tabela = x.dim_relatorios_datas_aggs(5,2019,4)"
   ]
  },
  {
   "cell_type": "code",
   "execution_count": 15,
   "metadata": {},
   "outputs": [
    {
     "data": {
      "text/html": [
       "<div>\n",
       "<style scoped>\n",
       "    .dataframe tbody tr th:only-of-type {\n",
       "        vertical-align: middle;\n",
       "    }\n",
       "\n",
       "    .dataframe tbody tr th {\n",
       "        vertical-align: top;\n",
       "    }\n",
       "\n",
       "    .dataframe thead th {\n",
       "        text-align: right;\n",
       "    }\n",
       "</style>\n",
       "<table border=\"1\" class=\"dataframe\">\n",
       "  <thead>\n",
       "    <tr style=\"text-align: right;\">\n",
       "      <th></th>\n",
       "      <th>CD_ATIVO</th>\n",
       "      <th>CD_RELATORIO</th>\n",
       "      <th>ANO</th>\n",
       "      <th>TRIMESTRE</th>\n",
       "      <th>DATA_REF</th>\n",
       "      <th>DATA_ENT</th>\n",
       "    </tr>\n",
       "  </thead>\n",
       "  <tbody>\n",
       "    <tr>\n",
       "      <th>0</th>\n",
       "      <td>MGLU3</td>\n",
       "      <td>88872</td>\n",
       "      <td>2019</td>\n",
       "      <td>3</td>\n",
       "      <td>2019-09-30</td>\n",
       "      <td>2019-10-29</td>\n",
       "    </tr>\n",
       "    <tr>\n",
       "      <th>1</th>\n",
       "      <td>MGLU3</td>\n",
       "      <td>86340</td>\n",
       "      <td>2019</td>\n",
       "      <td>2</td>\n",
       "      <td>2019-06-30</td>\n",
       "      <td>2019-08-12</td>\n",
       "    </tr>\n",
       "    <tr>\n",
       "      <th>2</th>\n",
       "      <td>MGLU3</td>\n",
       "      <td>82751</td>\n",
       "      <td>2019</td>\n",
       "      <td>1</td>\n",
       "      <td>2019-03-31</td>\n",
       "      <td>2019-05-06</td>\n",
       "    </tr>\n",
       "    <tr>\n",
       "      <th>3</th>\n",
       "      <td>MGLU3</td>\n",
       "      <td>90983</td>\n",
       "      <td>2019</td>\n",
       "      <td>4</td>\n",
       "      <td>2019-12-31</td>\n",
       "      <td>2020-02-17</td>\n",
       "    </tr>\n",
       "  </tbody>\n",
       "</table>\n",
       "</div>"
      ],
      "text/plain": [
       "  CD_ATIVO CD_RELATORIO   ANO TRIMESTRE    DATA_REF    DATA_ENT\n",
       "0    MGLU3        88872  2019         3  2019-09-30  2019-10-29\n",
       "1    MGLU3        86340  2019         2  2019-06-30  2019-08-12\n",
       "2    MGLU3        82751  2019         1  2019-03-31  2019-05-06\n",
       "3    MGLU3        90983  2019         4  2019-12-31  2020-02-17"
      ]
     },
     "execution_count": 15,
     "metadata": {},
     "output_type": "execute_result"
    }
   ],
   "source": [
    "pd.DataFrame(tabela[1], columns=tabela[0])"
   ]
  },
  {
   "cell_type": "code",
   "execution_count": 20,
   "metadata": {
    "scrolled": true
   },
   "outputs": [
    {
     "data": {
      "text/html": [
       "<div>\n",
       "<style scoped>\n",
       "    .dataframe tbody tr th:only-of-type {\n",
       "        vertical-align: middle;\n",
       "    }\n",
       "\n",
       "    .dataframe tbody tr th {\n",
       "        vertical-align: top;\n",
       "    }\n",
       "\n",
       "    .dataframe thead th {\n",
       "        text-align: right;\n",
       "    }\n",
       "</style>\n",
       "<table border=\"1\" class=\"dataframe\">\n",
       "  <thead>\n",
       "    <tr style=\"text-align: right;\">\n",
       "      <th></th>\n",
       "      <th>CD_ATIVO</th>\n",
       "      <th>CD_RELATORIO</th>\n",
       "      <th>ANO</th>\n",
       "      <th>TRIMESTRE_INI</th>\n",
       "      <th>TRIMESTRE_FIM</th>\n",
       "      <th>DATA_REF_INI</th>\n",
       "      <th>DATA_REF_FIM</th>\n",
       "    </tr>\n",
       "  </thead>\n",
       "  <tbody>\n",
       "    <tr>\n",
       "      <th>0</th>\n",
       "      <td>MGLU3</td>\n",
       "      <td>88872</td>\n",
       "      <td>2019</td>\n",
       "      <td>1</td>\n",
       "      <td>3</td>\n",
       "      <td>2019-01-01</td>\n",
       "      <td>2019-09-30</td>\n",
       "    </tr>\n",
       "  </tbody>\n",
       "</table>\n",
       "</div>"
      ],
      "text/plain": [
       "  CD_ATIVO CD_RELATORIO   ANO TRIMESTRE_INI TRIMESTRE_FIM DATA_REF_INI  \\\n",
       "0    MGLU3        88872  2019             1             3   2019-01-01   \n",
       "\n",
       "  DATA_REF_FIM  \n",
       "0   2019-09-30  "
      ]
     },
     "execution_count": 20,
     "metadata": {},
     "output_type": "execute_result"
    }
   ],
   "source": [
    "pd.DataFrame(tabela[1], columns=tabela[0])"
   ]
  },
  {
   "cell_type": "code",
   "execution_count": 74,
   "metadata": {},
   "outputs": [
    {
     "data": {
      "text/plain": [
       "array([['MGLU3', '22470', '47.960.950/0001-21', 'BRMGLUACNOR2']],\n",
       "      dtype='<U18')"
      ]
     },
     "execution_count": 74,
     "metadata": {},
     "output_type": "execute_result"
    }
   ],
   "source": [
    "tabela[1]"
   ]
  },
  {
   "cell_type": "code",
   "execution_count": 78,
   "metadata": {
    "scrolled": true
   },
   "outputs": [],
   "source": [
    "relat = [['CD_ATIVO', 'CD_RELATORIO', 'ANO', 'TRIMESTRE_INI', 'TRIMESTRE_FIM', 'DATA_REF_INI', 'DATA_REF_FIM'],\n",
    "np.array([[x.papel,x.balanco.relatorios[x.ano][x.tri][2], x.ano] + x.trimestres[0] + x.datas[0]])]"
   ]
  },
  {
   "cell_type": "code",
   "execution_count": 79,
   "metadata": {},
   "outputs": [
    {
     "data": {
      "text/plain": [
       "\n",
       "--------  ------------  ----  -------------  -------------  ------------  ------------\n",
       "CD_ATIVO  CD_RELATORIO  ANO   TRIMESTRE_INI  TRIMESTRE_FIM  DATA_REF_INI  DATA_REF_FIM\n",
       "MGLU3     88872         2019  3              3              2019-07-01    2019-09-30\n",
       "--------  ------------  ----  -------------  -------------  ------------  ------------"
      ]
     },
     "execution_count": 79,
     "metadata": {},
     "output_type": "execute_result"
    }
   ],
   "source": [
    "bi.Features(relat[0], relat[1])"
   ]
  },
  {
   "cell_type": "code",
   "execution_count": 9,
   "metadata": {},
   "outputs": [],
   "source": [
    "con = bi.sqlite(r'C:\\Users\\11111\\Desktop\\fmtpy\\db\\teste.db')"
   ]
  },
  {
   "cell_type": "code",
   "execution_count": 10,
   "metadata": {},
   "outputs": [
    {
     "data": {
      "text/plain": [
       "32"
      ]
     },
     "execution_count": 10,
     "metadata": {},
     "output_type": "execute_result"
    }
   ],
   "source": [
    "con.reg_existe('teste4', CD_ATIVO='MGLU3')"
   ]
  },
  {
   "cell_type": "code",
   "execution_count": 14,
   "metadata": {},
   "outputs": [
    {
     "name": "stdout",
     "output_type": "stream",
     "text": [
      "1\n"
     ]
    }
   ],
   "source": [
    "bi.Features(tabela[0], tabela[1]).to_sql('teste4',con, campos='CD_ATIVO', replace=True)"
   ]
  },
  {
   "cell_type": "code",
   "execution_count": 10,
   "metadata": {},
   "outputs": [
    {
     "data": {
      "text/plain": [
       "[['CD_ATIVO', 'CD_CVM', 'CNPJ', 'ISIN'],\n",
       " array([['MGLU3', '22470', '47.960.950/0001-21', 'BRMGLUACNOR2']],\n",
       "       dtype='<U18')]"
      ]
     },
     "execution_count": 10,
     "metadata": {},
     "output_type": "execute_result"
    }
   ],
   "source": [
    "x.dim_ativo()"
   ]
  },
  {
   "cell_type": "code",
   "execution_count": 11,
   "metadata": {},
   "outputs": [
    {
     "data": {
      "text/plain": [
       "[['DATA_REF', 'DATA_ENT', 'CD_RELATORIO', 'TRIMESTRE', 'ANO', 'CD_ATIVO'],\n",
       " array([[datetime.date(2018, 9, 30), datetime.date(2018, 11, 5), 78649, 3,\n",
       "         2018, 'MGLU3'],\n",
       "        [datetime.date(2018, 6, 30), datetime.date(2018, 8, 6), 76709, 2,\n",
       "         2018, 'MGLU3'],\n",
       "        [datetime.date(2018, 3, 31), datetime.date(2018, 5, 7), 73853, 1,\n",
       "         2018, 'MGLU3'],\n",
       "        [datetime.date(2018, 12, 31), datetime.date(2019, 2, 25), 80863,\n",
       "         4, 2018, 'MGLU3']], dtype=object)]"
      ]
     },
     "execution_count": 11,
     "metadata": {},
     "output_type": "execute_result"
    }
   ],
   "source": [
    "x.dim_relatorios()"
   ]
  },
  {
   "cell_type": "code",
   "execution_count": 13,
   "metadata": {},
   "outputs": [
    {
     "data": {
      "text/plain": [
       "'BRPETRACNPR6'"
      ]
     },
     "execution_count": 13,
     "metadata": {},
     "output_type": "execute_result"
    }
   ],
   "source": [
    "main.Dados('PETR4').isin()"
   ]
  },
  {
   "cell_type": "code",
   "execution_count": 32,
   "metadata": {},
   "outputs": [
    {
     "data": {
      "text/plain": [
       "34"
      ]
     },
     "execution_count": 32,
     "metadata": {},
     "output_type": "execute_result"
    }
   ],
   "source": [
    "query = f\" select count (*) from teste4 where CD_ATIVO='VALE3'\"\n",
    "con.cursor.execute(query).fetchone()[0]"
   ]
  },
  {
   "cell_type": "code",
   "execution_count": null,
   "metadata": {},
   "outputs": [],
   "source": []
  },
  {
   "cell_type": "code",
   "execution_count": null,
   "metadata": {},
   "outputs": [],
   "source": []
  },
  {
   "cell_type": "code",
   "execution_count": 11,
   "metadata": {},
   "outputs": [
    {
     "data": {
      "text/plain": [
       "{'CD_ATIVO': 'MOVI3', 'DS_CONTA': 'Receita de Venda de Bens e/ou Serviços'}"
      ]
     },
     "execution_count": 11,
     "metadata": {},
     "output_type": "execute_result"
    }
   ],
   "source": [
    "dict(zip(ss[0], ss[1]))"
   ]
  },
  {
   "cell_type": "code",
   "execution_count": 8,
   "metadata": {},
   "outputs": [],
   "source": [
    "#x.balanco.relatorios"
   ]
  },
  {
   "cell_type": "code",
   "execution_count": 35,
   "metadata": {
    "scrolled": true
   },
   "outputs": [
    {
     "data": {
      "text/plain": [
       "[['CD_ATIVO',\n",
       "  'CONTA',\n",
       "  'DS_CONTA',\n",
       "  'CD_RELATORIO',\n",
       "  'DATA_ENT',\n",
       "  'DATA_REF',\n",
       "  'ANO',\n",
       "  'TRIMESTRE',\n",
       "  'VALOR'],\n",
       " array([['MGLU3', '3.01', 'Receita de Venda de Bens e/ou Serviços', 73853,\n",
       "         datetime.date(2018, 5, 7), datetime.date(2018, 3, 31), 2018, 1,\n",
       "         3613263000.0],\n",
       "        ['MGLU3', '3.02', 'Custo dos Bens e/ou Serviços Vendidos', 73853,\n",
       "         datetime.date(2018, 5, 7), datetime.date(2018, 3, 31), 2018, 1,\n",
       "         -2569908000.0],\n",
       "        ['MGLU3', '3.03', 'Resultado Bruto', 73853,\n",
       "         datetime.date(2018, 5, 7), datetime.date(2018, 3, 31), 2018, 1,\n",
       "         1043355000.0],\n",
       "        ['MGLU3', '3.04', 'Despesas/Receitas Operacionais', 73853,\n",
       "         datetime.date(2018, 5, 7), datetime.date(2018, 3, 31), 2018, 1,\n",
       "         -780085000.0],\n",
       "        ['MGLU3', '3.04.01', 'Despesas com Vendas', 73853,\n",
       "         datetime.date(2018, 5, 7), datetime.date(2018, 3, 31), 2018, 1,\n",
       "         -641873000.0],\n",
       "        ['MGLU3', '3.04.02', 'Despesas Gerais e Administrativas', 73853,\n",
       "         datetime.date(2018, 5, 7), datetime.date(2018, 3, 31), 2018, 1,\n",
       "         -170175000.0],\n",
       "        ['MGLU3', '3.04.02.01', 'Gerais e Administrativas', 73853,\n",
       "         datetime.date(2018, 5, 7), datetime.date(2018, 3, 31), 2018, 1,\n",
       "         -132940000.0],\n",
       "        ['MGLU3', '3.04.02.02', 'Depreciação', 73853,\n",
       "         datetime.date(2018, 5, 7), datetime.date(2018, 3, 31), 2018, 1,\n",
       "         -37235000.0],\n",
       "        ['MGLU3', '3.04.03', 'Perdas pela Não Recuperabilidade de Ativos',\n",
       "         73853, datetime.date(2018, 5, 7), datetime.date(2018, 3, 31),\n",
       "         2018, 1, -12492000.0],\n",
       "        ['MGLU3', '3.04.04', 'Outras Receitas Operacionais', 73853,\n",
       "         datetime.date(2018, 5, 7), datetime.date(2018, 3, 31), 2018, 1,\n",
       "         21136000.0],\n",
       "        ['MGLU3', '3.04.05', 'Outras Despesas Operacionais', 73853,\n",
       "         datetime.date(2018, 5, 7), datetime.date(2018, 3, 31), 2018, 1,\n",
       "         None],\n",
       "        ['MGLU3', '3.04.06', 'Resultado de Equivalência Patrimonial',\n",
       "         73853, datetime.date(2018, 5, 7), datetime.date(2018, 3, 31),\n",
       "         2018, 1, 23319000.0],\n",
       "        ['MGLU3', '3.05',\n",
       "         'Resultado Antes do Resultado Financeiro e dos Tributos', 73853,\n",
       "         datetime.date(2018, 5, 7), datetime.date(2018, 3, 31), 2018, 1,\n",
       "         263270000.0],\n",
       "        ['MGLU3', '3.06', 'Resultado Financeiro', 73853,\n",
       "         datetime.date(2018, 5, 7), datetime.date(2018, 3, 31), 2018, 1,\n",
       "         -59773000.0],\n",
       "        ['MGLU3', '3.06.01', 'Receitas Financeiras', 73853,\n",
       "         datetime.date(2018, 5, 7), datetime.date(2018, 3, 31), 2018, 1,\n",
       "         23764000.0],\n",
       "        ['MGLU3', '3.06.02', 'Despesas Financeiras', 73853,\n",
       "         datetime.date(2018, 5, 7), datetime.date(2018, 3, 31), 2018, 1,\n",
       "         -83537000.0],\n",
       "        ['MGLU3', '3.07', 'Resultado Antes dos Tributos sobre o Lucro',\n",
       "         73853, datetime.date(2018, 5, 7), datetime.date(2018, 3, 31),\n",
       "         2018, 1, 203497000.0],\n",
       "        ['MGLU3', '3.08',\n",
       "         'Imposto de Renda e Contribuição Social sobre o Lucro', 73853,\n",
       "         datetime.date(2018, 5, 7), datetime.date(2018, 3, 31), 2018, 1,\n",
       "         -56014000.0],\n",
       "        ['MGLU3', '3.08.01', 'Corrente', 73853, datetime.date(2018, 5, 7),\n",
       "         datetime.date(2018, 3, 31), 2018, 1, None],\n",
       "        ['MGLU3', '3.08.02', 'Diferido', 73853, datetime.date(2018, 5, 7),\n",
       "         datetime.date(2018, 3, 31), 2018, 1, None],\n",
       "        ['MGLU3', '3.09', 'Resultado Líquido das Operações Continuadas',\n",
       "         73853, datetime.date(2018, 5, 7), datetime.date(2018, 3, 31),\n",
       "         2018, 1, 147483000.0],\n",
       "        ['MGLU3', '3.10', 'Resultado Líquido de Operações Descontinuadas',\n",
       "         73853, datetime.date(2018, 5, 7), datetime.date(2018, 3, 31),\n",
       "         2018, 1, None],\n",
       "        ['MGLU3', '3.10.01',\n",
       "         'Lucro/Prejuízo Líquido das Operações Descontinuadas', 73853,\n",
       "         datetime.date(2018, 5, 7), datetime.date(2018, 3, 31), 2018, 1,\n",
       "         None],\n",
       "        ['MGLU3', '3.10.02',\n",
       "         'Ganhos/Perdas Líquidas sobre Ativos de Operações Descontinuadas',\n",
       "         73853, datetime.date(2018, 5, 7), datetime.date(2018, 3, 31),\n",
       "         2018, 1, None],\n",
       "        ['MGLU3', '3.11', 'Lucro/Prejuízo Consolidado do Período', 73853,\n",
       "         datetime.date(2018, 5, 7), datetime.date(2018, 3, 31), 2018, 1,\n",
       "         147483000.0],\n",
       "        ['MGLU3', '3.11.01', 'Atribuído a Sócios da Empresa Controladora',\n",
       "         73853, datetime.date(2018, 5, 7), datetime.date(2018, 3, 31),\n",
       "         2018, 1, 147483000.0],\n",
       "        ['MGLU3', '3.11.02', 'Atribuído a Sócios Não Controladores',\n",
       "         73853, datetime.date(2018, 5, 7), datetime.date(2018, 3, 31),\n",
       "         2018, 1, None],\n",
       "        ['MGLU3', '3.99', 'Lucro por Ação - (Reais / Ação)', 73853,\n",
       "         datetime.date(2018, 5, 7), datetime.date(2018, 3, 31), 2018, 1,\n",
       "         None],\n",
       "        ['MGLU3', '3.99.01', 'Lucro Básico por Ação', 73853,\n",
       "         datetime.date(2018, 5, 7), datetime.date(2018, 3, 31), 2018, 1,\n",
       "         None],\n",
       "        ['MGLU3', '3.99.01.01', 'ON', 73853, datetime.date(2018, 5, 7),\n",
       "         datetime.date(2018, 3, 31), 2018, 1, 780.0],\n",
       "        ['MGLU3', '3.99.02', 'Lucro Diluído por Ação', 73853,\n",
       "         datetime.date(2018, 5, 7), datetime.date(2018, 3, 31), 2018, 1,\n",
       "         None],\n",
       "        ['MGLU3', '3.99.02.01', 'ON', 73853, datetime.date(2018, 5, 7),\n",
       "         datetime.date(2018, 3, 31), 2018, 1, 777.0]], dtype=object)]"
      ]
     },
     "execution_count": 35,
     "metadata": {},
     "output_type": "execute_result"
    }
   ],
   "source": [
    "tabela"
   ]
  },
  {
   "cell_type": "code",
   "execution_count": 47,
   "metadata": {},
   "outputs": [
    {
     "ename": "NameError",
     "evalue": "name 'bi' is not defined",
     "output_type": "error",
     "traceback": [
      "\u001b[1;31m---------------------------------------------------------------------------\u001b[0m",
      "\u001b[1;31mNameError\u001b[0m                                 Traceback (most recent call last)",
      "\u001b[1;32m<ipython-input-47-321e2249dc65>\u001b[0m in \u001b[0;36m<module>\u001b[1;34m\u001b[0m\n\u001b[1;32m----> 1\u001b[1;33m \u001b[0mcon\u001b[0m \u001b[1;33m=\u001b[0m \u001b[0mbi\u001b[0m\u001b[1;33m.\u001b[0m\u001b[0msqlite\u001b[0m\u001b[1;33m(\u001b[0m\u001b[1;34mr'C:\\Users\\11111\\Desktop\\fmtpy\\db\\teste.db'\u001b[0m\u001b[1;33m)\u001b[0m\u001b[1;33m\u001b[0m\u001b[1;33m\u001b[0m\u001b[0m\n\u001b[0m",
      "\u001b[1;31mNameError\u001b[0m: name 'bi' is not defined"
     ]
    }
   ],
   "source": [
    "con = bi.sqlite(r'C:\\Users\\11111\\Desktop\\fmtpy\\db\\teste.db')"
   ]
  },
  {
   "cell_type": "code",
   "execution_count": 20,
   "metadata": {
    "scrolled": true
   },
   "outputs": [],
   "source": [
    "con.to_sql('teste4', tabela[0], tabela[1], 'append')"
   ]
  },
  {
   "cell_type": "code",
   "execution_count": 21,
   "metadata": {},
   "outputs": [],
   "source": [
    "dic = {'CD_ATIVO':'MGLU3'}"
   ]
  },
  {
   "cell_type": "code",
   "execution_count": 22,
   "metadata": {},
   "outputs": [],
   "source": [
    "con.delete_from('teste4', **dic)"
   ]
  },
  {
   "cell_type": "code",
   "execution_count": 46,
   "metadata": {},
   "outputs": [],
   "source": [
    "del bi"
   ]
  },
  {
   "cell_type": "code",
   "execution_count": 14,
   "metadata": {
    "scrolled": true
   },
   "outputs": [
    {
     "ename": "NameError",
     "evalue": "name 'con' is not defined",
     "output_type": "error",
     "traceback": [
      "\u001b[1;31m---------------------------------------------------------------------------\u001b[0m",
      "\u001b[1;31mNameError\u001b[0m                                 Traceback (most recent call last)",
      "\u001b[1;32m<ipython-input-14-23fd7b3cb131>\u001b[0m in \u001b[0;36m<module>\u001b[1;34m\u001b[0m\n\u001b[1;32m----> 1\u001b[1;33m \u001b[0mbi\u001b[0m\u001b[1;33m.\u001b[0m\u001b[0mFeatures\u001b[0m\u001b[1;33m(\u001b[0m\u001b[0mtabela\u001b[0m\u001b[1;33m[\u001b[0m\u001b[1;36m0\u001b[0m\u001b[1;33m]\u001b[0m\u001b[1;33m,\u001b[0m \u001b[0mtabela\u001b[0m\u001b[1;33m[\u001b[0m\u001b[1;36m1\u001b[0m\u001b[1;33m]\u001b[0m\u001b[1;33m,\u001b[0m \u001b[1;34m'VALE3'\u001b[0m\u001b[1;33m)\u001b[0m\u001b[1;33m.\u001b[0m\u001b[0mto_sql\u001b[0m\u001b[1;33m(\u001b[0m\u001b[0mcon\u001b[0m\u001b[1;33m,\u001b[0m \u001b[0mreplace\u001b[0m\u001b[1;33m=\u001b[0m\u001b[1;34m'CD_ATIVO'\u001b[0m\u001b[1;33m)\u001b[0m\u001b[1;33m\u001b[0m\u001b[1;33m\u001b[0m\u001b[0m\n\u001b[0m",
      "\u001b[1;32m~\\Desktop\\fmtpy\\fmtpy\\fmtpy\\bi.py\u001b[0m in \u001b[0;36mto_sql\u001b[1;34m(self, cnn, replace)\u001b[0m\n\u001b[0;32m     88\u001b[0m         \u001b[0mreplace\u001b[0m \u001b[1;33m=\u001b[0m \u001b[0mself\u001b[0m\u001b[1;33m.\u001b[0m\u001b[0mdictdelete\u001b[0m\u001b[1;33m(\u001b[0m\u001b[0mreplace\u001b[0m\u001b[1;33m=\u001b[0m\u001b[0mreplace\u001b[0m\u001b[1;33m)\u001b[0m\u001b[1;33m\u001b[0m\u001b[1;33m\u001b[0m\u001b[0m\n\u001b[0;32m     89\u001b[0m         \u001b[1;32mif\u001b[0m \u001b[0mreplace\u001b[0m\u001b[1;33m:\u001b[0m\u001b[1;33m\u001b[0m\u001b[1;33m\u001b[0m\u001b[0m\n\u001b[1;32m---> 90\u001b[1;33m             \u001b[0mcon\u001b[0m\u001b[1;33m.\u001b[0m\u001b[0mdelete_from\u001b[0m\u001b[1;33m(\u001b[0m\u001b[1;34m'teste3'\u001b[0m\u001b[1;33m,\u001b[0m \u001b[1;33m**\u001b[0m\u001b[0mdictdelete\u001b[0m\u001b[1;33m)\u001b[0m\u001b[1;33m\u001b[0m\u001b[1;33m\u001b[0m\u001b[0m\n\u001b[0m\u001b[0;32m     91\u001b[0m \u001b[1;33m\u001b[0m\u001b[0m\n\u001b[0;32m     92\u001b[0m         \u001b[0mcnn\u001b[0m\u001b[1;33m.\u001b[0m\u001b[0mto_sql\u001b[0m\u001b[1;33m(\u001b[0m\u001b[1;34m'teste3'\u001b[0m\u001b[1;33m,\u001b[0m \u001b[0mself\u001b[0m\u001b[1;33m.\u001b[0m\u001b[0mdados\u001b[0m\u001b[1;33m[\u001b[0m\u001b[1;36m0\u001b[0m\u001b[1;33m]\u001b[0m\u001b[1;33m,\u001b[0m \u001b[0mself\u001b[0m\u001b[1;33m.\u001b[0m\u001b[0mdados\u001b[0m\u001b[1;33m[\u001b[0m\u001b[1;36m1\u001b[0m\u001b[1;33m]\u001b[0m\u001b[1;33m,\u001b[0m \u001b[1;34m'append'\u001b[0m\u001b[1;33m)\u001b[0m\u001b[1;33m\u001b[0m\u001b[1;33m\u001b[0m\u001b[0m\n",
      "\u001b[1;31mNameError\u001b[0m: name 'con' is not defined"
     ]
    }
   ],
   "source": []
  },
  {
   "cell_type": "code",
   "execution_count": null,
   "metadata": {},
   "outputs": [],
   "source": []
  },
  {
   "cell_type": "code",
   "execution_count": 75,
   "metadata": {},
   "outputs": [
    {
     "data": {
      "text/plain": [
       "{'papel': 'HYPE3',\n",
       " 'site': False,\n",
       " 'balanco': <cvmpy.Raw at 0x1d2946d1198>,\n",
       " 'wdriver': 'C:\\\\Users\\\\11111\\\\Desktop\\\\Python\\\\chromedriver.exe',\n",
       " 'ind': 1,\n",
       " 'ano': 2019,\n",
       " 'tri': 1,\n",
       " 'ajustado': True}"
      ]
     },
     "execution_count": 75,
     "metadata": {},
     "output_type": "execute_result"
    }
   ],
   "source": [
    "x.__dict__"
   ]
  },
  {
   "cell_type": "code",
   "execution_count": 36,
   "metadata": {},
   "outputs": [],
   "source": [
    "tb_ativo=[['CD_ATIVO','CD_CVM','CNPJ','ISIN'],\n",
    " np.array([[x.papel, x.balanco.dados.__cd_cvm,\n",
    "x.balanco.dados.__cnpj,\n",
    "x.balanco.dados.isin()]])]"
   ]
  },
  {
   "cell_type": "code",
   "execution_count": 37,
   "metadata": {},
   "outputs": [
    {
     "data": {
      "text/plain": [
       "[['CD_ATIVO', 'CD_CVM', 'CNPJ', 'ISIN'],\n",
       " array([['MGLU3', '22470', '47.960.950/0001-21', 'Ordinária']],\n",
       "       dtype='<U18')]"
      ]
     },
     "execution_count": 37,
     "metadata": {},
     "output_type": "execute_result"
    }
   ],
   "source": [
    "tb_ativo"
   ]
  },
  {
   "cell_type": "code",
   "execution_count": 44,
   "metadata": {},
   "outputs": [],
   "source": [
    "relat = x.balanco.relatorios[2019]\n",
    "relatorios = np.array([list(relat[i]) for i in relat])\n",
    "relatorios = np.column_stack([relatorios, list(relat)])\n",
    "relatorios = np.column_stack([relatorios, [x.ano for i in list(relat)]])\n",
    "relatorios = np.column_stack([relatorios, [x.papel for i in list(relat)]])\n",
    "\n",
    "tb_relatorio = [['DATA_REF','DATA_ENT','CD_RELATORIO','TRIMESTRE', 'ANO', 'CD_ATIVO'], relatorios]"
   ]
  },
  {
   "cell_type": "code",
   "execution_count": 45,
   "metadata": {},
   "outputs": [
    {
     "data": {
      "text/plain": [
       "[['DATA_REF', 'DATA_ENT', 'CD_RELATORIO', 'TRIMESTRE', 'ANO', 'CD_ATIVO'],\n",
       " array([[datetime.date(2019, 9, 30), datetime.date(2019, 10, 29), 88872,\n",
       "         3, 2018, 'MGLU3'],\n",
       "        [datetime.date(2019, 6, 30), datetime.date(2019, 8, 12), 86340, 2,\n",
       "         2018, 'MGLU3'],\n",
       "        [datetime.date(2019, 3, 31), datetime.date(2019, 5, 6), 82751, 1,\n",
       "         2018, 'MGLU3'],\n",
       "        [datetime.date(2019, 12, 31), datetime.date(2020, 2, 17), 90983,\n",
       "         4, 2018, 'MGLU3']], dtype=object)]"
      ]
     },
     "execution_count": 45,
     "metadata": {},
     "output_type": "execute_result"
    }
   ],
   "source": [
    "tb_relatorio"
   ]
  },
  {
   "cell_type": "code",
   "execution_count": 22,
   "metadata": {
    "scrolled": true
   },
   "outputs": [
    {
     "data": {
      "text/plain": [
       "[['CD_ATIVO',\n",
       "  'CONTA',\n",
       "  'DS_CONTA',\n",
       "  'CD_RELATORIO',\n",
       "  'DATA_ENT',\n",
       "  'DATA_REF',\n",
       "  'ANO',\n",
       "  'TRIMESTRE',\n",
       "  'VALOR'],\n",
       " array([['MGLU3', '3.01', 'Receita de Venda de Bens e/ou Serviços', 82751,\n",
       "         datetime.date(2019, 5, 6), datetime.date(2019, 3, 31), 2019, 1,\n",
       "         4328984000.0],\n",
       "        ['MGLU3', '3.02', 'Custo dos Bens e/ou Serviços Vendidos', 82751,\n",
       "         datetime.date(2019, 5, 6), datetime.date(2019, 3, 31), 2019, 1,\n",
       "         -3117565000.0],\n",
       "        ['MGLU3', '3.03', 'Resultado Bruto', 82751,\n",
       "         datetime.date(2019, 5, 6), datetime.date(2019, 3, 31), 2019, 1,\n",
       "         1211419000.0],\n",
       "        ['MGLU3', '3.04', 'Despesas/Receitas Operacionais', 82751,\n",
       "         datetime.date(2019, 5, 6), datetime.date(2019, 3, 31), 2019, 1,\n",
       "         -919986000.0],\n",
       "        ['MGLU3', '3.04.01', 'Despesas com Vendas', 82751,\n",
       "         datetime.date(2019, 5, 6), datetime.date(2019, 3, 31), 2019, 1,\n",
       "         -692977000.0],\n",
       "        ['MGLU3', '3.04.02', 'Despesas Gerais e Administrativas', 82751,\n",
       "         datetime.date(2019, 5, 6), datetime.date(2019, 3, 31), 2019, 1,\n",
       "         -240214000.0],\n",
       "        ['MGLU3', '3.04.02.01', 'Gerais e Administrativas', 82751,\n",
       "         datetime.date(2019, 5, 6), datetime.date(2019, 3, 31), 2019, 1,\n",
       "         -136275000.0],\n",
       "        ['MGLU3', '3.04.02.02', 'Depreciação', 82751,\n",
       "         datetime.date(2019, 5, 6), datetime.date(2019, 3, 31), 2019, 1,\n",
       "         -103939000.0],\n",
       "        ['MGLU3', '3.04.03', 'Perdas pela Não Recuperabilidade de Ativos',\n",
       "         82751, datetime.date(2019, 5, 6), datetime.date(2019, 3, 31),\n",
       "         2019, 1, -12422000.0],\n",
       "        ['MGLU3', '3.04.04', 'Outras Receitas Operacionais', 82751,\n",
       "         datetime.date(2019, 5, 6), datetime.date(2019, 3, 31), 2019, 1,\n",
       "         25537000.0],\n",
       "        ['MGLU3', '3.04.05', 'Outras Despesas Operacionais', 82751,\n",
       "         datetime.date(2019, 5, 6), datetime.date(2019, 3, 31), 2019, 1,\n",
       "         None],\n",
       "        ['MGLU3', '3.04.06', 'Resultado de Equivalência Patrimonial',\n",
       "         82751, datetime.date(2019, 5, 6), datetime.date(2019, 3, 31),\n",
       "         2019, 1, 90000.0],\n",
       "        ['MGLU3', '3.05',\n",
       "         'Resultado Antes do Resultado Financeiro e dos Tributos', 82751,\n",
       "         datetime.date(2019, 5, 6), datetime.date(2019, 3, 31), 2019, 1,\n",
       "         291433000.0],\n",
       "        ['MGLU3', '3.06', 'Resultado Financeiro', 82751,\n",
       "         datetime.date(2019, 5, 6), datetime.date(2019, 3, 31), 2019, 1,\n",
       "         -98934000.0],\n",
       "        ['MGLU3', '3.06.01', 'Receitas Financeiras', 82751,\n",
       "         datetime.date(2019, 5, 6), datetime.date(2019, 3, 31), 2019, 1,\n",
       "         38022000.0],\n",
       "        ['MGLU3', '3.06.02', 'Despesas Financeiras', 82751,\n",
       "         datetime.date(2019, 5, 6), datetime.date(2019, 3, 31), 2019, 1,\n",
       "         -136956000.0],\n",
       "        ['MGLU3', '3.07', 'Resultado Antes dos Tributos sobre o Lucro',\n",
       "         82751, datetime.date(2019, 5, 6), datetime.date(2019, 3, 31),\n",
       "         2019, 1, 192499000.0],\n",
       "        ['MGLU3', '3.08',\n",
       "         'Imposto de Renda e Contribuição Social sobre o Lucro', 82751,\n",
       "         datetime.date(2019, 5, 6), datetime.date(2019, 3, 31), 2019, 1,\n",
       "         -60395000.0],\n",
       "        ['MGLU3', '3.08.01', 'Corrente', 82751, datetime.date(2019, 5, 6),\n",
       "         datetime.date(2019, 3, 31), 2019, 1, None],\n",
       "        ['MGLU3', '3.08.02', 'Diferido', 82751, datetime.date(2019, 5, 6),\n",
       "         datetime.date(2019, 3, 31), 2019, 1, None],\n",
       "        ['MGLU3', '3.09', 'Resultado Líquido das Operações Continuadas',\n",
       "         82751, datetime.date(2019, 5, 6), datetime.date(2019, 3, 31),\n",
       "         2019, 1, 132104000.0],\n",
       "        ['MGLU3', '3.10', 'Resultado Líquido de Operações Descontinuadas',\n",
       "         82751, datetime.date(2019, 5, 6), datetime.date(2019, 3, 31),\n",
       "         2019, 1, None],\n",
       "        ['MGLU3', '3.10.01',\n",
       "         'Lucro/Prejuízo Líquido das Operações Descontinuadas', 82751,\n",
       "         datetime.date(2019, 5, 6), datetime.date(2019, 3, 31), 2019, 1,\n",
       "         None],\n",
       "        ['MGLU3', '3.10.02',\n",
       "         'Ganhos/Perdas Líquidas sobre Ativos de Operações Descontinuadas',\n",
       "         82751, datetime.date(2019, 5, 6), datetime.date(2019, 3, 31),\n",
       "         2019, 1, None],\n",
       "        ['MGLU3', '3.11', 'Lucro/Prejuízo Consolidado do Período', 82751,\n",
       "         datetime.date(2019, 5, 6), datetime.date(2019, 3, 31), 2019, 1,\n",
       "         132104000.0],\n",
       "        ['MGLU3', '3.11.01', 'Atribuído a Sócios da Empresa Controladora',\n",
       "         82751, datetime.date(2019, 5, 6), datetime.date(2019, 3, 31),\n",
       "         2019, 1, 132104000.0],\n",
       "        ['MGLU3', '3.11.02', 'Atribuído a Sócios Não Controladores',\n",
       "         82751, datetime.date(2019, 5, 6), datetime.date(2019, 3, 31),\n",
       "         2019, 1, None],\n",
       "        ['MGLU3', '3.99', 'Lucro por Ação - (Reais / Ação)', 82751,\n",
       "         datetime.date(2019, 5, 6), datetime.date(2019, 3, 31), 2019, 1,\n",
       "         None],\n",
       "        ['MGLU3', '3.99.01', 'Lucro Básico por Ação', 82751,\n",
       "         datetime.date(2019, 5, 6), datetime.date(2019, 3, 31), 2019, 1,\n",
       "         None],\n",
       "        ['MGLU3', '3.99.01.01', 'ON', 82751, datetime.date(2019, 5, 6),\n",
       "         datetime.date(2019, 3, 31), 2019, 1, 699.0],\n",
       "        ['MGLU3', '3.99.02', 'Lucro Diluído por Ação', 82751,\n",
       "         datetime.date(2019, 5, 6), datetime.date(2019, 3, 31), 2019, 1,\n",
       "         None],\n",
       "        ['MGLU3', '3.99.02.01', 'ON', 82751, datetime.date(2019, 5, 6),\n",
       "         datetime.date(2019, 3, 31), 2019, 1, 693.0]], dtype=object)]"
      ]
     },
     "execution_count": 22,
     "metadata": {},
     "output_type": "execute_result"
    }
   ],
   "source": [
    "tabela"
   ]
  },
  {
   "cell_type": "code",
   "execution_count": 23,
   "metadata": {
    "scrolled": true
   },
   "outputs": [
    {
     "data": {
      "text/plain": [
       "\n",
       "--------  ----------  ---------------------------------------------------------------  ------------  ----------  ----------  ----  ---------  -------------\n",
       "CD_ATIVO  CONTA       DS_CONTA                                                         CD_RELATORIO  DATA_ENT    DATA_REF    ANO   TRIMESTRE  VALOR\n",
       "MGLU3     3.01        Receita de Venda de Bens e/ou Serviços                           82751         2019-05-06  2019-03-31  2019  1          4328984000.0\n",
       "MGLU3     3.02        Custo dos Bens e/ou Serviços Vendidos                            82751         2019-05-06  2019-03-31  2019  1          -3117565000.0\n",
       "MGLU3     3.03        Resultado Bruto                                                  82751         2019-05-06  2019-03-31  2019  1          1211419000.0\n",
       "MGLU3     3.04        Despesas/Receitas Operacionais                                   82751         2019-05-06  2019-03-31  2019  1          -919986000.0\n",
       "MGLU3     3.04.01     Despesas com Vendas                                              82751         2019-05-06  2019-03-31  2019  1          -692977000.0\n",
       "MGLU3     3.04.02     Despesas Gerais e Administrativas                                82751         2019-05-06  2019-03-31  2019  1          -240214000.0\n",
       "MGLU3     3.04.02.01  Gerais e Administrativas                                         82751         2019-05-06  2019-03-31  2019  1          -136275000.0\n",
       "MGLU3     3.04.02.02  Depreciação                                                      82751         2019-05-06  2019-03-31  2019  1          -103939000.0\n",
       "MGLU3     3.04.03     Perdas pela Não Recuperabilidade de Ativos                       82751         2019-05-06  2019-03-31  2019  1          -12422000.0\n",
       "MGLU3     3.04.04     Outras Receitas Operacionais                                     82751         2019-05-06  2019-03-31  2019  1          25537000.0\n",
       "MGLU3     3.04.05     Outras Despesas Operacionais                                     82751         2019-05-06  2019-03-31  2019  1\n",
       "MGLU3     3.04.06     Resultado de Equivalência Patrimonial                            82751         2019-05-06  2019-03-31  2019  1          90000.0\n",
       "MGLU3     3.05        Resultado Antes do Resultado Financeiro e dos Tributos           82751         2019-05-06  2019-03-31  2019  1          291433000.0\n",
       "MGLU3     3.06        Resultado Financeiro                                             82751         2019-05-06  2019-03-31  2019  1          -98934000.0\n",
       "MGLU3     3.06.01     Receitas Financeiras                                             82751         2019-05-06  2019-03-31  2019  1          38022000.0\n",
       "MGLU3     3.06.02     Despesas Financeiras                                             82751         2019-05-06  2019-03-31  2019  1          -136956000.0\n",
       "MGLU3     3.07        Resultado Antes dos Tributos sobre o Lucro                       82751         2019-05-06  2019-03-31  2019  1          192499000.0\n",
       "MGLU3     3.08        Imposto de Renda e Contribuição Social sobre o Lucro             82751         2019-05-06  2019-03-31  2019  1          -60395000.0\n",
       "MGLU3     3.08.01     Corrente                                                         82751         2019-05-06  2019-03-31  2019  1\n",
       "MGLU3     3.08.02     Diferido                                                         82751         2019-05-06  2019-03-31  2019  1\n",
       "MGLU3     3.09        Resultado Líquido das Operações Continuadas                      82751         2019-05-06  2019-03-31  2019  1          132104000.0\n",
       "MGLU3     3.10        Resultado Líquido de Operações Descontinuadas                    82751         2019-05-06  2019-03-31  2019  1\n",
       "MGLU3     3.10.01     Lucro/Prejuízo Líquido das Operações Descontinuadas              82751         2019-05-06  2019-03-31  2019  1\n",
       "MGLU3     3.10.02     Ganhos/Perdas Líquidas sobre Ativos de Operações Descontinuadas  82751         2019-05-06  2019-03-31  2019  1\n",
       "MGLU3     3.11        Lucro/Prejuízo Consolidado do Período                            82751         2019-05-06  2019-03-31  2019  1          132104000.0\n",
       "MGLU3     3.11.01     Atribuído a Sócios da Empresa Controladora                       82751         2019-05-06  2019-03-31  2019  1          132104000.0\n",
       "MGLU3     3.11.02     Atribuído a Sócios Não Controladores                             82751         2019-05-06  2019-03-31  2019  1\n",
       "MGLU3     3.99        Lucro por Ação - (Reais / Ação)                                  82751         2019-05-06  2019-03-31  2019  1\n",
       "MGLU3     3.99.01     Lucro Básico por Ação                                            82751         2019-05-06  2019-03-31  2019  1\n",
       "MGLU3     3.99.01.01  ON                                                               82751         2019-05-06  2019-03-31  2019  1          699.0\n",
       "MGLU3     3.99.02     Lucro Diluído por Ação                                           82751         2019-05-06  2019-03-31  2019  1\n",
       "MGLU3     3.99.02.01  ON                                                               82751         2019-05-06  2019-03-31  2019  1          693.0\n",
       "--------  ----------  ---------------------------------------------------------------  ------------  ----------  ----------  ----  ---------  -------------"
      ]
     },
     "execution_count": 23,
     "metadata": {},
     "output_type": "execute_result"
    }
   ],
   "source": [
    "bi.Features(tabela[0], tabela[1])"
   ]
  },
  {
   "cell_type": "code",
   "execution_count": 26,
   "metadata": {
    "scrolled": true
   },
   "outputs": [
    {
     "data": {
      "text/html": [
       "<div>\n",
       "<style scoped>\n",
       "    .dataframe tbody tr th:only-of-type {\n",
       "        vertical-align: middle;\n",
       "    }\n",
       "\n",
       "    .dataframe tbody tr th {\n",
       "        vertical-align: top;\n",
       "    }\n",
       "\n",
       "    .dataframe thead th {\n",
       "        text-align: right;\n",
       "    }\n",
       "</style>\n",
       "<table border=\"1\" class=\"dataframe\">\n",
       "  <thead>\n",
       "    <tr style=\"text-align: right;\">\n",
       "      <th></th>\n",
       "      <th>CD_ATIVO</th>\n",
       "      <th>CONTA</th>\n",
       "      <th>DS_CONTA</th>\n",
       "      <th>CD_RELATORIO</th>\n",
       "      <th>DATA_ENT</th>\n",
       "      <th>DATA_REF</th>\n",
       "      <th>ANO</th>\n",
       "      <th>TRIMESTRE</th>\n",
       "      <th>VALOR</th>\n",
       "    </tr>\n",
       "  </thead>\n",
       "  <tbody>\n",
       "    <tr>\n",
       "      <th>0</th>\n",
       "      <td>MGLU3</td>\n",
       "      <td>3.01</td>\n",
       "      <td>Receita de Venda de Bens e/ou Serviços</td>\n",
       "      <td>82751</td>\n",
       "      <td>2019-05-06</td>\n",
       "      <td>2019-03-31</td>\n",
       "      <td>2019</td>\n",
       "      <td>1</td>\n",
       "      <td>4,328,984,000.00</td>\n",
       "    </tr>\n",
       "    <tr>\n",
       "      <th>1</th>\n",
       "      <td>MGLU3</td>\n",
       "      <td>3.02</td>\n",
       "      <td>Custo dos Bens e/ou Serviços Vendidos</td>\n",
       "      <td>82751</td>\n",
       "      <td>2019-05-06</td>\n",
       "      <td>2019-03-31</td>\n",
       "      <td>2019</td>\n",
       "      <td>1</td>\n",
       "      <td>-3,117,565,000.00</td>\n",
       "    </tr>\n",
       "    <tr>\n",
       "      <th>2</th>\n",
       "      <td>MGLU3</td>\n",
       "      <td>3.03</td>\n",
       "      <td>Resultado Bruto</td>\n",
       "      <td>82751</td>\n",
       "      <td>2019-05-06</td>\n",
       "      <td>2019-03-31</td>\n",
       "      <td>2019</td>\n",
       "      <td>1</td>\n",
       "      <td>1,211,419,000.00</td>\n",
       "    </tr>\n",
       "    <tr>\n",
       "      <th>3</th>\n",
       "      <td>MGLU3</td>\n",
       "      <td>3.04</td>\n",
       "      <td>Despesas/Receitas Operacionais</td>\n",
       "      <td>82751</td>\n",
       "      <td>2019-05-06</td>\n",
       "      <td>2019-03-31</td>\n",
       "      <td>2019</td>\n",
       "      <td>1</td>\n",
       "      <td>-919,986,000.00</td>\n",
       "    </tr>\n",
       "    <tr>\n",
       "      <th>4</th>\n",
       "      <td>MGLU3</td>\n",
       "      <td>3.04.01</td>\n",
       "      <td>Despesas com Vendas</td>\n",
       "      <td>82751</td>\n",
       "      <td>2019-05-06</td>\n",
       "      <td>2019-03-31</td>\n",
       "      <td>2019</td>\n",
       "      <td>1</td>\n",
       "      <td>-692,977,000.00</td>\n",
       "    </tr>\n",
       "    <tr>\n",
       "      <th>5</th>\n",
       "      <td>MGLU3</td>\n",
       "      <td>3.04.02</td>\n",
       "      <td>Despesas Gerais e Administrativas</td>\n",
       "      <td>82751</td>\n",
       "      <td>2019-05-06</td>\n",
       "      <td>2019-03-31</td>\n",
       "      <td>2019</td>\n",
       "      <td>1</td>\n",
       "      <td>-240,214,000.00</td>\n",
       "    </tr>\n",
       "    <tr>\n",
       "      <th>6</th>\n",
       "      <td>MGLU3</td>\n",
       "      <td>3.04.02.01</td>\n",
       "      <td>Gerais e Administrativas</td>\n",
       "      <td>82751</td>\n",
       "      <td>2019-05-06</td>\n",
       "      <td>2019-03-31</td>\n",
       "      <td>2019</td>\n",
       "      <td>1</td>\n",
       "      <td>-136,275,000.00</td>\n",
       "    </tr>\n",
       "    <tr>\n",
       "      <th>7</th>\n",
       "      <td>MGLU3</td>\n",
       "      <td>3.04.02.02</td>\n",
       "      <td>Depreciação</td>\n",
       "      <td>82751</td>\n",
       "      <td>2019-05-06</td>\n",
       "      <td>2019-03-31</td>\n",
       "      <td>2019</td>\n",
       "      <td>1</td>\n",
       "      <td>-103,939,000.00</td>\n",
       "    </tr>\n",
       "    <tr>\n",
       "      <th>8</th>\n",
       "      <td>MGLU3</td>\n",
       "      <td>3.04.03</td>\n",
       "      <td>Perdas pela Não Recuperabilidade de Ativos</td>\n",
       "      <td>82751</td>\n",
       "      <td>2019-05-06</td>\n",
       "      <td>2019-03-31</td>\n",
       "      <td>2019</td>\n",
       "      <td>1</td>\n",
       "      <td>-12,422,000.00</td>\n",
       "    </tr>\n",
       "    <tr>\n",
       "      <th>9</th>\n",
       "      <td>MGLU3</td>\n",
       "      <td>3.04.04</td>\n",
       "      <td>Outras Receitas Operacionais</td>\n",
       "      <td>82751</td>\n",
       "      <td>2019-05-06</td>\n",
       "      <td>2019-03-31</td>\n",
       "      <td>2019</td>\n",
       "      <td>1</td>\n",
       "      <td>25,537,000.00</td>\n",
       "    </tr>\n",
       "    <tr>\n",
       "      <th>10</th>\n",
       "      <td>MGLU3</td>\n",
       "      <td>3.04.05</td>\n",
       "      <td>Outras Despesas Operacionais</td>\n",
       "      <td>82751</td>\n",
       "      <td>2019-05-06</td>\n",
       "      <td>2019-03-31</td>\n",
       "      <td>2019</td>\n",
       "      <td>1</td>\n",
       "      <td>None</td>\n",
       "    </tr>\n",
       "    <tr>\n",
       "      <th>11</th>\n",
       "      <td>MGLU3</td>\n",
       "      <td>3.04.06</td>\n",
       "      <td>Resultado de Equivalência Patrimonial</td>\n",
       "      <td>82751</td>\n",
       "      <td>2019-05-06</td>\n",
       "      <td>2019-03-31</td>\n",
       "      <td>2019</td>\n",
       "      <td>1</td>\n",
       "      <td>90,000.00</td>\n",
       "    </tr>\n",
       "    <tr>\n",
       "      <th>12</th>\n",
       "      <td>MGLU3</td>\n",
       "      <td>3.05</td>\n",
       "      <td>Resultado Antes do Resultado Financeiro e dos ...</td>\n",
       "      <td>82751</td>\n",
       "      <td>2019-05-06</td>\n",
       "      <td>2019-03-31</td>\n",
       "      <td>2019</td>\n",
       "      <td>1</td>\n",
       "      <td>291,433,000.00</td>\n",
       "    </tr>\n",
       "    <tr>\n",
       "      <th>13</th>\n",
       "      <td>MGLU3</td>\n",
       "      <td>3.06</td>\n",
       "      <td>Resultado Financeiro</td>\n",
       "      <td>82751</td>\n",
       "      <td>2019-05-06</td>\n",
       "      <td>2019-03-31</td>\n",
       "      <td>2019</td>\n",
       "      <td>1</td>\n",
       "      <td>-98,934,000.00</td>\n",
       "    </tr>\n",
       "    <tr>\n",
       "      <th>14</th>\n",
       "      <td>MGLU3</td>\n",
       "      <td>3.06.01</td>\n",
       "      <td>Receitas Financeiras</td>\n",
       "      <td>82751</td>\n",
       "      <td>2019-05-06</td>\n",
       "      <td>2019-03-31</td>\n",
       "      <td>2019</td>\n",
       "      <td>1</td>\n",
       "      <td>38,022,000.00</td>\n",
       "    </tr>\n",
       "    <tr>\n",
       "      <th>15</th>\n",
       "      <td>MGLU3</td>\n",
       "      <td>3.06.02</td>\n",
       "      <td>Despesas Financeiras</td>\n",
       "      <td>82751</td>\n",
       "      <td>2019-05-06</td>\n",
       "      <td>2019-03-31</td>\n",
       "      <td>2019</td>\n",
       "      <td>1</td>\n",
       "      <td>-136,956,000.00</td>\n",
       "    </tr>\n",
       "    <tr>\n",
       "      <th>16</th>\n",
       "      <td>MGLU3</td>\n",
       "      <td>3.07</td>\n",
       "      <td>Resultado Antes dos Tributos sobre o Lucro</td>\n",
       "      <td>82751</td>\n",
       "      <td>2019-05-06</td>\n",
       "      <td>2019-03-31</td>\n",
       "      <td>2019</td>\n",
       "      <td>1</td>\n",
       "      <td>192,499,000.00</td>\n",
       "    </tr>\n",
       "    <tr>\n",
       "      <th>17</th>\n",
       "      <td>MGLU3</td>\n",
       "      <td>3.08</td>\n",
       "      <td>Imposto de Renda e Contribuição Social sobre o...</td>\n",
       "      <td>82751</td>\n",
       "      <td>2019-05-06</td>\n",
       "      <td>2019-03-31</td>\n",
       "      <td>2019</td>\n",
       "      <td>1</td>\n",
       "      <td>-60,395,000.00</td>\n",
       "    </tr>\n",
       "    <tr>\n",
       "      <th>18</th>\n",
       "      <td>MGLU3</td>\n",
       "      <td>3.08.01</td>\n",
       "      <td>Corrente</td>\n",
       "      <td>82751</td>\n",
       "      <td>2019-05-06</td>\n",
       "      <td>2019-03-31</td>\n",
       "      <td>2019</td>\n",
       "      <td>1</td>\n",
       "      <td>None</td>\n",
       "    </tr>\n",
       "    <tr>\n",
       "      <th>19</th>\n",
       "      <td>MGLU3</td>\n",
       "      <td>3.08.02</td>\n",
       "      <td>Diferido</td>\n",
       "      <td>82751</td>\n",
       "      <td>2019-05-06</td>\n",
       "      <td>2019-03-31</td>\n",
       "      <td>2019</td>\n",
       "      <td>1</td>\n",
       "      <td>None</td>\n",
       "    </tr>\n",
       "    <tr>\n",
       "      <th>20</th>\n",
       "      <td>MGLU3</td>\n",
       "      <td>3.09</td>\n",
       "      <td>Resultado Líquido das Operações Continuadas</td>\n",
       "      <td>82751</td>\n",
       "      <td>2019-05-06</td>\n",
       "      <td>2019-03-31</td>\n",
       "      <td>2019</td>\n",
       "      <td>1</td>\n",
       "      <td>132,104,000.00</td>\n",
       "    </tr>\n",
       "    <tr>\n",
       "      <th>21</th>\n",
       "      <td>MGLU3</td>\n",
       "      <td>3.10</td>\n",
       "      <td>Resultado Líquido de Operações Descontinuadas</td>\n",
       "      <td>82751</td>\n",
       "      <td>2019-05-06</td>\n",
       "      <td>2019-03-31</td>\n",
       "      <td>2019</td>\n",
       "      <td>1</td>\n",
       "      <td>None</td>\n",
       "    </tr>\n",
       "    <tr>\n",
       "      <th>22</th>\n",
       "      <td>MGLU3</td>\n",
       "      <td>3.10.01</td>\n",
       "      <td>Lucro/Prejuízo Líquido das Operações Descontin...</td>\n",
       "      <td>82751</td>\n",
       "      <td>2019-05-06</td>\n",
       "      <td>2019-03-31</td>\n",
       "      <td>2019</td>\n",
       "      <td>1</td>\n",
       "      <td>None</td>\n",
       "    </tr>\n",
       "    <tr>\n",
       "      <th>23</th>\n",
       "      <td>MGLU3</td>\n",
       "      <td>3.10.02</td>\n",
       "      <td>Ganhos/Perdas Líquidas sobre Ativos de Operaçõ...</td>\n",
       "      <td>82751</td>\n",
       "      <td>2019-05-06</td>\n",
       "      <td>2019-03-31</td>\n",
       "      <td>2019</td>\n",
       "      <td>1</td>\n",
       "      <td>None</td>\n",
       "    </tr>\n",
       "    <tr>\n",
       "      <th>24</th>\n",
       "      <td>MGLU3</td>\n",
       "      <td>3.11</td>\n",
       "      <td>Lucro/Prejuízo Consolidado do Período</td>\n",
       "      <td>82751</td>\n",
       "      <td>2019-05-06</td>\n",
       "      <td>2019-03-31</td>\n",
       "      <td>2019</td>\n",
       "      <td>1</td>\n",
       "      <td>132,104,000.00</td>\n",
       "    </tr>\n",
       "    <tr>\n",
       "      <th>25</th>\n",
       "      <td>MGLU3</td>\n",
       "      <td>3.11.01</td>\n",
       "      <td>Atribuído a Sócios da Empresa Controladora</td>\n",
       "      <td>82751</td>\n",
       "      <td>2019-05-06</td>\n",
       "      <td>2019-03-31</td>\n",
       "      <td>2019</td>\n",
       "      <td>1</td>\n",
       "      <td>132,104,000.00</td>\n",
       "    </tr>\n",
       "    <tr>\n",
       "      <th>26</th>\n",
       "      <td>MGLU3</td>\n",
       "      <td>3.11.02</td>\n",
       "      <td>Atribuído a Sócios Não Controladores</td>\n",
       "      <td>82751</td>\n",
       "      <td>2019-05-06</td>\n",
       "      <td>2019-03-31</td>\n",
       "      <td>2019</td>\n",
       "      <td>1</td>\n",
       "      <td>None</td>\n",
       "    </tr>\n",
       "    <tr>\n",
       "      <th>27</th>\n",
       "      <td>MGLU3</td>\n",
       "      <td>3.99</td>\n",
       "      <td>Lucro por Ação - (Reais / Ação)</td>\n",
       "      <td>82751</td>\n",
       "      <td>2019-05-06</td>\n",
       "      <td>2019-03-31</td>\n",
       "      <td>2019</td>\n",
       "      <td>1</td>\n",
       "      <td>None</td>\n",
       "    </tr>\n",
       "    <tr>\n",
       "      <th>28</th>\n",
       "      <td>MGLU3</td>\n",
       "      <td>3.99.01</td>\n",
       "      <td>Lucro Básico por Ação</td>\n",
       "      <td>82751</td>\n",
       "      <td>2019-05-06</td>\n",
       "      <td>2019-03-31</td>\n",
       "      <td>2019</td>\n",
       "      <td>1</td>\n",
       "      <td>None</td>\n",
       "    </tr>\n",
       "    <tr>\n",
       "      <th>29</th>\n",
       "      <td>MGLU3</td>\n",
       "      <td>3.99.01.01</td>\n",
       "      <td>ON</td>\n",
       "      <td>82751</td>\n",
       "      <td>2019-05-06</td>\n",
       "      <td>2019-03-31</td>\n",
       "      <td>2019</td>\n",
       "      <td>1</td>\n",
       "      <td>699.00</td>\n",
       "    </tr>\n",
       "    <tr>\n",
       "      <th>30</th>\n",
       "      <td>MGLU3</td>\n",
       "      <td>3.99.02</td>\n",
       "      <td>Lucro Diluído por Ação</td>\n",
       "      <td>82751</td>\n",
       "      <td>2019-05-06</td>\n",
       "      <td>2019-03-31</td>\n",
       "      <td>2019</td>\n",
       "      <td>1</td>\n",
       "      <td>None</td>\n",
       "    </tr>\n",
       "    <tr>\n",
       "      <th>31</th>\n",
       "      <td>MGLU3</td>\n",
       "      <td>3.99.02.01</td>\n",
       "      <td>ON</td>\n",
       "      <td>82751</td>\n",
       "      <td>2019-05-06</td>\n",
       "      <td>2019-03-31</td>\n",
       "      <td>2019</td>\n",
       "      <td>1</td>\n",
       "      <td>693.00</td>\n",
       "    </tr>\n",
       "  </tbody>\n",
       "</table>\n",
       "</div>"
      ],
      "text/plain": [
       "   CD_ATIVO       CONTA                                           DS_CONTA  \\\n",
       "0     MGLU3        3.01             Receita de Venda de Bens e/ou Serviços   \n",
       "1     MGLU3        3.02              Custo dos Bens e/ou Serviços Vendidos   \n",
       "2     MGLU3        3.03                                    Resultado Bruto   \n",
       "3     MGLU3        3.04                     Despesas/Receitas Operacionais   \n",
       "4     MGLU3     3.04.01                                Despesas com Vendas   \n",
       "5     MGLU3     3.04.02                  Despesas Gerais e Administrativas   \n",
       "6     MGLU3  3.04.02.01                           Gerais e Administrativas   \n",
       "7     MGLU3  3.04.02.02                                        Depreciação   \n",
       "8     MGLU3     3.04.03         Perdas pela Não Recuperabilidade de Ativos   \n",
       "9     MGLU3     3.04.04                       Outras Receitas Operacionais   \n",
       "10    MGLU3     3.04.05                       Outras Despesas Operacionais   \n",
       "11    MGLU3     3.04.06              Resultado de Equivalência Patrimonial   \n",
       "12    MGLU3        3.05  Resultado Antes do Resultado Financeiro e dos ...   \n",
       "13    MGLU3        3.06                               Resultado Financeiro   \n",
       "14    MGLU3     3.06.01                               Receitas Financeiras   \n",
       "15    MGLU3     3.06.02                               Despesas Financeiras   \n",
       "16    MGLU3        3.07         Resultado Antes dos Tributos sobre o Lucro   \n",
       "17    MGLU3        3.08  Imposto de Renda e Contribuição Social sobre o...   \n",
       "18    MGLU3     3.08.01                                           Corrente   \n",
       "19    MGLU3     3.08.02                                           Diferido   \n",
       "20    MGLU3        3.09        Resultado Líquido das Operações Continuadas   \n",
       "21    MGLU3        3.10      Resultado Líquido de Operações Descontinuadas   \n",
       "22    MGLU3     3.10.01  Lucro/Prejuízo Líquido das Operações Descontin...   \n",
       "23    MGLU3     3.10.02  Ganhos/Perdas Líquidas sobre Ativos de Operaçõ...   \n",
       "24    MGLU3        3.11              Lucro/Prejuízo Consolidado do Período   \n",
       "25    MGLU3     3.11.01         Atribuído a Sócios da Empresa Controladora   \n",
       "26    MGLU3     3.11.02               Atribuído a Sócios Não Controladores   \n",
       "27    MGLU3        3.99                    Lucro por Ação - (Reais / Ação)   \n",
       "28    MGLU3     3.99.01                              Lucro Básico por Ação   \n",
       "29    MGLU3  3.99.01.01                                                 ON   \n",
       "30    MGLU3     3.99.02                             Lucro Diluído por Ação   \n",
       "31    MGLU3  3.99.02.01                                                 ON   \n",
       "\n",
       "   CD_RELATORIO    DATA_ENT    DATA_REF   ANO TRIMESTRE             VALOR  \n",
       "0         82751  2019-05-06  2019-03-31  2019         1  4,328,984,000.00  \n",
       "1         82751  2019-05-06  2019-03-31  2019         1 -3,117,565,000.00  \n",
       "2         82751  2019-05-06  2019-03-31  2019         1  1,211,419,000.00  \n",
       "3         82751  2019-05-06  2019-03-31  2019         1   -919,986,000.00  \n",
       "4         82751  2019-05-06  2019-03-31  2019         1   -692,977,000.00  \n",
       "5         82751  2019-05-06  2019-03-31  2019         1   -240,214,000.00  \n",
       "6         82751  2019-05-06  2019-03-31  2019         1   -136,275,000.00  \n",
       "7         82751  2019-05-06  2019-03-31  2019         1   -103,939,000.00  \n",
       "8         82751  2019-05-06  2019-03-31  2019         1    -12,422,000.00  \n",
       "9         82751  2019-05-06  2019-03-31  2019         1     25,537,000.00  \n",
       "10        82751  2019-05-06  2019-03-31  2019         1              None  \n",
       "11        82751  2019-05-06  2019-03-31  2019         1         90,000.00  \n",
       "12        82751  2019-05-06  2019-03-31  2019         1    291,433,000.00  \n",
       "13        82751  2019-05-06  2019-03-31  2019         1    -98,934,000.00  \n",
       "14        82751  2019-05-06  2019-03-31  2019         1     38,022,000.00  \n",
       "15        82751  2019-05-06  2019-03-31  2019         1   -136,956,000.00  \n",
       "16        82751  2019-05-06  2019-03-31  2019         1    192,499,000.00  \n",
       "17        82751  2019-05-06  2019-03-31  2019         1    -60,395,000.00  \n",
       "18        82751  2019-05-06  2019-03-31  2019         1              None  \n",
       "19        82751  2019-05-06  2019-03-31  2019         1              None  \n",
       "20        82751  2019-05-06  2019-03-31  2019         1    132,104,000.00  \n",
       "21        82751  2019-05-06  2019-03-31  2019         1              None  \n",
       "22        82751  2019-05-06  2019-03-31  2019         1              None  \n",
       "23        82751  2019-05-06  2019-03-31  2019         1              None  \n",
       "24        82751  2019-05-06  2019-03-31  2019         1    132,104,000.00  \n",
       "25        82751  2019-05-06  2019-03-31  2019         1    132,104,000.00  \n",
       "26        82751  2019-05-06  2019-03-31  2019         1              None  \n",
       "27        82751  2019-05-06  2019-03-31  2019         1              None  \n",
       "28        82751  2019-05-06  2019-03-31  2019         1              None  \n",
       "29        82751  2019-05-06  2019-03-31  2019         1            699.00  \n",
       "30        82751  2019-05-06  2019-03-31  2019         1              None  \n",
       "31        82751  2019-05-06  2019-03-31  2019         1            693.00  "
      ]
     },
     "execution_count": 26,
     "metadata": {},
     "output_type": "execute_result"
    }
   ],
   "source": [
    "pd.DataFrame(tabela[1], columns=tabela[0])[[]]"
   ]
  },
  {
   "cell_type": "code",
   "execution_count": 88,
   "metadata": {},
   "outputs": [
    {
     "data": {
      "text/plain": [
       "[['CD_ATIVO', 'CD_CVM', 'CNPJ', 'ISIN'],\n",
       " array(['HYPE3', '21431', '02.932.074/0001-91', 'BRHYPEACNOR0'],\n",
       "       dtype='<U18')]"
      ]
     },
     "execution_count": 88,
     "metadata": {},
     "output_type": "execute_result"
    }
   ],
   "source": [
    "tb_ativo"
   ]
  },
  {
   "cell_type": "code",
   "execution_count": 95,
   "metadata": {},
   "outputs": [],
   "source": [
    "f = bi.Features(tb_relatorio[0], tb_relatorio[1])"
   ]
  },
  {
   "cell_type": "code",
   "execution_count": 100,
   "metadata": {},
   "outputs": [
    {
     "data": {
      "text/plain": [
       "[['CD_RELATORIO', 'ANO', 'TRIMESTRE', 'DATA_REF', 'DATA_ENT'],\n",
       " array([[88825, 2019, 3, datetime.date(2019, 9, 30),\n",
       "         datetime.date(2019, 10, 25)],\n",
       "        [85629, 2019, 2, datetime.date(2019, 6, 30),\n",
       "         datetime.date(2019, 7, 26)],\n",
       "        [82439, 2019, 1, datetime.date(2019, 3, 31),\n",
       "         datetime.date(2019, 4, 26)],\n",
       "        [91427, 2019, 4, datetime.date(2019, 12, 31),\n",
       "         datetime.date(2020, 3, 6)]], dtype=object),\n",
       " '']"
      ]
     },
     "execution_count": 100,
     "metadata": {},
     "output_type": "execute_result"
    }
   ],
   "source": [
    "f['CD_RELATORIO','ANO','TRIMESTRE','DATA_REF','DATA_ENT'].np()"
   ]
  },
  {
   "cell_type": "code",
   "execution_count": 14,
   "metadata": {},
   "outputs": [],
   "source": [
    "s = bi.sqlite(r'C:\\Users\\11111\\Desktop\\fmtpy\\db\\teste.db')"
   ]
  },
  {
   "cell_type": "code",
   "execution_count": 21,
   "metadata": {},
   "outputs": [],
   "source": [
    "s.to_sql('teste1', tabela[0], tabela[1], 'replace')"
   ]
  },
  {
   "cell_type": "code",
   "execution_count": null,
   "metadata": {},
   "outputs": [],
   "source": []
  },
  {
   "cell_type": "code",
   "execution_count": null,
   "metadata": {},
   "outputs": [],
   "source": []
  }
 ],
 "metadata": {
  "kernelspec": {
   "display_name": "Python 3",
   "language": "python",
   "name": "python3"
  },
  "language_info": {
   "codemirror_mode": {
    "name": "ipython",
    "version": 3
   },
   "file_extension": ".py",
   "mimetype": "text/x-python",
   "name": "python",
   "nbconvert_exporter": "python",
   "pygments_lexer": "ipython3",
   "version": "3.7.3"
  }
 },
 "nbformat": 4,
 "nbformat_minor": 2
}
