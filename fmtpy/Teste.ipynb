{
 "cells": [
  {
   "cell_type": "code",
   "execution_count": 1,
   "metadata": {},
   "outputs": [],
   "source": [
    "import __init__ as teste\n"
   ]
  },
  {
   "cell_type": "code",
   "execution_count": 8,
   "metadata": {},
   "outputs": [],
   "source": [
    "x = teste.main.Dados_B3('MOVI3')"
   ]
  },
  {
   "cell_type": "code",
   "execution_count": 9,
   "metadata": {},
   "outputs": [
    {
     "name": "stdout",
     "output_type": "stream",
     "text": [
      "0\n",
      "1\n"
     ]
    },
    {
     "data": {
      "text/plain": [
       "23825"
      ]
     },
     "execution_count": 9,
     "metadata": {},
     "output_type": "execute_result"
    }
   ],
   "source": [
    "x.cd_cvm()"
   ]
  },
  {
   "cell_type": "code",
   "execution_count": null,
   "metadata": {},
   "outputs": [],
   "source": []
  },
  {
   "cell_type": "code",
   "execution_count": null,
   "metadata": {},
   "outputs": [],
   "source": []
  },
  {
   "cell_type": "code",
   "execution_count": 7,
   "metadata": {},
   "outputs": [],
   "source": [
    "x = teste.Balancos_invest('MOVI3')"
   ]
  },
  {
   "cell_type": "code",
   "execution_count": 8,
   "metadata": {},
   "outputs": [],
   "source": [
    "y = teste.Balancos_cvm('MOVI3', wdriver = r'C:\\Users\\11111\\Desktop\\Python\\chromedriver.exe')"
   ]
  },
  {
   "cell_type": "code",
   "execution_count": 9,
   "metadata": {
    "scrolled": true
   },
   "outputs": [
    {
     "data": {
      "text/plain": [
       "[array(['Conta', 'Descrição', '30/09/2017'], dtype='<U21'),\n",
       " array([['3.01', 'Receita de Venda de Bens e/ou Serviços', 675704.0],\n",
       "        ['3.02', 'Custo dos Bens e/ou Serviços Vendidos', -515585.0],\n",
       "        ['3.02.01', 'Custo das prestações de serviços', -117168.0],\n",
       "        ['3.02.02',\n",
       "         'Custo de venda de ativos utilizados na prestação de serviços',\n",
       "         -398417.0],\n",
       "        ['3.03', 'Resultado Bruto', 160119.0],\n",
       "        ['3.04', 'Despesas/Receitas Operacionais', -94754.0],\n",
       "        ['3.04.01', 'Despesas com Vendas', None],\n",
       "        ['3.04.02', 'Despesas Gerais e Administrativas', -73519.0],\n",
       "        ['3.04.02.01', 'Despesas administrativas e comerciais', -73519.0],\n",
       "        ['3.04.03', 'Perdas pela Não Recuperabilidade de Ativos', None],\n",
       "        ['3.04.04', 'Outras Receitas Operacionais', -21193.0],\n",
       "        ['3.04.04.01', 'Outras receitas (despesas) operacionais líquidas',\n",
       "         -21193.0],\n",
       "        ['3.04.05', 'Outras Despesas Operacionais', -42.0],\n",
       "        ['3.04.05.01', 'Despesas tributarias', -42.0],\n",
       "        ['3.04.06', 'Resultado de Equivalência Patrimonial', None],\n",
       "        ['3.05', 'Resultado Antes do Resultado Financeiro e dos Tributos',\n",
       "         65365.0],\n",
       "        ['3.06', 'Resultado Financeiro', -43770.0],\n",
       "        ['3.06.01', 'Receitas Financeiras', 16392.0],\n",
       "        ['3.06.02', 'Despesas Financeiras', -60162.0],\n",
       "        ['3.07', 'Resultado Antes dos Tributos sobre o Lucro', 21595.0],\n",
       "        ['3.08', 'Imposto de Renda e Contribuição Social sobre o Lucro',\n",
       "         -7494.0],\n",
       "        ['3.08.01', 'Corrente', None],\n",
       "        ['3.08.02', 'Diferido', None],\n",
       "        ['3.09', 'Resultado Líquido das Operações Continuadas', 14101.0],\n",
       "        ['3.10', 'Resultado Líquido de Operações Descontinuadas', 515.0],\n",
       "        ['3.10.01', 'Lucro/Prejuízo Líquido das Operações Descontinuadas',\n",
       "         None],\n",
       "        ['3.10.02',\n",
       "         'Ganhos/Perdas Líquidas sobre Ativos de Operações Descontinuadas',\n",
       "         515.0],\n",
       "        ['3.11', 'Lucro/Prejuízo Consolidado do Período', 14616.0],\n",
       "        ['3.11.01', 'Atribuído a Sócios da Empresa Controladora', 14616.0],\n",
       "        ['3.11.02', 'Atribuído a Sócios Não Controladores', None],\n",
       "        ['3.99', 'Lucro por Ação - (Reais / Ação)', 0.0],\n",
       "        ['3.99.01', 'Lucro Básico por Ação', 0.0],\n",
       "        ['3.99.01.01', 'ON', 0.0],\n",
       "        ['3.99.02', 'Lucro Diluído por Ação', 0.0]], dtype=object)]"
      ]
     },
     "execution_count": 9,
     "metadata": {},
     "output_type": "execute_result"
    }
   ],
   "source": [
    "x.serie(1,2018,3)"
   ]
  },
  {
   "cell_type": "code",
   "execution_count": null,
   "metadata": {
    "scrolled": true
   },
   "outputs": [],
   "source": [
    "y.serie(6,2016,4)"
   ]
  },
  {
   "cell_type": "code",
   "execution_count": 4,
   "metadata": {},
   "outputs": [
    {
     "data": {
      "text/plain": [
       "[(5, 2016, 3), (5, 2016, 2)]"
      ]
     },
     "execution_count": 4,
     "metadata": {},
     "output_type": "execute_result"
    }
   ],
   "source": [
    "list(y.indicador.series)"
   ]
  },
  {
   "cell_type": "code",
   "execution_count": 5,
   "metadata": {},
   "outputs": [
    {
     "data": {
      "text/plain": [
       "[['Conta', 'Descrição', '01/01/2016a30/09/2016'],\n",
       " ['6.01', 'Caixa Líquido Atividades Operacionais', '-317.623'],\n",
       " ['6.01.01', 'Caixa Gerado nas Operações', '909.498'],\n",
       " ['6.01.01.01', 'Lucro antes do imposto de renda', '61.564'],\n",
       " ['6.01.01.02', 'Depreciação / Amortizações', '67.013'],\n",
       " ['6.01.01.03',\n",
       "  'Custo de venda de ativos utilizados na prestação de serviços - imobilizado',\n",
       "  '702.555'],\n",
       " ['6.01.01.05',\n",
       "  'Resultado de equivalência patrimonial de investimentos',\n",
       "  None],\n",
       " ['6.01.01.06',\n",
       "  'Provisão/reversão para demandas judiciais e administrativas',\n",
       "  '137'],\n",
       " ['6.01.01.07',\n",
       "  'Perdas estimadas com créditos de liquidação duvidosa',\n",
       "  '20.774'],\n",
       " ['6.01.01.08',\n",
       "  'Perdas/reversão com valor justo de instrumentos financeiros derivativos',\n",
       "  '13.952'],\n",
       " ['6.01.01.11',\n",
       "  'Juros e variações monetárias s/empréstimos e financiamentos',\n",
       "  '43.503'],\n",
       " ['6.01.02', 'Variações nos Ativos e Passivos', '-1.227.121'],\n",
       " ['6.01.02.01', 'Titulos e valores mobiliários', '-54.524'],\n",
       " ['6.01.02.02', 'Contas a receber', '-56.656'],\n",
       " ['6.01.02.04', 'Impostos a recuperar', '-4.166'],\n",
       " ['6.01.02.05', 'Depósitos judiciais', '30'],\n",
       " ['6.01.02.07', 'Outros créditos', '-8.436'],\n",
       " ['6.01.02.08', 'Despesas antecipadas', '-11.925'],\n",
       " ['6.01.02.09', 'Fornecedores', '121.837'],\n",
       " ['6.01.02.10', 'Obrigações trabalhistas e tributárias', '8.278'],\n",
       " ['6.01.02.11', 'Contas a pagar e adiantamentos', '-29.148'],\n",
       " ['6.01.02.12', 'Partes relacionadas', '-16.383'],\n",
       " ['6.01.02.15', 'Demandas judiciais e administrativas pagas', None],\n",
       " ['6.01.02.16', 'Imposto de renda e contribuição social pagos', '-18.340'],\n",
       " ['6.01.02.17',\n",
       "  'Juros pagos s/empréstimos e financiamentos, debêntures e outros passivos',\n",
       "  '-69.487'],\n",
       " ['6.01.02.18', 'Compra de ativo imobilizado operacional', '-1.088.201'],\n",
       " ['6.01.03', 'Outros', None],\n",
       " ['6.02', 'Caixa Líquido Atividades de Investimento', '-83.732'],\n",
       " ['6.02.02', 'Ativo imobilizado', '-80.065'],\n",
       " ['6.02.03', 'Intangível', '-3.667'],\n",
       " ['6.03', 'Caixa Líquido Atividades de Financiamento', '6.123'],\n",
       " ['6.03.01', 'Aumento em empréstimos e financiamentos líquidos', '105.171'],\n",
       " ['6.03.02', 'Redução em empréstimos e financiamentos', '-85.459'],\n",
       " ['6.03.03', 'Investimentos de operações (AFAC)', '2.912'],\n",
       " ['6.03.04', 'Dividendos pagos', '-16.501'],\n",
       " ['6.04', 'Variação Cambial s/ Caixa e Equivalentes', None],\n",
       " ['6.05', 'Aumento (Redução) de Caixa e Equivalentes', '-395.232'],\n",
       " ['6.05.01', 'Saldo Inicial de Caixa e Equivalentes', '460.579'],\n",
       " ['6.05.02', 'Saldo Final de Caixa e Equivalentes', '65.347']]"
      ]
     },
     "execution_count": 5,
     "metadata": {},
     "output_type": "execute_result"
    }
   ],
   "source": [
    "y.indicador.series[(5, 2016, 3)]"
   ]
  },
  {
   "cell_type": "code",
   "execution_count": null,
   "metadata": {},
   "outputs": [],
   "source": []
  },
  {
   "cell_type": "code",
   "execution_count": null,
   "metadata": {},
   "outputs": [],
   "source": []
  },
  {
   "cell_type": "code",
   "execution_count": null,
   "metadata": {},
   "outputs": [],
   "source": []
  },
  {
   "cell_type": "code",
   "execution_count": null,
   "metadata": {},
   "outputs": [],
   "source": []
  }
 ],
 "metadata": {
  "kernelspec": {
   "display_name": "Python 3",
   "language": "python",
   "name": "python3"
  },
  "language_info": {
   "codemirror_mode": {
    "name": "ipython",
    "version": 3
   },
   "file_extension": ".py",
   "mimetype": "text/x-python",
   "name": "python",
   "nbconvert_exporter": "python",
   "pygments_lexer": "ipython3",
   "version": "3.7.3"
  }
 },
 "nbformat": 4,
 "nbformat_minor": 2
}
