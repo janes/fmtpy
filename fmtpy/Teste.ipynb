{
 "cells": [
  {
   "cell_type": "code",
   "execution_count": 1,
   "metadata": {},
   "outputs": [],
   "source": [
    "import main\n",
    "import numpy as np\n",
    "import time"
   ]
  },
  {
   "cell_type": "code",
   "execution_count": 2,
   "metadata": {},
   "outputs": [],
   "source": [
    "import bi"
   ]
  },
  {
   "cell_type": "code",
   "execution_count": 3,
   "metadata": {},
   "outputs": [],
   "source": [
    "import cvmpy as cvm"
   ]
  },
  {
   "cell_type": "code",
   "execution_count": 4,
   "metadata": {},
   "outputs": [],
   "source": [
    "import numpy as np"
   ]
  },
  {
   "cell_type": "code",
   "execution_count": 5,
   "metadata": {},
   "outputs": [],
   "source": [
    "import pandas as pd\n",
    "pd.options.display.float_format = '{:,.2f}'.format"
   ]
  },
  {
   "cell_type": "code",
   "execution_count": 17,
   "metadata": {},
   "outputs": [],
   "source": [
    "x = main.Series(['GOLL4']).historico()"
   ]
  },
  {
   "cell_type": "code",
   "execution_count": 18,
   "metadata": {},
   "outputs": [
    {
     "data": {
      "text/plain": [
       "1.8327935678524045"
      ]
     },
     "execution_count": 18,
     "metadata": {},
     "output_type": "execute_result"
    }
   ],
   "source": [
    "x.coefbeta()"
   ]
  },
  {
   "cell_type": "code",
   "execution_count": null,
   "metadata": {},
   "outputs": [],
   "source": []
  },
  {
   "cell_type": "code",
   "execution_count": 15,
   "metadata": {},
   "outputs": [
    {
     "data": {
      "text/plain": [
       "1.2988357859324429"
      ]
     },
     "execution_count": 15,
     "metadata": {},
     "output_type": "execute_result"
    }
   ],
   "source": [
    "np.var([i*100 for i in x.coefbeta(1)][1])"
   ]
  },
  {
   "cell_type": "code",
   "execution_count": 26,
   "metadata": {},
   "outputs": [],
   "source": [
    "co = [i*100 for i in x.coefbeta(1)][1]"
   ]
  },
  {
   "cell_type": "code",
   "execution_count": 32,
   "metadata": {},
   "outputs": [
    {
     "data": {
      "text/plain": [
       "1.428719364525687"
      ]
     },
     "execution_count": 32,
     "metadata": {},
     "output_type": "execute_result"
    }
   ],
   "source": [
    "np.var(co, ddof=1)"
   ]
  },
  {
   "cell_type": "code",
   "execution_count": 29,
   "metadata": {},
   "outputs": [
    {
     "name": "stdout",
     "output_type": "stream",
     "text": [
      "1.47782244745569\n",
      "-1.7464234707316617\n",
      "-1.298070183920652\n",
      "0.23220557132426212\n",
      "0.8699844713711435\n",
      "1.444210836594051\n",
      "-1.783998433773426\n",
      "-0.45679564766697434\n",
      "1.0075523275999032\n",
      "-0.3117019758858586\n",
      "-0.05076037331345207\n"
     ]
    }
   ],
   "source": [
    "print('\\n'.join([str(i) for i in [i*100 for i in x.coefbeta(1)][1]]))"
   ]
  },
  {
   "cell_type": "code",
   "execution_count": 9,
   "metadata": {},
   "outputs": [
    {
     "data": {
      "text/plain": [
       "[array([ 0.56411519, -1.21108747, -0.12889368, -2.37601334,  0.20986367,\n",
       "         2.16614968,  0.17189519, -3.29979177, -0.66362749, -0.04133085,\n",
       "         1.45684158]),\n",
       " array([ 1.46700906, -1.76185336, -1.30656874,  0.23193639,  0.86622191,\n",
       "         1.43388145, -1.80010352, -0.45784215,  1.00251036, -0.31218878,\n",
       "        -0.05077326])]"
      ]
     },
     "execution_count": 9,
     "metadata": {},
     "output_type": "execute_result"
    }
   ],
   "source": [
    "[i*100 for i in x.coefbeta()]"
   ]
  },
  {
   "cell_type": "code",
   "execution_count": 8,
   "metadata": {},
   "outputs": [
    {
     "data": {
      "text/plain": [
       "0.4714703550926069"
      ]
     },
     "execution_count": 8,
     "metadata": {},
     "output_type": "execute_result"
    }
   ],
   "source": [
    "x.coefbeta()"
   ]
  },
  {
   "cell_type": "code",
   "execution_count": 18,
   "metadata": {},
   "outputs": [
    {
     "data": {
      "text/plain": [
       "[[20180417.0, 23.11, 0.0056570931244559475],\n",
       " [20180416.0, 22.98, -0.012037833190025826],\n",
       " [20180413.0, 23.26, -0.0012881064834692202],\n",
       " [20180412.0, 23.29, -0.02348008385744249],\n",
       " [20180411.0, 23.85, 0.0021008403361344463],\n",
       " [20180410.0, 23.8, 0.021897810218978186],\n",
       " [20180409.0, 23.29, 0.0017204301075268713],\n",
       " [20180406.0, 23.25, -0.03245942571785276],\n",
       " [20180405.0, 24.03, -0.006614303431169866],\n",
       " [20180404.0, 24.19, -0.00041322314049574427],\n",
       " [20180403.0, 24.2, 0.01467505241090139],\n",
       " [20180402.0, 23.85, 0.0]]"
      ]
     },
     "execution_count": 18,
     "metadata": {},
     "output_type": "execute_result"
    }
   ],
   "source": [
    "x.gera_retornos(1)['date', 'price', 'retornos'].np()[1].tolist()"
   ]
  },
  {
   "cell_type": "code",
   "execution_count": null,
   "metadata": {},
   "outputs": [],
   "source": []
  }
 ],
 "metadata": {
  "kernelspec": {
   "display_name": "Python 3",
   "language": "python",
   "name": "python3"
  },
  "language_info": {
   "codemirror_mode": {
    "name": "ipython",
    "version": 3
   },
   "file_extension": ".py",
   "mimetype": "text/x-python",
   "name": "python",
   "nbconvert_exporter": "python",
   "pygments_lexer": "ipython3",
   "version": "3.7.3"
  }
 },
 "nbformat": 4,
 "nbformat_minor": 2
}
