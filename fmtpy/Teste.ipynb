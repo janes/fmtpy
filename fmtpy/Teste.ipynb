{
 "cells": [
  {
   "cell_type": "code",
   "execution_count": 1,
   "metadata": {},
   "outputs": [],
   "source": [
    "import main\n",
    "import numpy as np\n",
    "import time\n",
    "import sqlite3"
   ]
  },
  {
   "cell_type": "code",
   "execution_count": 2,
   "metadata": {},
   "outputs": [],
   "source": [
    "import bi"
   ]
  },
  {
   "cell_type": "code",
   "execution_count": 3,
   "metadata": {},
   "outputs": [],
   "source": [
    "import cvmpy as cvm\n",
    "import invest as inv\n",
    "import opcoes as opc"
   ]
  },
  {
   "cell_type": "code",
   "execution_count": 4,
   "metadata": {},
   "outputs": [],
   "source": [
    "import numpy as np"
   ]
  },
  {
   "cell_type": "code",
   "execution_count": 5,
   "metadata": {},
   "outputs": [
    {
     "data": {
      "text/plain": [
       "([[['MOVIE205', 'CALL', 'A', datetime.date(2020, 5, 18), 20.5, 0.15],\n",
       "   ['MOVIL100', 'CALL', 'A', datetime.date(2020, 12, 21), 10.0, 1.7],\n",
       "   ['MOVIL120', 'CALL', 'A', datetime.date(2020, 12, 21), 12.0, 0.7],\n",
       "   ['MOVIX950', 'PUT', 'E', datetime.date(2020, 12, 21), 9.5, 1.0]]],\n",
       " ['MOVI3'])"
      ]
     },
     "execution_count": 5,
     "metadata": {},
     "output_type": "execute_result"
    }
   ],
   "source": [
    "opc.Opcoes(['MOVI3']).listar()"
   ]
  },
  {
   "cell_type": "code",
   "execution_count": 18,
   "metadata": {},
   "outputs": [
    {
     "data": {
      "text/plain": [
       "[['MOVIE205', 'CALL', 'A', datetime.date(2020, 5, 18), 20.5, 0.15],\n",
       " ['MOVIL100', 'CALL', 'A', datetime.date(2020, 12, 21), 10.0, 1.7],\n",
       " ['MOVIL120', 'CALL', 'A', datetime.date(2020, 12, 21), 12.0, 0.7],\n",
       " ['MOVIX950', 'PUT', 'E', datetime.date(2020, 12, 21), 9.5, 1.0]]"
      ]
     },
     "execution_count": 18,
     "metadata": {},
     "output_type": "execute_result"
    }
   ],
   "source": [
    "opc1[0]"
   ]
  },
  {
   "cell_type": "code",
   "execution_count": 22,
   "metadata": {},
   "outputs": [
    {
     "data": {
      "text/plain": [
       "MOVI3\n",
       "--------  ----  ---  ----------  ------  -----\n",
       "ativo     tipo  mod  vcto        strike  price\n",
       "MOVIE205  CALL  A    2020-05-18  20.5    0.15\n",
       "MOVIL100  CALL  A    2020-12-21  10.0    1.7\n",
       "MOVIL120  CALL  A    2020-12-21  12.0    0.7\n",
       "MOVIX950  PUT   E    2020-12-21  9.5     1.0\n",
       "--------  ----  ---  ----------  ------  -----"
      ]
     },
     "execution_count": 22,
     "metadata": {},
     "output_type": "execute_result"
    }
   ],
   "source": [
    "opc.Features(['ativo', 'tipo', 'mod', 'vcto', 'strike', 'price'], opc1[0], 'MOVI3')"
   ]
  },
  {
   "cell_type": "code",
   "execution_count": 14,
   "metadata": {},
   "outputs": [
    {
     "data": {
      "text/plain": [
       "['MOVI3']"
      ]
     },
     "execution_count": 14,
     "metadata": {},
     "output_type": "execute_result"
    }
   ],
   "source": [
    "papel"
   ]
  },
  {
   "cell_type": "code",
   "execution_count": null,
   "metadata": {},
   "outputs": [],
   "source": []
  },
  {
   "cell_type": "code",
   "execution_count": null,
   "metadata": {},
   "outputs": [],
   "source": []
  },
  {
   "cell_type": "code",
   "execution_count": null,
   "metadata": {},
   "outputs": [],
   "source": []
  },
  {
   "cell_type": "code",
   "execution_count": null,
   "metadata": {},
   "outputs": [],
   "source": []
  }
 ],
 "metadata": {
  "kernelspec": {
   "display_name": "Python 3",
   "language": "python",
   "name": "python3"
  },
  "language_info": {
   "codemirror_mode": {
    "name": "ipython",
    "version": 3
   },
   "file_extension": ".py",
   "mimetype": "text/x-python",
   "name": "python",
   "nbconvert_exporter": "python",
   "pygments_lexer": "ipython3",
   "version": "3.7.3"
  }
 },
 "nbformat": 4,
 "nbformat_minor": 2
}
