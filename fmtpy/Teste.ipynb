{
 "cells": [
  {
   "cell_type": "code",
   "execution_count": 1,
   "metadata": {},
   "outputs": [],
   "source": [
    "import main\n",
    "import numpy as np"
   ]
  },
  {
   "cell_type": "code",
   "execution_count": 2,
   "metadata": {},
   "outputs": [],
   "source": [
    "import bi"
   ]
  },
  {
   "cell_type": "code",
   "execution_count": 3,
   "metadata": {},
   "outputs": [],
   "source": [
    "import cvmpy as cvm"
   ]
  },
  {
   "cell_type": "code",
   "execution_count": 4,
   "metadata": {},
   "outputs": [],
   "source": [
    "import numpy as np"
   ]
  },
  {
   "cell_type": "code",
   "execution_count": 5,
   "metadata": {},
   "outputs": [],
   "source": [
    "import pandas as pd\n",
    "pd.options.display.float_format = '{:,.2f}'.format"
   ]
  },
  {
   "cell_type": "code",
   "execution_count": 6,
   "metadata": {},
   "outputs": [],
   "source": [
    "x = main.Balanco('MOVI3')"
   ]
  },
  {
   "cell_type": "code",
   "execution_count": 27,
   "metadata": {},
   "outputs": [],
   "source": [
    "x = cvm.Balanco('HYPE3',r'C:\\Users\\11111\\Desktop\\Python\\chromedriver.exe')"
   ]
  },
  {
   "cell_type": "code",
   "execution_count": 28,
   "metadata": {},
   "outputs": [
    {
     "name": "stdout",
     "output_type": "stream",
     "text": [
      "Obtendo Resultado para HYPE3 referente ao 1º trimestre de 2019\n"
     ]
    },
    {
     "name": "stderr",
     "output_type": "stream",
     "text": [
      "C:\\Users\\11111\\Desktop\\fmtpy\\fmtpy\\fmtpy\\cvmpy.py:138: UserWarning: No parser was explicitly specified, so I'm using the best available HTML parser for this system (\"lxml\"). This usually isn't a problem, but if you run this code on another system, or in a different virtual environment, it may use a different parser and behave differently.\n",
      "\n",
      "The code that caused this warning is on line 138 of the file C:\\Users\\11111\\Desktop\\fmtpy\\fmtpy\\fmtpy\\cvmpy.py. To get rid of this warning, pass the additional argument 'features=\"lxml\"' to the BeautifulSoup constructor.\n",
      "\n",
      "  soup = BeautifulSoup(response)\n"
     ]
    }
   ],
   "source": [
    "tabela = x.get(1,2019,1,True)"
   ]
  },
  {
   "cell_type": "code",
   "execution_count": 9,
   "metadata": {},
   "outputs": [],
   "source": [
    "#x.balanco.relatorios"
   ]
  },
  {
   "cell_type": "code",
   "execution_count": 75,
   "metadata": {},
   "outputs": [
    {
     "data": {
      "text/plain": [
       "{'papel': 'HYPE3',\n",
       " 'site': False,\n",
       " 'balanco': <cvmpy.Raw at 0x1d2946d1198>,\n",
       " 'wdriver': 'C:\\\\Users\\\\11111\\\\Desktop\\\\Python\\\\chromedriver.exe',\n",
       " 'ind': 1,\n",
       " 'ano': 2019,\n",
       " 'tri': 1,\n",
       " 'ajustado': True}"
      ]
     },
     "execution_count": 75,
     "metadata": {},
     "output_type": "execute_result"
    }
   ],
   "source": [
    "x.__dict__"
   ]
  },
  {
   "cell_type": "code",
   "execution_count": 84,
   "metadata": {},
   "outputs": [],
   "source": [
    "tb_ativo=[['CD_ATIVO','CD_CVM','CNPJ','ISIN'],\n",
    " np.array([x.papel, x.balanco.dados.__cd_cvm,\n",
    "x.balanco.dados.__cnpj,\n",
    "x.balanco.dados.isin()])]"
   ]
  },
  {
   "cell_type": "code",
   "execution_count": 93,
   "metadata": {},
   "outputs": [],
   "source": [
    "relat = x.balanco.relatorios[x.ano]\n",
    "relatorios = np.array([list(relat[i]) for i in relat])\n",
    "relatorios = np.column_stack([relatorios, list(relat)])\n",
    "relatorios = np.column_stack([relatorios, [x.ano for i in list(relat)]])\n",
    "\n",
    "tb_relatorio = [['DATA_REF','DATA_ENT','CD_RELATORIO','TRIMESTRE', 'ANO'], relatorios]"
   ]
  },
  {
   "cell_type": "code",
   "execution_count": 88,
   "metadata": {},
   "outputs": [
    {
     "data": {
      "text/plain": [
       "[['CD_ATIVO', 'CD_CVM', 'CNPJ', 'ISIN'],\n",
       " array(['HYPE3', '21431', '02.932.074/0001-91', 'BRHYPEACNOR0'],\n",
       "       dtype='<U18')]"
      ]
     },
     "execution_count": 88,
     "metadata": {},
     "output_type": "execute_result"
    }
   ],
   "source": [
    "tb_ativo"
   ]
  },
  {
   "cell_type": "code",
   "execution_count": 95,
   "metadata": {},
   "outputs": [],
   "source": [
    "f = bi.Features(tb_relatorio[0], tb_relatorio[1])"
   ]
  },
  {
   "cell_type": "code",
   "execution_count": 96,
   "metadata": {},
   "outputs": [
    {
     "data": {
      "text/plain": [
       "\n",
       "----------  ----------  ------------  ---------  ----\n",
       "DATA_REF    DATA_ENT    CD_RELATORIO  TRIMESTRE  ANO\n",
       "2019-09-30  2019-10-25  88825         3          2019\n",
       "2019-06-30  2019-07-26  85629         2          2019\n",
       "2019-03-31  2019-04-26  82439         1          2019\n",
       "2019-12-31  2020-03-06  91427         4          2019\n",
       "----------  ----------  ------------  ---------  ----"
      ]
     },
     "execution_count": 96,
     "metadata": {},
     "output_type": "execute_result"
    }
   ],
   "source": [
    "f['RELATORIO','ANO','TRIMESTRE',]"
   ]
  },
  {
   "cell_type": "code",
   "execution_count": 14,
   "metadata": {},
   "outputs": [],
   "source": [
    "s = bi.sqlite(r'C:\\Users\\11111\\Desktop\\fmtpy\\db\\teste.db')"
   ]
  },
  {
   "cell_type": "code",
   "execution_count": 21,
   "metadata": {},
   "outputs": [],
   "source": [
    "s.to_sql('teste1', tabela[0], tabela[1], 'replace')"
   ]
  },
  {
   "cell_type": "code",
   "execution_count": null,
   "metadata": {},
   "outputs": [],
   "source": []
  },
  {
   "cell_type": "code",
   "execution_count": null,
   "metadata": {},
   "outputs": [],
   "source": []
  }
 ],
 "metadata": {
  "kernelspec": {
   "display_name": "Python 3",
   "language": "python",
   "name": "python3"
  },
  "language_info": {
   "codemirror_mode": {
    "name": "ipython",
    "version": 3
   },
   "file_extension": ".py",
   "mimetype": "text/x-python",
   "name": "python",
   "nbconvert_exporter": "python",
   "pygments_lexer": "ipython3",
   "version": "3.7.3"
  }
 },
 "nbformat": 4,
 "nbformat_minor": 2
}
