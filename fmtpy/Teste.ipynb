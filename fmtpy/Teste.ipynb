{
 "cells": [
  {
   "cell_type": "code",
   "execution_count": 1,
   "metadata": {},
   "outputs": [],
   "source": [
    "import __init__ as teste\n"
   ]
  },
  {
   "cell_type": "code",
   "execution_count": 8,
   "metadata": {},
   "outputs": [],
   "source": [
    "x = teste.main.Dados_B3('MOVI3')"
   ]
  },
  {
   "cell_type": "code",
   "execution_count": 9,
   "metadata": {},
   "outputs": [
    {
     "name": "stdout",
     "output_type": "stream",
     "text": [
      "0\n",
      "1\n"
     ]
    },
    {
     "data": {
      "text/plain": [
       "23825"
      ]
     },
     "execution_count": 9,
     "metadata": {},
     "output_type": "execute_result"
    }
   ],
   "source": [
    "x.cd_cvm()"
   ]
  },
  {
   "cell_type": "code",
   "execution_count": null,
   "metadata": {},
   "outputs": [],
   "source": []
  },
  {
   "cell_type": "code",
   "execution_count": null,
   "metadata": {},
   "outputs": [],
   "source": []
  },
  {
   "cell_type": "code",
   "execution_count": 16,
   "metadata": {},
   "outputs": [],
   "source": [
    "x = teste.Balancos_invest('MOVI3')"
   ]
  },
  {
   "cell_type": "code",
   "execution_count": 8,
   "metadata": {},
   "outputs": [],
   "source": [
    "y = teste.Balancos_cvm('MOVI3', wdriver = r'C:\\Users\\11111\\Desktop\\Python\\chromedriver.exe')"
   ]
  },
  {
   "cell_type": "code",
   "execution_count": 18,
   "metadata": {
    "scrolled": true
   },
   "outputs": [
    {
     "data": {
      "text/plain": [
       "[array(['Conta', 'Descrição', '01/01/2018a31/12/2018'], dtype='<U21'),\n",
       " array([['3.01', 'Receita de Venda de Bens e/ou Serviços', 2538599.0],\n",
       "        ['3.02', 'Custo dos Bens e/ou Serviços Vendidos', -1731963.0],\n",
       "        ['3.02.01', 'Custo das prestações de serviços', -439166.0],\n",
       "        ['3.02.02',\n",
       "         'Custo de venda de ativos utilizados na prestação de serviços',\n",
       "         -1292797.0],\n",
       "        ['3.03', 'Resultado Bruto', 806636.0],\n",
       "        ['3.04', 'Despesas/Receitas Operacionais', -426909.0],\n",
       "        ['3.04.01', 'Despesas com Vendas', None],\n",
       "        ['3.04.02', 'Despesas Gerais e Administrativas', -372250.0],\n",
       "        ['3.04.02.01', 'Despesas administrativas', -198370.0],\n",
       "        ['3.04.02.02', 'Despesas Comerciais', -173880.0],\n",
       "        ['3.04.03', 'Perdas pela Não Recuperabilidade de Ativos', 1351.0],\n",
       "        ['3.04.04', 'Outras Receitas Operacionais', -56010.0],\n",
       "        ['3.04.04.01', 'Outras receitas (despesas) operacionais líquidas',\n",
       "         -56010.0],\n",
       "        ['3.04.05', 'Outras Despesas Operacionais', None],\n",
       "        ['3.04.05.01', 'Despesas tributárias', None],\n",
       "        ['3.04.06', 'Resultado de Equivalência Patrimonial', None],\n",
       "        ['3.05', 'Resultado Antes do Resultado Financeiro e dos Tributos',\n",
       "         379727.0],\n",
       "        ['3.06', 'Resultado Financeiro', -172785.0],\n",
       "        ['3.06.01', 'Receitas Financeiras', 46351.0],\n",
       "        ['3.06.02', 'Despesas Financeiras', -219136.0],\n",
       "        ['3.07', 'Resultado Antes dos Tributos sobre o Lucro', 206942.0],\n",
       "        ['3.08', 'Imposto de Renda e Contribuição Social sobre o Lucro',\n",
       "         -47188.0],\n",
       "        ['3.08.01', 'Corrente', -20307.0],\n",
       "        ['3.08.02', 'Diferido', -26881.0],\n",
       "        ['3.09', 'Resultado Líquido das Operações Continuadas', 159754.0],\n",
       "        ['3.10', 'Resultado Líquido de Operações Descontinuadas', None],\n",
       "        ['3.10.01', 'Lucro/Prejuízo Líquido das Operações Descontinuadas',\n",
       "         None],\n",
       "        ['3.10.02',\n",
       "         'Ganhos/Perdas Líquidas sobre Ativos de Operações Descontinuadas',\n",
       "         None],\n",
       "        ['3.11', 'Lucro/Prejuízo Consolidado do Período', 159754.0],\n",
       "        ['3.11.01', 'Atribuído a Sócios da Empresa Controladora',\n",
       "         159754.0],\n",
       "        ['3.11.02', 'Atribuído a Sócios Não Controladores', None],\n",
       "        ['3.99', 'Lucro por Ação - (Reais / Ação)', 0.0],\n",
       "        ['3.99.01', 'Lucro Básico por Ação', 0.0],\n",
       "        ['3.99.01.01', 'ON', 0.7274],\n",
       "        ['3.99.02', 'Lucro Diluído por Ação', 0.0]], dtype=object)]"
      ]
     },
     "execution_count": 18,
     "metadata": {},
     "output_type": "execute_result"
    }
   ],
   "source": [
    "x.serie(1,2018,4, False)"
   ]
  },
  {
   "cell_type": "code",
   "execution_count": 14,
   "metadata": {
    "scrolled": true
   },
   "outputs": [
    {
     "data": {
      "text/plain": [
       "[array(['Conta', 'Descrição', '01/04/2016a30/06/2016'], dtype='<U21'),\n",
       " array([['3.01', 'Receita de Venda de Bens e/ou Serviços', 480168.0],\n",
       "        ['3.02', 'Custo dos Bens e/ou Serviços Vendidos', -378261.0],\n",
       "        ['3.03', 'Resultado Bruto', 101907.0],\n",
       "        ['3.04', 'Despesas/Receitas Operacionais', -59717.0],\n",
       "        ['3.04.01', 'Despesas com Vendas', None],\n",
       "        ['3.04.02', 'Despesas Gerais e Administrativas', -49173.0],\n",
       "        ['3.04.03', 'Perdas pela Não Recuperabilidade de Ativos', None],\n",
       "        ['3.04.04', 'Outras Receitas Operacionais', None],\n",
       "        ['3.04.05', 'Outras Despesas Operacionais', -10544.0],\n",
       "        ['3.04.06', 'Resultado de Equivalência Patrimonial', None],\n",
       "        ['3.05', 'Resultado Antes do Resultado Financeiro e dos Tributos',\n",
       "         42190.0],\n",
       "        ['3.06', 'Resultado Financeiro', -33275.0],\n",
       "        ['3.06.01', 'Receitas Financeiras', 11686.0],\n",
       "        ['3.06.02', 'Despesas Financeiras', -44961.0],\n",
       "        ['3.07', 'Resultado Antes dos Tributos sobre o Lucro', 8915.0],\n",
       "        ['3.08', 'Imposto de Renda e Contribuição Social sobre o Lucro',\n",
       "         -3276.0],\n",
       "        ['3.08.01', 'Corrente', 3167.0],\n",
       "        ['3.08.02', 'Diferido', -6443.0],\n",
       "        ['3.09', 'Resultado Líquido das Operações Continuadas', 5639.0],\n",
       "        ['3.10', 'Resultado Líquido de Operações Descontinuadas', 6147.0],\n",
       "        ['3.10.01', 'Lucro/Prejuízo Líquido das Operações Descontinuadas',\n",
       "         None],\n",
       "        ['3.10.02',\n",
       "         'Ganhos/Perdas Líquidas sobre Ativos de Operações Descontinuadas',\n",
       "         None],\n",
       "        ['3.11', 'Lucro/Prejuízo Consolidado do Período', 11786.0],\n",
       "        ['3.11.01', 'Atribuído a Sócios da Empresa Controladora', 11786.0],\n",
       "        ['3.11.02', 'Atribuído a Sócios Não Controladores', None],\n",
       "        ['3.99', 'Lucro por Ação - (Reais / Ação)', None],\n",
       "        ['3.99.01', 'Lucro Básico por Ação', None],\n",
       "        ['3.99.01.01', 'ON', 0.0],\n",
       "        ['3.99.02', 'Lucro Diluído por Ação', None]], dtype=object)]"
      ]
     },
     "execution_count": 14,
     "metadata": {},
     "output_type": "execute_result"
    }
   ],
   "source": [
    "y.serie(1,2016,2, False)"
   ]
  },
  {
   "cell_type": "code",
   "execution_count": 10,
   "metadata": {},
   "outputs": [
    {
     "data": {
      "text/plain": [
       "[(6, 2016, 4), (6, 2016, 3)]"
      ]
     },
     "execution_count": 10,
     "metadata": {},
     "output_type": "execute_result"
    }
   ],
   "source": [
    "list(y.indicador.series)"
   ]
  },
  {
   "cell_type": "code",
   "execution_count": 11,
   "metadata": {},
   "outputs": [
    {
     "data": {
      "text/plain": [
       "[['Conta', 'Descrição', '01/01/2016a30/09/2016'],\n",
       " ['7.01', 'Receitas', '1.406.813'],\n",
       " ['7.01.01', 'Vendas de Mercadorias, Produtos e Serviços', '1.427.535'],\n",
       " ['7.01.02', 'Outras Receitas', '-20.722'],\n",
       " ['7.01.02.01', 'Outras receitas operacionais', '52'],\n",
       " ['7.01.02.02',\n",
       "  'Perdas estimadas com créditos de liquidação duvidosa',\n",
       "  '-20.774'],\n",
       " ['7.01.03', 'Receitas refs. à Construção de Ativos Próprios', None],\n",
       " ['7.01.04', 'Provisão/Reversão de Créds. Liquidação Duvidosa', None],\n",
       " ['7.02', 'Insumos Adquiridos de Terceiros', '-1.072.666'],\n",
       " ['7.02.01', 'Custos Prods., Mercs. e Servs. Vendidos', '-346.026'],\n",
       " ['7.02.02', 'Materiais, Energia, Servs. de Terceiros e Outros', '-726.640'],\n",
       " ['7.02.03', 'Perda/Recuperação de Valores Ativos', None],\n",
       " ['7.02.04', 'Outros', None],\n",
       " ['7.03', 'Valor Adicionado Bruto', '334.147'],\n",
       " ['7.04', 'Retenções', '-60.258'],\n",
       " ['7.04.01', 'Depreciação, Amortização e Exaustão', '-60.258'],\n",
       " ['7.04.02', 'Outras', None],\n",
       " ['7.05', 'Valor Adicionado Líquido Produzido', '273.889'],\n",
       " ['7.06', 'Vlr Adicionado Recebido em Transferência', '58.140'],\n",
       " ['7.06.01', 'Resultado de Equivalência Patrimonial', None],\n",
       " ['7.06.02', 'Receitas Financeiras', '58.140'],\n",
       " ['7.06.03', 'Outros', None],\n",
       " ['7.07', 'Valor Adicionado Total a Distribuir', '332.029'],\n",
       " ['7.08', 'Distribuição do Valor Adicionado', '332.029'],\n",
       " ['7.08.01', 'Pessoal', '105.117'],\n",
       " ['7.08.01.01', 'Remuneração Direta', None],\n",
       " ['7.08.01.02', 'Benefícios', None],\n",
       " ['7.08.01.03', 'F.G.T.S.', None],\n",
       " ['7.08.01.04', 'Outros', None],\n",
       " ['7.08.02', 'Impostos, Taxas e Contribuições', '111.888'],\n",
       " ['7.08.02.01', 'Federais', '79.175'],\n",
       " ['7.08.02.02', 'Estaduais', '28.360'],\n",
       " ['7.08.02.03', 'Municipais', '4.353'],\n",
       " ['7.08.03', 'Remuneração de Capitais de Terceiros', '75.411'],\n",
       " ['7.08.03.01', 'Juros', None],\n",
       " ['7.08.03.02', 'Aluguéis', None],\n",
       " ['7.08.03.03', 'Outras', '75.411'],\n",
       " ['7.08.03.03.01', 'Juros e aluguéis', '75.411'],\n",
       " ['7.08.04', 'Remuneração de Capitais Próprios', '39.613'],\n",
       " ['7.08.04.01', 'Juros sobre o Capital Próprio', None],\n",
       " ['7.08.04.02', 'Dividendos', None],\n",
       " ['7.08.04.03', 'Lucros Retidos / Prejuízo do Período', '39.613'],\n",
       " ['7.08.04.04', 'Part. Não Controladores nos Lucros Retidos', None],\n",
       " ['7.08.05', 'Outros', None]]"
      ]
     },
     "execution_count": 11,
     "metadata": {},
     "output_type": "execute_result"
    }
   ],
   "source": [
    "y.indicador.series[(6, 2016, 3)]"
   ]
  },
  {
   "cell_type": "code",
   "execution_count": null,
   "metadata": {},
   "outputs": [],
   "source": []
  },
  {
   "cell_type": "code",
   "execution_count": null,
   "metadata": {},
   "outputs": [],
   "source": []
  },
  {
   "cell_type": "code",
   "execution_count": null,
   "metadata": {},
   "outputs": [],
   "source": []
  },
  {
   "cell_type": "code",
   "execution_count": null,
   "metadata": {},
   "outputs": [],
   "source": []
  }
 ],
 "metadata": {
  "kernelspec": {
   "display_name": "Python 3",
   "language": "python",
   "name": "python3"
  },
  "language_info": {
   "codemirror_mode": {
    "name": "ipython",
    "version": 3
   },
   "file_extension": ".py",
   "mimetype": "text/x-python",
   "name": "python",
   "nbconvert_exporter": "python",
   "pygments_lexer": "ipython3",
   "version": "3.7.3"
  }
 },
 "nbformat": 4,
 "nbformat_minor": 2
}
