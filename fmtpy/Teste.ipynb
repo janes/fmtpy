{
 "cells": [
  {
   "cell_type": "code",
   "execution_count": 1,
   "metadata": {},
   "outputs": [],
   "source": [
    "import main\n",
    "import numpy as np"
   ]
  },
  {
   "cell_type": "code",
   "execution_count": 2,
   "metadata": {},
   "outputs": [],
   "source": [
    "import bi"
   ]
  },
  {
   "cell_type": "code",
   "execution_count": 3,
   "metadata": {},
   "outputs": [],
   "source": [
    "import cvmpy as cvm"
   ]
  },
  {
   "cell_type": "code",
   "execution_count": 4,
   "metadata": {},
   "outputs": [],
   "source": [
    "import numpy as np"
   ]
  },
  {
   "cell_type": "code",
   "execution_count": 5,
   "metadata": {},
   "outputs": [],
   "source": [
    "import pandas as pd\n",
    "pd.options.display.float_format = '{:,.2f}'.format"
   ]
  },
  {
   "cell_type": "code",
   "execution_count": 6,
   "metadata": {},
   "outputs": [],
   "source": [
    "#x = main.Dados('MGLU3')"
   ]
  },
  {
   "cell_type": "code",
   "execution_count": 7,
   "metadata": {},
   "outputs": [],
   "source": [
    "x = bi.Balancos('PETR4',r'C:\\Users\\11111\\Desktop\\Python\\chromedriver.exe')"
   ]
  },
  {
   "cell_type": "code",
   "execution_count": 8,
   "metadata": {},
   "outputs": [],
   "source": [
    "#x.balanco.__dict__"
   ]
  },
  {
   "cell_type": "code",
   "execution_count": 15,
   "metadata": {},
   "outputs": [],
   "source": [
    "z = x.balanco.relatorios_cvm(2019)"
   ]
  },
  {
   "cell_type": "code",
   "execution_count": 16,
   "metadata": {},
   "outputs": [
    {
     "data": {
      "text/plain": [
       "{2019: {3: array([datetime.date(2019, 9, 30), datetime.date(2019, 10, 24), 88808],\n",
       "        dtype=object),\n",
       "  2: array([datetime.date(2019, 6, 30), datetime.date(2019, 8, 1), 85986],\n",
       "        dtype=object),\n",
       "  1: array([datetime.date(2019, 3, 31), datetime.date(2019, 5, 7), 82841],\n",
       "        dtype=object),\n",
       "  4: array([datetime.date(2019, 12, 31), datetime.date(2020, 2, 19), 91100],\n",
       "        dtype=object)}}"
      ]
     },
     "execution_count": 16,
     "metadata": {},
     "output_type": "execute_result"
    }
   ],
   "source": [
    "x.balanco.relatorios"
   ]
  },
  {
   "cell_type": "code",
   "execution_count": null,
   "metadata": {},
   "outputs": [],
   "source": [
    "relat"
   ]
  },
  {
   "cell_type": "code",
   "execution_count": null,
   "metadata": {},
   "outputs": [],
   "source": []
  },
  {
   "cell_type": "code",
   "execution_count": null,
   "metadata": {},
   "outputs": [],
   "source": []
  },
  {
   "cell_type": "code",
   "execution_count": 31,
   "metadata": {},
   "outputs": [],
   "source": [
    "x = main.Balanco('MOVI3')"
   ]
  },
  {
   "cell_type": "code",
   "execution_count": 8,
   "metadata": {},
   "outputs": [
    {
     "name": "stderr",
     "output_type": "stream",
     "text": [
      "C:\\Users\\11111\\Desktop\\fmtpy\\fmtpy\\fmtpy\\cvmpy.py:183: UserWarning: No parser was explicitly specified, so I'm using the best available HTML parser for this system (\"lxml\"). This usually isn't a problem, but if you run this code on another system, or in a different virtual environment, it may use a different parser and behave differently.\n",
      "\n",
      "The code that caused this warning is on line 183 of the file C:\\Users\\11111\\Desktop\\fmtpy\\fmtpy\\fmtpy\\cvmpy.py. To get rid of this warning, pass the additional argument 'features=\"lxml\"' to the BeautifulSoup constructor.\n",
      "\n",
      "  soup = BeautifulSoup(response)\n"
     ]
    }
   ],
   "source": [
    "tabela = x.get(1,2019,1)"
   ]
  },
  {
   "cell_type": "code",
   "execution_count": 9,
   "metadata": {
    "scrolled": true
   },
   "outputs": [
    {
     "data": {
      "text/plain": [
       "[['CD_CVM',\n",
       "  'IND',\n",
       "  'CD_RELATORIO',\n",
       "  'CONTA',\n",
       "  'DS_CONTA',\n",
       "  'DATA_ENT',\n",
       "  'DATA_REF',\n",
       "  'ANO',\n",
       "  'TRIMESTRE',\n",
       "  'VALOR'],\n",
       " array([[9512, 1, 82841, '3.01', 'Receita de Venda de Bens e/ou Serviços',\n",
       "         datetime.date(2019, 5, 7), datetime.date(2019, 3, 31), 2019, 1,\n",
       "         79999000000.0],\n",
       "        [9512, 1, 82841, '3.02', 'Custo dos Bens e/ou Serviços Vendidos',\n",
       "         datetime.date(2019, 5, 7), datetime.date(2019, 3, 31), 2019, 1,\n",
       "         -53575000000.0],\n",
       "        [9512, 1, 82841, '3.03', 'Resultado Bruto',\n",
       "         datetime.date(2019, 5, 7), datetime.date(2019, 3, 31), 2019, 1,\n",
       "         26424000000.0],\n",
       "        [9512, 1, 82841, '3.04', 'Despesas/Receitas Operacionais',\n",
       "         datetime.date(2019, 5, 7), datetime.date(2019, 3, 31), 2019, 1,\n",
       "         -11909000000.0],\n",
       "        [9512, 1, 82841, '3.04.01', 'Despesas com Vendas',\n",
       "         datetime.date(2019, 5, 7), datetime.date(2019, 3, 31), 2019, 1,\n",
       "         -4134000000.0],\n",
       "        [9512, 1, 82841, '3.04.02', 'Despesas Gerais e Administrativas',\n",
       "         datetime.date(2019, 5, 7), datetime.date(2019, 3, 31), 2019, 1,\n",
       "         -2322000000.0],\n",
       "        [9512, 1, 82841, '3.04.03',\n",
       "         'Perdas pela Não Recuperabilidade de Ativos',\n",
       "         datetime.date(2019, 5, 7), datetime.date(2019, 3, 31), 2019, 1,\n",
       "         None],\n",
       "        [9512, 1, 82841, '3.04.04', 'Outras Receitas Operacionais',\n",
       "         datetime.date(2019, 5, 7), datetime.date(2019, 3, 31), 2019, 1,\n",
       "         None],\n",
       "        [9512, 1, 82841, '3.04.05', 'Outras Despesas Operacionais',\n",
       "         datetime.date(2019, 5, 7), datetime.date(2019, 3, 31), 2019, 1,\n",
       "         -5949000000.0],\n",
       "        [9512, 1, 82841, '3.04.05.01', 'Tributárias',\n",
       "         datetime.date(2019, 5, 7), datetime.date(2019, 3, 31), 2019, 1,\n",
       "         -389000000.0],\n",
       "        [9512, 1, 82841, '3.04.05.02',\n",
       "         'Custo com Pesquisa e Desenvolvimento Tecnológico',\n",
       "         datetime.date(2019, 5, 7), datetime.date(2019, 3, 31), 2019, 1,\n",
       "         -519000000.0],\n",
       "        [9512, 1, 82841, '3.04.05.03',\n",
       "         'Custo Exploratório para Extração de Petróleo e Gás',\n",
       "         datetime.date(2019, 5, 7), datetime.date(2019, 3, 31), 2019, 1,\n",
       "         -654000000.0],\n",
       "        [9512, 1, 82841, '3.04.05.04',\n",
       "         'Participação nos Lucros ou Resultados',\n",
       "         datetime.date(2019, 5, 7), datetime.date(2019, 3, 31), 2019, 1,\n",
       "         None],\n",
       "        [9512, 1, 82841, '3.04.05.05',\n",
       "         'Outras Despesas/Receitas Operacionais Líquidas',\n",
       "         datetime.date(2019, 5, 7), datetime.date(2019, 3, 31), 2019, 1,\n",
       "         -4387000000.0],\n",
       "        [9512, 1, 82841, '3.04.05.06',\n",
       "         'Baixa de gastos adicionais capitalizados indevidamente',\n",
       "         datetime.date(2019, 5, 7), datetime.date(2019, 3, 31), 2019, 1,\n",
       "         None],\n",
       "        [9512, 1, 82841, '3.04.05.07',\n",
       "         'Reversão/Perdas no valor de recuperação de ativos - Impairment',\n",
       "         datetime.date(2019, 5, 7), datetime.date(2019, 3, 31), 2019, 1,\n",
       "         None],\n",
       "        [9512, 1, 82841, '3.04.06',\n",
       "         'Resultado de Equivalência Patrimonial',\n",
       "         datetime.date(2019, 5, 7), datetime.date(2019, 3, 31), 2019, 1,\n",
       "         496000000.0],\n",
       "        [9512, 1, 82841, '3.05',\n",
       "         'Resultado Antes do Resultado Financeiro e dos Tributos',\n",
       "         datetime.date(2019, 5, 7), datetime.date(2019, 3, 31), 2019, 1,\n",
       "         14515000000.0],\n",
       "        [9512, 1, 82841, '3.06', 'Resultado Financeiro',\n",
       "         datetime.date(2019, 5, 7), datetime.date(2019, 3, 31), 2019, 1,\n",
       "         -8147000000.0],\n",
       "        [9512, 1, 82841, '3.06.01', 'Receitas Financeiras',\n",
       "         datetime.date(2019, 5, 7), datetime.date(2019, 3, 31), 2019, 1,\n",
       "         1366000000.0],\n",
       "        [9512, 1, 82841, '3.06.01.01', 'Receitas Financeiras',\n",
       "         datetime.date(2019, 5, 7), datetime.date(2019, 3, 31), 2019, 1,\n",
       "         1366000000.0],\n",
       "        [9512, 1, 82841, '3.06.01.02',\n",
       "         'Variações Monetárias e Cambiais Líquidas',\n",
       "         datetime.date(2019, 5, 7), datetime.date(2019, 3, 31), 2019, 1,\n",
       "         None],\n",
       "        [9512, 1, 82841, '3.06.02', 'Despesas Financeiras',\n",
       "         datetime.date(2019, 5, 7), datetime.date(2019, 3, 31), 2019, 1,\n",
       "         -9513000000.0],\n",
       "        [9512, 1, 82841, '3.06.02.01', 'Despesas Financeiras',\n",
       "         datetime.date(2019, 5, 7), datetime.date(2019, 3, 31), 2019, 1,\n",
       "         -6807000000.0],\n",
       "        [9512, 1, 82841, '3.06.02.02',\n",
       "         'Variações Monetárias e Cambiais Líquidas',\n",
       "         datetime.date(2019, 5, 7), datetime.date(2019, 3, 31), 2019, 1,\n",
       "         -2706000000.0],\n",
       "        [9512, 1, 82841, '3.07',\n",
       "         'Resultado Antes dos Tributos sobre o Lucro',\n",
       "         datetime.date(2019, 5, 7), datetime.date(2019, 3, 31), 2019, 1,\n",
       "         6368000000.0],\n",
       "        [9512, 1, 82841, '3.08',\n",
       "         'Imposto de Renda e Contribuição Social sobre o Lucro',\n",
       "         datetime.date(2019, 5, 7), datetime.date(2019, 3, 31), 2019, 1,\n",
       "         -2128000000.0],\n",
       "        [9512, 1, 82841, '3.08.01', 'Corrente', datetime.date(2019, 5, 7),\n",
       "         datetime.date(2019, 3, 31), 2019, 1, -2644000000.0],\n",
       "        [9512, 1, 82841, '3.08.02', 'Diferido', datetime.date(2019, 5, 7),\n",
       "         datetime.date(2019, 3, 31), 2019, 1, 516000000.0],\n",
       "        [9512, 1, 82841, '3.09',\n",
       "         'Resultado Líquido das Operações Continuadas',\n",
       "         datetime.date(2019, 5, 7), datetime.date(2019, 3, 31), 2019, 1,\n",
       "         4240000000.0],\n",
       "        [9512, 1, 82841, '3.10',\n",
       "         'Resultado Líquido de Operações Descontinuadas',\n",
       "         datetime.date(2019, 5, 7), datetime.date(2019, 3, 31), 2019, 1,\n",
       "         None],\n",
       "        [9512, 1, 82841, '3.10.01',\n",
       "         'Lucro/Prejuízo Líquido das Operações Descontinuadas',\n",
       "         datetime.date(2019, 5, 7), datetime.date(2019, 3, 31), 2019, 1,\n",
       "         None],\n",
       "        [9512, 1, 82841, '3.10.02',\n",
       "         'Ganhos/Perdas Líquidas sobre Ativos de Operações Descontinuadas',\n",
       "         datetime.date(2019, 5, 7), datetime.date(2019, 3, 31), 2019, 1,\n",
       "         None],\n",
       "        [9512, 1, 82841, '3.11', 'Lucro/Prejuízo Consolidado do Período',\n",
       "         datetime.date(2019, 5, 7), datetime.date(2019, 3, 31), 2019, 1,\n",
       "         4240000000.0],\n",
       "        [9512, 1, 82841, '3.11.01',\n",
       "         'Atribuído a Sócios da Empresa Controladora',\n",
       "         datetime.date(2019, 5, 7), datetime.date(2019, 3, 31), 2019, 1,\n",
       "         4031000000.0],\n",
       "        [9512, 1, 82841, '3.11.02',\n",
       "         'Atribuído a Sócios Não Controladores',\n",
       "         datetime.date(2019, 5, 7), datetime.date(2019, 3, 31), 2019, 1,\n",
       "         209000000.0],\n",
       "        [9512, 1, 82841, '3.99', 'Lucro por Ação - (Reais / Ação)',\n",
       "         datetime.date(2019, 5, 7), datetime.date(2019, 3, 31), 2019, 1,\n",
       "         None],\n",
       "        [9512, 1, 82841, '3.99.01', 'Lucro Básico por Ação',\n",
       "         datetime.date(2019, 5, 7), datetime.date(2019, 3, 31), 2019, 1,\n",
       "         None],\n",
       "        [9512, 1, 82841, '3.99.01.01', 'ON', datetime.date(2019, 5, 7),\n",
       "         datetime.date(2019, 3, 31), 2019, 1, 310.0],\n",
       "        [9512, 1, 82841, '3.99.01.02', 'PN', datetime.date(2019, 5, 7),\n",
       "         datetime.date(2019, 3, 31), 2019, 1, 310.0],\n",
       "        [9512, 1, 82841, '3.99.02', 'Lucro Diluído por Ação',\n",
       "         datetime.date(2019, 5, 7), datetime.date(2019, 3, 31), 2019, 1,\n",
       "         None],\n",
       "        [9512, 1, 82841, '3.99.02.01', 'ON', datetime.date(2019, 5, 7),\n",
       "         datetime.date(2019, 3, 31), 2019, 1, 310.0],\n",
       "        [9512, 1, 82841, '3.99.02.02', 'PN', datetime.date(2019, 5, 7),\n",
       "         datetime.date(2019, 3, 31), 2019, 1, 310.0]], dtype=object)]"
      ]
     },
     "execution_count": 9,
     "metadata": {},
     "output_type": "execute_result"
    }
   ],
   "source": [
    "tabela"
   ]
  },
  {
   "cell_type": "code",
   "execution_count": null,
   "metadata": {},
   "outputs": [],
   "source": []
  },
  {
   "cell_type": "code",
   "execution_count": 10,
   "metadata": {},
   "outputs": [],
   "source": [
    "tabela = x.fat_balancos_cvm_agregado(5,2019,4)"
   ]
  },
  {
   "cell_type": "code",
   "execution_count": 11,
   "metadata": {
    "scrolled": true
   },
   "outputs": [
    {
     "ename": "KeyError",
     "evalue": "1",
     "output_type": "error",
     "traceback": [
      "\u001b[1;31m---------------------------------------------------------------------------\u001b[0m",
      "\u001b[1;31mKeyError\u001b[0m                                  Traceback (most recent call last)",
      "\u001b[1;32m<ipython-input-11-00ffe8502d2c>\u001b[0m in \u001b[0;36m<module>\u001b[1;34m\u001b[0m\n\u001b[1;32m----> 1\u001b[1;33m \u001b[0mpd\u001b[0m\u001b[1;33m.\u001b[0m\u001b[0mDataFrame\u001b[0m\u001b[1;33m(\u001b[0m\u001b[0mtabela\u001b[0m\u001b[1;33m[\u001b[0m\u001b[1;36m1\u001b[0m\u001b[1;33m]\u001b[0m\u001b[1;33m,\u001b[0m \u001b[0mcolumns\u001b[0m\u001b[1;33m=\u001b[0m\u001b[0mtabela\u001b[0m\u001b[1;33m[\u001b[0m\u001b[1;36m0\u001b[0m\u001b[1;33m]\u001b[0m\u001b[1;33m)\u001b[0m\u001b[1;33m\u001b[0m\u001b[1;33m\u001b[0m\u001b[0m\n\u001b[0m",
      "\u001b[1;32m~\\Desktop\\fmtpy\\fmtpy\\fmtpy\\main.py\u001b[0m in \u001b[0;36m__getitem__\u001b[1;34m(self, *ativos)\u001b[0m\n\u001b[0;32m    325\u001b[0m     \u001b[1;32mdef\u001b[0m \u001b[0m__getitem__\u001b[0m\u001b[1;33m(\u001b[0m\u001b[0mself\u001b[0m\u001b[1;33m,\u001b[0m \u001b[1;33m*\u001b[0m\u001b[0mativos\u001b[0m\u001b[1;33m)\u001b[0m\u001b[1;33m:\u001b[0m\u001b[1;33m\u001b[0m\u001b[1;33m\u001b[0m\u001b[0m\n\u001b[0;32m    326\u001b[0m         \u001b[0mativos\u001b[0m \u001b[1;33m=\u001b[0m \u001b[0mativos\u001b[0m\u001b[1;33m[\u001b[0m\u001b[1;36m0\u001b[0m\u001b[1;33m]\u001b[0m \u001b[1;32mif\u001b[0m \u001b[0mtype\u001b[0m\u001b[1;33m(\u001b[0m\u001b[0mativos\u001b[0m\u001b[1;33m[\u001b[0m\u001b[1;36m0\u001b[0m\u001b[1;33m]\u001b[0m\u001b[1;33m)\u001b[0m\u001b[1;33m==\u001b[0m\u001b[0mtuple\u001b[0m \u001b[1;32melse\u001b[0m \u001b[0mativos\u001b[0m\u001b[1;33m\u001b[0m\u001b[1;33m\u001b[0m\u001b[0m\n\u001b[1;32m--> 327\u001b[1;33m         \u001b[1;32mreturn\u001b[0m \u001b[0mself\u001b[0m\u001b[1;33m.\u001b[0m\u001b[0m__class__\u001b[0m\u001b[1;33m(\u001b[0m\u001b[0mlist\u001b[0m\u001b[1;33m(\u001b[0m\u001b[0mativos\u001b[0m\u001b[1;33m)\u001b[0m\u001b[1;33m,\u001b[0m \u001b[0mnp\u001b[0m\u001b[1;33m.\u001b[0m\u001b[0mcolumn_stack\u001b[0m\u001b[1;33m(\u001b[0m\u001b[1;33m[\u001b[0m\u001b[0mself\u001b[0m\u001b[1;33m.\u001b[0m\u001b[0m__dict__\u001b[0m\u001b[1;33m[\u001b[0m\u001b[0mi\u001b[0m\u001b[1;33m]\u001b[0m \u001b[1;32mfor\u001b[0m \u001b[0mi\u001b[0m \u001b[1;32min\u001b[0m \u001b[0mativos\u001b[0m\u001b[1;33m]\u001b[0m\u001b[1;33m)\u001b[0m\u001b[1;33m,\u001b[0m \u001b[0mself\u001b[0m\u001b[1;33m.\u001b[0m\u001b[0mativo\u001b[0m\u001b[1;33m)\u001b[0m\u001b[1;33m\u001b[0m\u001b[1;33m\u001b[0m\u001b[0m\n\u001b[0m\u001b[0;32m    328\u001b[0m \u001b[1;33m\u001b[0m\u001b[0m\n\u001b[0;32m    329\u001b[0m     \u001b[1;31m# Retorna os dados em numpy\u001b[0m\u001b[1;33m\u001b[0m\u001b[1;33m\u001b[0m\u001b[1;33m\u001b[0m\u001b[0m\n",
      "\u001b[1;32m~\\Desktop\\fmtpy\\fmtpy\\fmtpy\\main.py\u001b[0m in \u001b[0;36m<listcomp>\u001b[1;34m(.0)\u001b[0m\n\u001b[0;32m    325\u001b[0m     \u001b[1;32mdef\u001b[0m \u001b[0m__getitem__\u001b[0m\u001b[1;33m(\u001b[0m\u001b[0mself\u001b[0m\u001b[1;33m,\u001b[0m \u001b[1;33m*\u001b[0m\u001b[0mativos\u001b[0m\u001b[1;33m)\u001b[0m\u001b[1;33m:\u001b[0m\u001b[1;33m\u001b[0m\u001b[1;33m\u001b[0m\u001b[0m\n\u001b[0;32m    326\u001b[0m         \u001b[0mativos\u001b[0m \u001b[1;33m=\u001b[0m \u001b[0mativos\u001b[0m\u001b[1;33m[\u001b[0m\u001b[1;36m0\u001b[0m\u001b[1;33m]\u001b[0m \u001b[1;32mif\u001b[0m \u001b[0mtype\u001b[0m\u001b[1;33m(\u001b[0m\u001b[0mativos\u001b[0m\u001b[1;33m[\u001b[0m\u001b[1;36m0\u001b[0m\u001b[1;33m]\u001b[0m\u001b[1;33m)\u001b[0m\u001b[1;33m==\u001b[0m\u001b[0mtuple\u001b[0m \u001b[1;32melse\u001b[0m \u001b[0mativos\u001b[0m\u001b[1;33m\u001b[0m\u001b[1;33m\u001b[0m\u001b[0m\n\u001b[1;32m--> 327\u001b[1;33m         \u001b[1;32mreturn\u001b[0m \u001b[0mself\u001b[0m\u001b[1;33m.\u001b[0m\u001b[0m__class__\u001b[0m\u001b[1;33m(\u001b[0m\u001b[0mlist\u001b[0m\u001b[1;33m(\u001b[0m\u001b[0mativos\u001b[0m\u001b[1;33m)\u001b[0m\u001b[1;33m,\u001b[0m \u001b[0mnp\u001b[0m\u001b[1;33m.\u001b[0m\u001b[0mcolumn_stack\u001b[0m\u001b[1;33m(\u001b[0m\u001b[1;33m[\u001b[0m\u001b[0mself\u001b[0m\u001b[1;33m.\u001b[0m\u001b[0m__dict__\u001b[0m\u001b[1;33m[\u001b[0m\u001b[0mi\u001b[0m\u001b[1;33m]\u001b[0m \u001b[1;32mfor\u001b[0m \u001b[0mi\u001b[0m \u001b[1;32min\u001b[0m \u001b[0mativos\u001b[0m\u001b[1;33m]\u001b[0m\u001b[1;33m)\u001b[0m\u001b[1;33m,\u001b[0m \u001b[0mself\u001b[0m\u001b[1;33m.\u001b[0m\u001b[0mativo\u001b[0m\u001b[1;33m)\u001b[0m\u001b[1;33m\u001b[0m\u001b[1;33m\u001b[0m\u001b[0m\n\u001b[0m\u001b[0;32m    328\u001b[0m \u001b[1;33m\u001b[0m\u001b[0m\n\u001b[0;32m    329\u001b[0m     \u001b[1;31m# Retorna os dados em numpy\u001b[0m\u001b[1;33m\u001b[0m\u001b[1;33m\u001b[0m\u001b[1;33m\u001b[0m\u001b[0m\n",
      "\u001b[1;31mKeyError\u001b[0m: 1"
     ]
    }
   ],
   "source": [
    "pd.DataFrame(tabela[1], columns=tabela[0])"
   ]
  },
  {
   "cell_type": "code",
   "execution_count": 7,
   "metadata": {},
   "outputs": [],
   "source": [
    "cnn = bi.sqlite(r'C:\\Users\\11111\\Desktop\\fmtpy\\db\\teste.db')"
   ]
  },
  {
   "cell_type": "code",
   "execution_count": 10,
   "metadata": {},
   "outputs": [],
   "source": [
    "z = bi.Upload(cnn, ['MOVI3'], [2013, 2015], r'C:\\Users\\11111\\Desktop\\Python\\chromedriver.exe')"
   ]
  },
  {
   "cell_type": "code",
   "execution_count": null,
   "metadata": {},
   "outputs": [],
   "source": []
  },
  {
   "cell_type": "code",
   "execution_count": 12,
   "metadata": {
    "scrolled": true
   },
   "outputs": [
    {
     "data": {
      "text/plain": [
       "\n",
       "------  ---  ------------  ----------  ---------------\n",
       "CD_CVM  IND  CD_RELATORIO  CONTA       VALOR\n",
       "9512    5    91100         6.01        101766000000.0\n",
       "9512    5    91100         6.01.01     134697000000.0\n",
       "9512    5    91100         6.01.01.01  40970000000.0\n",
       "9512    5    91100         6.01.01.02  8219000000.0\n",
       "9512    5    91100         6.01.01.03  -547000000.0\n",
       "9512    5    91100         6.01.01.04  58502000000.0\n",
       "9512    5    91100         6.01.01.05  11630000000.0\n",
       "9512    5    91100         6.01.01.06  1250000000.0\n",
       "9512    5    91100         6.01.01.07\n",
       "9512    5    91100         6.01.01.08  33259000000.0\n",
       "9512    5    91100         6.01.01.09  11036000000.0\n",
       "9512    5    91100         6.01.01.10  343000000.0\n",
       "9512    5    91100         6.01.01.11  68000000.0\n",
       "9512    5    91100         6.01.01.12\n",
       "9512    5    91100         6.01.01.13  3765000000.0\n",
       "9512    5    91100         6.01.01.15\n",
       "9512    5    91100         6.01.01.16\n",
       "9512    5    91100         6.01.01.17  -23670000000.0\n",
       "9512    5    91100         6.01.01.18  -10128000000.0\n",
       "9512    5    91100         6.01.02     -32931000000.0\n",
       "9512    5    91100         6.01.02.01  8578000000.0\n",
       "9512    5    91100         6.01.02.02  -1208000000.0\n",
       "9512    5    91100         6.01.02.03  -8427000000.0\n",
       "9512    5    91100         6.01.02.04  7424000000.0\n",
       "9512    5    91100         6.01.02.05  -655000000.0\n",
       "9512    5    91100         6.01.02.06  -3821000000.0\n",
       "9512    5    91100         6.01.02.07  870000000.0\n",
       "9512    5    91100         6.01.02.08  -7489000000.0\n",
       "9512    5    91100         6.01.02.09  -14922000000.0\n",
       "9512    5    91100         6.01.02.10  681000000.0\n",
       "9512    5    91100         6.01.02.11  -9198000000.0\n",
       "9512    5    91100         6.01.02.12  -2028000000.0\n",
       "9512    5    91100         6.01.02.13  -2892000000.0\n",
       "9512    5    91100         6.01.02.14  -1068000000.0\n",
       "9512    5    91100         6.01.02.15  1224000000.0\n",
       "9512    5    91100         6.01.03\n",
       "9512    5    91100         6.02        -7952000000.0\n",
       "9512    5    91100         6.02.01     -34010000000.0\n",
       "9512    5    91100         6.02.02     -29000000.0\n",
       "9512    5    91100         6.02.03     41049000000.0\n",
       "9512    5    91100         6.02.04     837000000.0\n",
       "9512    5    91100         6.02.05     5732000000.0\n",
       "9512    5    91100         6.02.06     -63141000000.0\n",
       "9512    5    91100         6.02.07     34414000000.0\n",
       "9512    5    91100         6.02.08     7196000000.0\n",
       "9512    5    91100         6.03        -126336000000.0\n",
       "9512    5    91100         6.03.01     -99000000.0\n",
       "9512    5    91100         6.03.02     29156000000.0\n",
       "9512    5    91100         6.03.03     -107090000000.0\n",
       "9512    5    91100         6.03.04     -17623000000.0\n",
       "9512    5    91100         6.03.05     -7488000000.0\n",
       "9512    5    91100         6.03.06     -550000000.0\n",
       "9512    5    91100         6.03.07\n",
       "9512    5    91100         6.03.08     -20660000000.0\n",
       "9512    5    91100         6.03.09     -1982000000.0\n",
       "9512    5    91100         6.04        8397000000.0\n",
       "9512    5    91100         6.05        -24125000000.0\n",
       "9512    5    91100         6.05.01     53854000000.0\n",
       "9512    5    91100         6.05.02     29729000000.0\n",
       "------  ---  ------------  ----------  ---------------"
      ]
     },
     "execution_count": 12,
     "metadata": {},
     "output_type": "execute_result"
    }
   ],
   "source": [
    "tabela"
   ]
  },
  {
   "cell_type": "code",
   "execution_count": 11,
   "metadata": {},
   "outputs": [
    {
     "ename": "NameError",
     "evalue": "name 'x' is not defined",
     "output_type": "error",
     "traceback": [
      "\u001b[1;31m---------------------------------------------------------------------------\u001b[0m",
      "\u001b[1;31mNameError\u001b[0m                                 Traceback (most recent call last)",
      "\u001b[1;32m<ipython-input-11-d5fa5cd21441>\u001b[0m in \u001b[0;36m<module>\u001b[1;34m\u001b[0m\n\u001b[1;32m----> 1\u001b[1;33m \u001b[0mx\u001b[0m\u001b[1;33m.\u001b[0m\u001b[0mbalanco\u001b[0m \u001b[1;33m=\u001b[0m \u001b[0mbi\u001b[0m\u001b[1;33m.\u001b[0m\u001b[0mBalancos\u001b[0m\u001b[1;33m(\u001b[0m\u001b[0mx\u001b[0m\u001b[1;33m.\u001b[0m\u001b[0macao\u001b[0m\u001b[1;33m[\u001b[0m\u001b[1;36m0\u001b[0m\u001b[1;33m]\u001b[0m\u001b[1;33m,\u001b[0m\u001b[0mx\u001b[0m\u001b[1;33m.\u001b[0m\u001b[0mwdriver\u001b[0m\u001b[1;33m)\u001b[0m\u001b[1;33m\u001b[0m\u001b[1;33m\u001b[0m\u001b[0m\n\u001b[0m\u001b[0;32m      2\u001b[0m \u001b[0mx\u001b[0m\u001b[1;33m.\u001b[0m\u001b[0mbalanco\u001b[0m\u001b[1;33m.\u001b[0m\u001b[0mbalanco\u001b[0m\u001b[1;33m.\u001b[0m\u001b[0mrelatorios_cvm\u001b[0m\u001b[1;33m(\u001b[0m\u001b[1;36m2013\u001b[0m\u001b[1;33m)\u001b[0m\u001b[1;33m\u001b[0m\u001b[1;33m\u001b[0m\u001b[0m\n",
      "\u001b[1;31mNameError\u001b[0m: name 'x' is not defined"
     ]
    }
   ],
   "source": [
    "x.balanco = bi.Balancos(x.acao[0],x.wdriver)\n",
    "x.balanco.balanco.relatorios_cvm(2013)"
   ]
  },
  {
   "cell_type": "code",
   "execution_count": 10,
   "metadata": {},
   "outputs": [
    {
     "name": "stdout",
     "output_type": "stream",
     "text": [
      "input 2 2019 1\n",
      "Obtendo Balanço Ativo para MOVI3 referente ao 1º trimestre de 2019\n"
     ]
    },
    {
     "ename": "IndexError",
     "evalue": "index 10 is out of bounds for axis 1 with size 10",
     "output_type": "error",
     "traceback": [
      "\u001b[1;31m---------------------------------------------------------------------------\u001b[0m",
      "\u001b[1;31mIndexError\u001b[0m                                Traceback (most recent call last)",
      "\u001b[1;32m<ipython-input-10-a3f1b43066f5>\u001b[0m in \u001b[0;36m<module>\u001b[1;34m\u001b[0m\n\u001b[1;32m----> 1\u001b[1;33m \u001b[0mx\u001b[0m\u001b[1;33m.\u001b[0m\u001b[0minput\u001b[0m\u001b[1;33m(\u001b[0m\u001b[1;36m2\u001b[0m\u001b[1;33m,\u001b[0m\u001b[1;36m2019\u001b[0m\u001b[1;33m,\u001b[0m\u001b[1;36m1\u001b[0m\u001b[1;33m)\u001b[0m\u001b[1;33m\u001b[0m\u001b[1;33m\u001b[0m\u001b[0m\n\u001b[0m",
      "\u001b[1;32m~\\Desktop\\fmtpy\\fmtpy\\fmtpy\\bi.py\u001b[0m in \u001b[0;36minput\u001b[1;34m(self, ind, ano, tri)\u001b[0m\n\u001b[0;32m    167\u001b[0m                 CD_RELATORIO=self.balanco.balanco.relatorios[ano][tri][2]):\n\u001b[0;32m    168\u001b[0m \u001b[1;33m\u001b[0m\u001b[0m\n\u001b[1;32m--> 169\u001b[1;33m             \u001b[0mself\u001b[0m\u001b[1;33m.\u001b[0m\u001b[0mbalanco\u001b[0m\u001b[1;33m.\u001b[0m\u001b[0mfat_balancos_cvm_agregado\u001b[0m\u001b[1;33m(\u001b[0m\u001b[0mind\u001b[0m\u001b[1;33m,\u001b[0m \u001b[0mano\u001b[0m\u001b[1;33m,\u001b[0m \u001b[0mtri\u001b[0m\u001b[1;33m)\u001b[0m\u001b[0;31m\\\u001b[0m\u001b[1;33m\u001b[0m\u001b[1;33m\u001b[0m\u001b[0m\n\u001b[0m\u001b[0;32m    170\u001b[0m                 \u001b[1;33m.\u001b[0m\u001b[0mto_sql\u001b[0m\u001b[1;33m(\u001b[0m\u001b[1;34m'fat_balancos_cvm_agregado'\u001b[0m\u001b[1;33m,\u001b[0m\u001b[0mself\u001b[0m\u001b[1;33m.\u001b[0m\u001b[0mcnn\u001b[0m\u001b[1;33m,\u001b[0m \u001b[0mcampos\u001b[0m\u001b[1;33m=\u001b[0m\u001b[1;33m[\u001b[0m\u001b[1;34m'CD_CVM'\u001b[0m\u001b[1;33m,\u001b[0m \u001b[1;34m'IND'\u001b[0m\u001b[1;33m,\u001b[0m \u001b[1;34m'CD_RELATORIO'\u001b[0m\u001b[1;33m]\u001b[0m\u001b[1;33m)\u001b[0m\u001b[1;33m\u001b[0m\u001b[1;33m\u001b[0m\u001b[0m\n\u001b[0;32m    171\u001b[0m \u001b[1;33m\u001b[0m\u001b[0m\n",
      "\u001b[1;32m~\\Desktop\\fmtpy\\fmtpy\\fmtpy\\bi.py\u001b[0m in \u001b[0;36mfat_balancos_cvm_agregado\u001b[1;34m(self, ind, ano, tri)\u001b[0m\n\u001b[0;32m    113\u001b[0m     \u001b[1;32mdef\u001b[0m \u001b[0mfat_balancos_cvm_agregado\u001b[0m\u001b[1;33m(\u001b[0m\u001b[0mself\u001b[0m\u001b[1;33m,\u001b[0m \u001b[0mind\u001b[0m\u001b[1;33m,\u001b[0m \u001b[0mano\u001b[0m\u001b[1;33m,\u001b[0m \u001b[0mtri\u001b[0m\u001b[1;33m)\u001b[0m\u001b[1;33m:\u001b[0m\u001b[1;33m\u001b[0m\u001b[1;33m\u001b[0m\u001b[0m\n\u001b[0;32m    114\u001b[0m         \u001b[0mtabela\u001b[0m \u001b[1;33m=\u001b[0m \u001b[0mself\u001b[0m\u001b[1;33m.\u001b[0m\u001b[0mget\u001b[0m\u001b[1;33m(\u001b[0m\u001b[0mind\u001b[0m\u001b[1;33m,\u001b[0m\u001b[0mano\u001b[0m\u001b[1;33m,\u001b[0m\u001b[0mtri\u001b[0m\u001b[1;33m,\u001b[0m\u001b[1;32mFalse\u001b[0m\u001b[1;33m)\u001b[0m\u001b[1;33m\u001b[0m\u001b[1;33m\u001b[0m\u001b[0m\n\u001b[1;32m--> 115\u001b[1;33m         \u001b[1;32mreturn\u001b[0m \u001b[0mFeatures\u001b[0m\u001b[1;33m(\u001b[0m\u001b[0mtabela\u001b[0m\u001b[1;33m[\u001b[0m\u001b[1;36m0\u001b[0m\u001b[1;33m]\u001b[0m\u001b[1;33m,\u001b[0m \u001b[0mtabela\u001b[0m\u001b[1;33m[\u001b[0m\u001b[1;36m1\u001b[0m\u001b[1;33m]\u001b[0m\u001b[1;33m)\u001b[0m\u001b[1;33m[\u001b[0m\u001b[1;34m'CD_CVM'\u001b[0m\u001b[1;33m,\u001b[0m \u001b[1;34m'IND'\u001b[0m\u001b[1;33m,\u001b[0m \u001b[1;34m'CD_RELATORIO'\u001b[0m\u001b[1;33m,\u001b[0m \u001b[1;34m'CONTA'\u001b[0m\u001b[1;33m,\u001b[0m \u001b[1;34m'VALOR'\u001b[0m\u001b[1;33m]\u001b[0m\u001b[1;33m\u001b[0m\u001b[1;33m\u001b[0m\u001b[0m\n\u001b[0m\u001b[0;32m    116\u001b[0m \u001b[1;33m\u001b[0m\u001b[0m\n\u001b[0;32m    117\u001b[0m     \u001b[1;32mdef\u001b[0m \u001b[0mdim_ativo\u001b[0m\u001b[1;33m(\u001b[0m\u001b[0mself\u001b[0m\u001b[1;33m)\u001b[0m\u001b[1;33m:\u001b[0m\u001b[1;33m\u001b[0m\u001b[1;33m\u001b[0m\u001b[0m\n",
      "\u001b[1;32m~\\Desktop\\fmtpy\\fmtpy\\fmtpy\\bi.py\u001b[0m in \u001b[0;36m__init__\u001b[1;34m(self, head, dados, nome)\u001b[0m\n\u001b[0;32m     84\u001b[0m \u001b[1;33m\u001b[0m\u001b[0m\n\u001b[0;32m     85\u001b[0m     \u001b[1;32mdef\u001b[0m \u001b[0m__init__\u001b[0m\u001b[1;33m(\u001b[0m\u001b[0mself\u001b[0m\u001b[1;33m,\u001b[0m \u001b[0mhead\u001b[0m\u001b[1;33m,\u001b[0m \u001b[0mdados\u001b[0m\u001b[1;33m,\u001b[0m \u001b[0mnome\u001b[0m\u001b[1;33m=\u001b[0m\u001b[1;34m''\u001b[0m\u001b[1;33m)\u001b[0m\u001b[1;33m:\u001b[0m\u001b[1;33m\u001b[0m\u001b[1;33m\u001b[0m\u001b[0m\n\u001b[1;32m---> 86\u001b[1;33m         \u001b[0msuper\u001b[0m\u001b[1;33m(\u001b[0m\u001b[1;33m)\u001b[0m\u001b[1;33m.\u001b[0m\u001b[0m__init__\u001b[0m\u001b[1;33m(\u001b[0m\u001b[0mhead\u001b[0m\u001b[1;33m,\u001b[0m \u001b[0mdados\u001b[0m\u001b[1;33m,\u001b[0m \u001b[0mnome\u001b[0m\u001b[1;33m)\u001b[0m\u001b[1;33m\u001b[0m\u001b[1;33m\u001b[0m\u001b[0m\n\u001b[0m\u001b[0;32m     87\u001b[0m \u001b[1;33m\u001b[0m\u001b[0m\n\u001b[0;32m     88\u001b[0m     \u001b[1;31m# no caso de replace, retorna os dados que serão deletados\u001b[0m\u001b[1;33m\u001b[0m\u001b[1;33m\u001b[0m\u001b[1;33m\u001b[0m\u001b[0m\n",
      "\u001b[1;32m~\\Desktop\\fmtpy\\fmtpy\\fmtpy\\main.py\u001b[0m in \u001b[0;36m__init__\u001b[1;34m(self, head, dados, nome)\u001b[0m\n\u001b[0;32m    315\u001b[0m         \u001b[0mself\u001b[0m\u001b[1;33m.\u001b[0m\u001b[0mativo\u001b[0m \u001b[1;33m=\u001b[0m \u001b[0mnome\u001b[0m\u001b[1;33m\u001b[0m\u001b[1;33m\u001b[0m\u001b[0m\n\u001b[0;32m    316\u001b[0m         \u001b[1;32mfor\u001b[0m \u001b[0mj\u001b[0m\u001b[1;33m,\u001b[0m \u001b[0mi\u001b[0m \u001b[1;32min\u001b[0m \u001b[0menumerate\u001b[0m\u001b[1;33m(\u001b[0m\u001b[0mself\u001b[0m\u001b[1;33m.\u001b[0m\u001b[0mhead\u001b[0m\u001b[1;33m)\u001b[0m\u001b[1;33m:\u001b[0m\u001b[1;33m\u001b[0m\u001b[1;33m\u001b[0m\u001b[0m\n\u001b[1;32m--> 317\u001b[1;33m             \u001b[0msetattr\u001b[0m\u001b[1;33m(\u001b[0m\u001b[0mself\u001b[0m\u001b[1;33m,\u001b[0m \u001b[0mi\u001b[0m\u001b[1;33m,\u001b[0m \u001b[0mself\u001b[0m\u001b[1;33m.\u001b[0m\u001b[0mdados\u001b[0m\u001b[1;33m[\u001b[0m\u001b[1;33m:\u001b[0m\u001b[1;33m,\u001b[0m\u001b[0mj\u001b[0m\u001b[1;33m]\u001b[0m\u001b[1;33m)\u001b[0m\u001b[1;33m\u001b[0m\u001b[1;33m\u001b[0m\u001b[0m\n\u001b[0m\u001b[0;32m    318\u001b[0m \u001b[1;33m\u001b[0m\u001b[0m\n\u001b[0;32m    319\u001b[0m     \u001b[1;32mdef\u001b[0m \u001b[0m__repr__\u001b[0m\u001b[1;33m(\u001b[0m\u001b[0mself\u001b[0m\u001b[1;33m)\u001b[0m\u001b[1;33m:\u001b[0m\u001b[1;33m\u001b[0m\u001b[1;33m\u001b[0m\u001b[0m\n",
      "\u001b[1;31mIndexError\u001b[0m: index 10 is out of bounds for axis 1 with size 10"
     ]
    }
   ],
   "source": [
    "x.input(2,2019,1)"
   ]
  },
  {
   "cell_type": "code",
   "execution_count": null,
   "metadata": {},
   "outputs": [],
   "source": []
  },
  {
   "cell_type": "code",
   "execution_count": 8,
   "metadata": {},
   "outputs": [
    {
     "name": "stdout",
     "output_type": "stream",
     "text": [
      "Obtendo Resultado para PETR4 referente ao 1º trimestre de 2019\n"
     ]
    },
    {
     "name": "stderr",
     "output_type": "stream",
     "text": [
      "C:\\Users\\11111\\Desktop\\fmtpy\\fmtpy\\fmtpy\\cvmpy.py:138: UserWarning: No parser was explicitly specified, so I'm using the best available HTML parser for this system (\"lxml\"). This usually isn't a problem, but if you run this code on another system, or in a different virtual environment, it may use a different parser and behave differently.\n",
      "\n",
      "The code that caused this warning is on line 138 of the file C:\\Users\\11111\\Desktop\\fmtpy\\fmtpy\\fmtpy\\cvmpy.py. To get rid of this warning, pass the additional argument 'features=\"lxml\"' to the BeautifulSoup constructor.\n",
      "\n",
      "  soup = BeautifulSoup(response)\n"
     ]
    },
    {
     "name": "stdout",
     "output_type": "stream",
     "text": [
      "1\n",
      "Obtendo Balanço Ativo para PETR4 referente ao 1º trimestre de 2019\n"
     ]
    },
    {
     "ename": "IndexError",
     "evalue": "index 10 is out of bounds for axis 1 with size 10",
     "output_type": "error",
     "traceback": [
      "\u001b[1;31m---------------------------------------------------------------------------\u001b[0m",
      "\u001b[1;31mIndexError\u001b[0m                                Traceback (most recent call last)",
      "\u001b[1;32m<ipython-input-8-613cc2b61f9b>\u001b[0m in \u001b[0;36m<module>\u001b[1;34m\u001b[0m\n\u001b[1;32m----> 1\u001b[1;33m \u001b[0mx\u001b[0m\u001b[1;33m.\u001b[0m\u001b[0mgo\u001b[0m\u001b[1;33m(\u001b[0m\u001b[1;33m)\u001b[0m\u001b[1;33m\u001b[0m\u001b[1;33m\u001b[0m\u001b[0m\n\u001b[0m",
      "\u001b[1;32m~\\Desktop\\fmtpy\\fmtpy\\fmtpy\\bi.py\u001b[0m in \u001b[0;36mgo\u001b[1;34m(self)\u001b[0m\n\u001b[0;32m    160\u001b[0m             \u001b[1;32mfor\u001b[0m \u001b[0mtri\u001b[0m \u001b[1;32min\u001b[0m \u001b[0mrange\u001b[0m\u001b[1;33m(\u001b[0m\u001b[1;36m1\u001b[0m\u001b[1;33m,\u001b[0m\u001b[1;36m5\u001b[0m\u001b[1;33m)\u001b[0m\u001b[1;33m:\u001b[0m\u001b[1;33m\u001b[0m\u001b[1;33m\u001b[0m\u001b[0m\n\u001b[0;32m    161\u001b[0m                 \u001b[1;32mfor\u001b[0m \u001b[0mind\u001b[0m \u001b[1;32min\u001b[0m \u001b[0mmain\u001b[0m\u001b[1;33m.\u001b[0m\u001b[0mindice_ind\u001b[0m\u001b[1;33m:\u001b[0m\u001b[1;33m\u001b[0m\u001b[1;33m\u001b[0m\u001b[0m\n\u001b[1;32m--> 162\u001b[1;33m                     \u001b[0mself\u001b[0m\u001b[1;33m.\u001b[0m\u001b[0minput\u001b[0m\u001b[1;33m(\u001b[0m\u001b[0mind\u001b[0m\u001b[1;33m,\u001b[0m \u001b[0mano\u001b[0m\u001b[1;33m,\u001b[0m \u001b[0mtri\u001b[0m\u001b[1;33m)\u001b[0m\u001b[1;33m\u001b[0m\u001b[1;33m\u001b[0m\u001b[0m\n\u001b[0m\u001b[0;32m    163\u001b[0m \u001b[1;33m\u001b[0m\u001b[0m\n\u001b[0;32m    164\u001b[0m     \u001b[1;32mdef\u001b[0m \u001b[0minput\u001b[0m\u001b[1;33m(\u001b[0m\u001b[0mself\u001b[0m\u001b[1;33m,\u001b[0m \u001b[0mind\u001b[0m\u001b[1;33m,\u001b[0m \u001b[0mano\u001b[0m\u001b[1;33m,\u001b[0m \u001b[0mtri\u001b[0m\u001b[1;33m)\u001b[0m\u001b[1;33m:\u001b[0m\u001b[1;33m\u001b[0m\u001b[1;33m\u001b[0m\u001b[0m\n",
      "\u001b[1;32m~\\Desktop\\fmtpy\\fmtpy\\fmtpy\\bi.py\u001b[0m in \u001b[0;36minput\u001b[1;34m(self, ind, ano, tri)\u001b[0m\n\u001b[0;32m    167\u001b[0m                 CD_RELATORIO=self.balanco.balanco.relatorios[ano][tri][2]):\n\u001b[0;32m    168\u001b[0m \u001b[1;33m\u001b[0m\u001b[0m\n\u001b[1;32m--> 169\u001b[1;33m             \u001b[0mself\u001b[0m\u001b[1;33m.\u001b[0m\u001b[0mbalanco\u001b[0m\u001b[1;33m.\u001b[0m\u001b[0mfat_balancos_cvm_agregado\u001b[0m\u001b[1;33m(\u001b[0m\u001b[0mind\u001b[0m\u001b[1;33m,\u001b[0m \u001b[0mano\u001b[0m\u001b[1;33m,\u001b[0m \u001b[0mtri\u001b[0m\u001b[1;33m)\u001b[0m\u001b[0;31m\\\u001b[0m\u001b[1;33m\u001b[0m\u001b[1;33m\u001b[0m\u001b[0m\n\u001b[0m\u001b[0;32m    170\u001b[0m                 \u001b[1;33m.\u001b[0m\u001b[0mto_sql\u001b[0m\u001b[1;33m(\u001b[0m\u001b[1;34m'fat_balancos_cvm_agregado'\u001b[0m\u001b[1;33m,\u001b[0m\u001b[0mself\u001b[0m\u001b[1;33m.\u001b[0m\u001b[0mcnn\u001b[0m\u001b[1;33m,\u001b[0m \u001b[0mcampos\u001b[0m\u001b[1;33m=\u001b[0m\u001b[1;33m[\u001b[0m\u001b[1;34m'CD_CVM'\u001b[0m\u001b[1;33m,\u001b[0m \u001b[1;34m'IND'\u001b[0m\u001b[1;33m,\u001b[0m \u001b[1;34m'CD_RELATORIO'\u001b[0m\u001b[1;33m]\u001b[0m\u001b[1;33m)\u001b[0m\u001b[1;33m\u001b[0m\u001b[1;33m\u001b[0m\u001b[0m\n\u001b[0;32m    171\u001b[0m \u001b[1;33m\u001b[0m\u001b[0m\n",
      "\u001b[1;32m~\\Desktop\\fmtpy\\fmtpy\\fmtpy\\bi.py\u001b[0m in \u001b[0;36mfat_balancos_cvm_agregado\u001b[1;34m(self, ind, ano, tri)\u001b[0m\n\u001b[0;32m    114\u001b[0m     \u001b[1;32mdef\u001b[0m \u001b[0mfat_balancos_cvm_agregado\u001b[0m\u001b[1;33m(\u001b[0m\u001b[0mself\u001b[0m\u001b[1;33m,\u001b[0m \u001b[0mind\u001b[0m\u001b[1;33m,\u001b[0m \u001b[0mano\u001b[0m\u001b[1;33m,\u001b[0m \u001b[0mtri\u001b[0m\u001b[1;33m)\u001b[0m\u001b[1;33m:\u001b[0m\u001b[1;33m\u001b[0m\u001b[1;33m\u001b[0m\u001b[0m\n\u001b[0;32m    115\u001b[0m         \u001b[0mtabela\u001b[0m \u001b[1;33m=\u001b[0m \u001b[0mself\u001b[0m\u001b[1;33m.\u001b[0m\u001b[0mget\u001b[0m\u001b[1;33m(\u001b[0m\u001b[0mind\u001b[0m\u001b[1;33m,\u001b[0m\u001b[0mano\u001b[0m\u001b[1;33m,\u001b[0m\u001b[0mtri\u001b[0m\u001b[1;33m,\u001b[0m\u001b[1;32mFalse\u001b[0m\u001b[1;33m)\u001b[0m\u001b[1;33m\u001b[0m\u001b[1;33m\u001b[0m\u001b[0m\n\u001b[1;32m--> 116\u001b[1;33m         \u001b[1;32mreturn\u001b[0m \u001b[0mFeatures\u001b[0m\u001b[1;33m(\u001b[0m\u001b[0mtabela\u001b[0m\u001b[1;33m[\u001b[0m\u001b[1;36m0\u001b[0m\u001b[1;33m]\u001b[0m\u001b[1;33m,\u001b[0m \u001b[0mtabela\u001b[0m\u001b[1;33m[\u001b[0m\u001b[1;36m1\u001b[0m\u001b[1;33m]\u001b[0m\u001b[1;33m)\u001b[0m\u001b[1;33m[\u001b[0m\u001b[1;34m'CD_CVM'\u001b[0m\u001b[1;33m,\u001b[0m \u001b[1;34m'IND'\u001b[0m\u001b[1;33m,\u001b[0m \u001b[1;34m'CD_RELATORIO'\u001b[0m\u001b[1;33m,\u001b[0m \u001b[1;34m'CONTA'\u001b[0m\u001b[1;33m,\u001b[0m \u001b[1;34m'VALOR'\u001b[0m\u001b[1;33m]\u001b[0m\u001b[1;33m\u001b[0m\u001b[1;33m\u001b[0m\u001b[0m\n\u001b[0m\u001b[0;32m    117\u001b[0m \u001b[1;33m\u001b[0m\u001b[0m\n\u001b[0;32m    118\u001b[0m     \u001b[1;32mdef\u001b[0m \u001b[0mdim_ativo\u001b[0m\u001b[1;33m(\u001b[0m\u001b[0mself\u001b[0m\u001b[1;33m)\u001b[0m\u001b[1;33m:\u001b[0m\u001b[1;33m\u001b[0m\u001b[1;33m\u001b[0m\u001b[0m\n",
      "\u001b[1;32m~\\Desktop\\fmtpy\\fmtpy\\fmtpy\\bi.py\u001b[0m in \u001b[0;36m__init__\u001b[1;34m(self, head, dados, nome)\u001b[0m\n\u001b[0;32m     84\u001b[0m \u001b[1;33m\u001b[0m\u001b[0m\n\u001b[0;32m     85\u001b[0m     \u001b[1;32mdef\u001b[0m \u001b[0m__init__\u001b[0m\u001b[1;33m(\u001b[0m\u001b[0mself\u001b[0m\u001b[1;33m,\u001b[0m \u001b[0mhead\u001b[0m\u001b[1;33m,\u001b[0m \u001b[0mdados\u001b[0m\u001b[1;33m,\u001b[0m \u001b[0mnome\u001b[0m\u001b[1;33m=\u001b[0m\u001b[1;34m''\u001b[0m\u001b[1;33m)\u001b[0m\u001b[1;33m:\u001b[0m\u001b[1;33m\u001b[0m\u001b[1;33m\u001b[0m\u001b[0m\n\u001b[1;32m---> 86\u001b[1;33m         \u001b[0msuper\u001b[0m\u001b[1;33m(\u001b[0m\u001b[1;33m)\u001b[0m\u001b[1;33m.\u001b[0m\u001b[0m__init__\u001b[0m\u001b[1;33m(\u001b[0m\u001b[0mhead\u001b[0m\u001b[1;33m,\u001b[0m \u001b[0mdados\u001b[0m\u001b[1;33m,\u001b[0m \u001b[0mnome\u001b[0m\u001b[1;33m)\u001b[0m\u001b[1;33m\u001b[0m\u001b[1;33m\u001b[0m\u001b[0m\n\u001b[0m\u001b[0;32m     87\u001b[0m \u001b[1;33m\u001b[0m\u001b[0m\n\u001b[0;32m     88\u001b[0m     \u001b[1;31m# no caso de replace, retorna os dados que serão deletados\u001b[0m\u001b[1;33m\u001b[0m\u001b[1;33m\u001b[0m\u001b[1;33m\u001b[0m\u001b[0m\n",
      "\u001b[1;32m~\\Desktop\\fmtpy\\fmtpy\\fmtpy\\main.py\u001b[0m in \u001b[0;36m__init__\u001b[1;34m(self, head, dados, nome)\u001b[0m\n\u001b[0;32m    315\u001b[0m         \u001b[0mself\u001b[0m\u001b[1;33m.\u001b[0m\u001b[0mativo\u001b[0m \u001b[1;33m=\u001b[0m \u001b[0mnome\u001b[0m\u001b[1;33m\u001b[0m\u001b[1;33m\u001b[0m\u001b[0m\n\u001b[0;32m    316\u001b[0m         \u001b[1;32mfor\u001b[0m \u001b[0mj\u001b[0m\u001b[1;33m,\u001b[0m \u001b[0mi\u001b[0m \u001b[1;32min\u001b[0m \u001b[0menumerate\u001b[0m\u001b[1;33m(\u001b[0m\u001b[0mself\u001b[0m\u001b[1;33m.\u001b[0m\u001b[0mhead\u001b[0m\u001b[1;33m)\u001b[0m\u001b[1;33m:\u001b[0m\u001b[1;33m\u001b[0m\u001b[1;33m\u001b[0m\u001b[0m\n\u001b[1;32m--> 317\u001b[1;33m             \u001b[0msetattr\u001b[0m\u001b[1;33m(\u001b[0m\u001b[0mself\u001b[0m\u001b[1;33m,\u001b[0m \u001b[0mi\u001b[0m\u001b[1;33m,\u001b[0m \u001b[0mself\u001b[0m\u001b[1;33m.\u001b[0m\u001b[0mdados\u001b[0m\u001b[1;33m[\u001b[0m\u001b[1;33m:\u001b[0m\u001b[1;33m,\u001b[0m\u001b[0mj\u001b[0m\u001b[1;33m]\u001b[0m\u001b[1;33m)\u001b[0m\u001b[1;33m\u001b[0m\u001b[1;33m\u001b[0m\u001b[0m\n\u001b[0m\u001b[0;32m    318\u001b[0m \u001b[1;33m\u001b[0m\u001b[0m\n\u001b[0;32m    319\u001b[0m     \u001b[1;32mdef\u001b[0m \u001b[0m__repr__\u001b[0m\u001b[1;33m(\u001b[0m\u001b[0mself\u001b[0m\u001b[1;33m)\u001b[0m\u001b[1;33m:\u001b[0m\u001b[1;33m\u001b[0m\u001b[1;33m\u001b[0m\u001b[0m\n",
      "\u001b[1;31mIndexError\u001b[0m: index 10 is out of bounds for axis 1 with size 10"
     ]
    }
   ],
   "source": [
    "x.go()"
   ]
  },
  {
   "cell_type": "code",
   "execution_count": null,
   "metadata": {},
   "outputs": [],
   "source": []
  },
  {
   "cell_type": "code",
   "execution_count": 17,
   "metadata": {
    "scrolled": true
   },
   "outputs": [
    {
     "name": "stdout",
     "output_type": "stream",
     "text": [
      "1\n"
     ]
    }
   ],
   "source": [
    "bi.Features(tabela[0], tabela[1]).to_sql('fat_balancos_cvm_desagregado', cnn, campos=['CD_CVM', 'IND', 'CD_RELATORIO'], sobrescrever=True)"
   ]
  },
  {
   "cell_type": "code",
   "execution_count": 13,
   "metadata": {},
   "outputs": [
    {
     "data": {
      "text/plain": [
       "<bound method sqlite.reg_existe of <bi.sqlite object at 0x000001BC3C4350B8>>"
      ]
     },
     "execution_count": 13,
     "metadata": {},
     "output_type": "execute_result"
    }
   ],
   "source": [
    "cnn.reg_existe"
   ]
  },
  {
   "cell_type": "code",
   "execution_count": 18,
   "metadata": {},
   "outputs": [
    {
     "data": {
      "text/plain": [
       "{1: 'Resultado',\n",
       " 2: 'Balanço Ativo',\n",
       " 3: 'Balanço Passivo',\n",
       " 4: 'Resultado Abrangente',\n",
       " 5: 'Fluxo de Caixa',\n",
       " 6: 'Valor Adicionado',\n",
       " 7: 'Mutações do PL'}"
      ]
     },
     "execution_count": 18,
     "metadata": {},
     "output_type": "execute_result"
    }
   ],
   "source": [
    "main.indice_ind"
   ]
  },
  {
   "cell_type": "code",
   "execution_count": 20,
   "metadata": {},
   "outputs": [
    {
     "name": "stdout",
     "output_type": "stream",
     "text": [
      "1\n",
      "2\n",
      "3\n",
      "4\n"
     ]
    }
   ],
   "source": [
    "for i in range(1,5):\n",
    "    print(i)"
   ]
  },
  {
   "cell_type": "code",
   "execution_count": null,
   "metadata": {},
   "outputs": [],
   "source": []
  },
  {
   "cell_type": "code",
   "execution_count": 27,
   "metadata": {},
   "outputs": [],
   "source": [
    "x=45"
   ]
  },
  {
   "cell_type": "code",
   "execution_count": 28,
   "metadata": {},
   "outputs": [],
   "source": [
    "if x==4 or\\\n",
    "x==1:\n",
    "    print(1)"
   ]
  },
  {
   "cell_type": "code",
   "execution_count": null,
   "metadata": {},
   "outputs": [],
   "source": []
  },
  {
   "cell_type": "code",
   "execution_count": null,
   "metadata": {},
   "outputs": [],
   "source": []
  },
  {
   "cell_type": "code",
   "execution_count": null,
   "metadata": {},
   "outputs": [],
   "source": []
  }
 ],
 "metadata": {
  "kernelspec": {
   "display_name": "Python 3",
   "language": "python",
   "name": "python3"
  },
  "language_info": {
   "codemirror_mode": {
    "name": "ipython",
    "version": 3
   },
   "file_extension": ".py",
   "mimetype": "text/x-python",
   "name": "python",
   "nbconvert_exporter": "python",
   "pygments_lexer": "ipython3",
   "version": "3.7.3"
  }
 },
 "nbformat": 4,
 "nbformat_minor": 2
}
