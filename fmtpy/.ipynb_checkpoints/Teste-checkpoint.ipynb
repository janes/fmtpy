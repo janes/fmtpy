{
 "cells": [
  {
   "cell_type": "code",
   "execution_count": 1,
   "metadata": {},
   "outputs": [],
   "source": [
    "import main\n",
    "import numpy as np"
   ]
  },
  {
   "cell_type": "code",
   "execution_count": 2,
   "metadata": {},
   "outputs": [],
   "source": [
    "import bi"
   ]
  },
  {
   "cell_type": "code",
   "execution_count": 3,
   "metadata": {},
   "outputs": [],
   "source": [
    "import cvmpy as cvm"
   ]
  },
  {
   "cell_type": "code",
   "execution_count": 4,
   "metadata": {},
   "outputs": [],
   "source": [
    "import numpy as np"
   ]
  },
  {
   "cell_type": "code",
   "execution_count": 5,
   "metadata": {},
   "outputs": [],
   "source": [
    "import pandas as pd\n",
    "pd.options.display.float_format = '{:,.2f}'.format"
   ]
  },
  {
   "cell_type": "code",
   "execution_count": 6,
   "metadata": {},
   "outputs": [],
   "source": [
    "#x = main.Balanco('MGLU3')"
   ]
  },
  {
   "cell_type": "code",
   "execution_count": 7,
   "metadata": {},
   "outputs": [],
   "source": [
    "x = bi.Balanco('MGLU3',r'C:\\Users\\11111\\Desktop\\Python\\chromedriver.exe')"
   ]
  },
  {
   "cell_type": "code",
   "execution_count": 8,
   "metadata": {},
   "outputs": [
    {
     "name": "stdout",
     "output_type": "stream",
     "text": [
      "Obtendo Resultado para MGLU3 referente ao 1º trimestre de 2019\n"
     ]
    }
   ],
   "source": [
    "tabela = x.get(1,2019,1,True)"
   ]
  },
  {
   "cell_type": "code",
   "execution_count": 9,
   "metadata": {},
   "outputs": [],
   "source": [
    "con = bi.sqlite(r'C:\\Users\\11111\\Desktop\\fmtpy\\db\\teste.db')"
   ]
  },
  {
   "cell_type": "code",
   "execution_count": 15,
   "metadata": {},
   "outputs": [
    {
     "data": {
      "text/plain": [
       "32"
      ]
     },
     "execution_count": 15,
     "metadata": {},
     "output_type": "execute_result"
    }
   ],
   "source": [
    "con.reg_existe('teste4', CD_ATIVO='MGLU3')"
   ]
  },
  {
   "cell_type": "code",
   "execution_count": 14,
   "metadata": {},
   "outputs": [
    {
     "name": "stdout",
     "output_type": "stream",
     "text": [
      "1\n"
     ]
    }
   ],
   "source": [
    "bi.Features(tabela[0], tabela[1]).to_sql('teste4',con, campos='CD_ATIVO', replace=True)"
   ]
  },
  {
   "cell_type": "code",
   "execution_count": 15,
   "metadata": {},
   "outputs": [
    {
     "data": {
      "text/plain": [
       "['CD_ATIVO', 'CONTA', 'DS_CONTA', 'DATA_REF', 'ANO', 'TRIMESTRE', 'VALOR']"
      ]
     },
     "execution_count": 15,
     "metadata": {},
     "output_type": "execute_result"
    }
   ],
   "source": [
    "ss.head"
   ]
  },
  {
   "cell_type": "code",
   "execution_count": 32,
   "metadata": {},
   "outputs": [
    {
     "data": {
      "text/plain": [
       "34"
      ]
     },
     "execution_count": 32,
     "metadata": {},
     "output_type": "execute_result"
    }
   ],
   "source": [
    "query = f\" select count (*) from teste4 where CD_ATIVO='VALE3'\"\n",
    "con.cursor.execute(query).fetchone()[0]"
   ]
  },
  {
   "cell_type": "code",
   "execution_count": null,
   "metadata": {},
   "outputs": [],
   "source": []
  },
  {
   "cell_type": "code",
   "execution_count": null,
   "metadata": {},
   "outputs": [],
   "source": []
  },
  {
   "cell_type": "code",
   "execution_count": 11,
   "metadata": {},
   "outputs": [
    {
     "data": {
      "text/plain": [
       "{'CD_ATIVO': 'MOVI3', 'DS_CONTA': 'Receita de Venda de Bens e/ou Serviços'}"
      ]
     },
     "execution_count": 11,
     "metadata": {},
     "output_type": "execute_result"
    }
   ],
   "source": [
    "dict(zip(ss[0], ss[1]))"
   ]
  },
  {
   "cell_type": "code",
   "execution_count": 8,
   "metadata": {},
   "outputs": [],
   "source": [
    "#x.balanco.relatorios"
   ]
  },
  {
   "cell_type": "code",
   "execution_count": 9,
   "metadata": {
    "scrolled": true
   },
   "outputs": [
    {
     "data": {
      "text/plain": [
       "[['CD_ATIVO', 'CONTA', 'DS_CONTA', 'DATA_REF', 'ANO', 'TRIMESTRE', 'VALOR'],\n",
       " array([['MOVI3', '3.01', 'Receita de Venda de Bens e/ou Serviços',\n",
       "         datetime.date(2019, 3, 31), 2019, 1, 812529000.0],\n",
       "        ['MOVI3', '3.02', 'Custo dos Bens e/ou Serviços Vendidos',\n",
       "         datetime.date(2019, 3, 31), 2019, 1, -600222000.0],\n",
       "        ['MOVI3', '3.03', 'Resultado Bruto', datetime.date(2019, 3, 31),\n",
       "         2019, 1, 212307000.0],\n",
       "        ['MOVI3', '3.04', 'Despesas/Receitas Operacionais',\n",
       "         datetime.date(2019, 3, 31), 2019, 1, -113133000.0],\n",
       "        ['MOVI3', '3.04.01', 'Despesas com Vendas',\n",
       "         datetime.date(2019, 3, 31), 2019, 1, None],\n",
       "        ['MOVI3', '3.04.02', 'Despesas Gerais e Administrativas',\n",
       "         datetime.date(2019, 3, 31), 2019, 1, -106357000.0],\n",
       "        ['MOVI3', '3.04.02.01', 'Despesas Administrativas',\n",
       "         datetime.date(2019, 3, 31), 2019, 1, -64815000.0],\n",
       "        ['MOVI3', '3.04.02.02', 'Despesas Comerciais',\n",
       "         datetime.date(2019, 3, 31), 2019, 1, -41542000.0],\n",
       "        ['MOVI3', '3.04.03', 'Perdas pela Não Recuperabilidade de Ativos',\n",
       "         datetime.date(2019, 3, 31), 2019, 1, -7048000.0],\n",
       "        ['MOVI3', '3.04.03.01',\n",
       "         'Perda por Redução ao Valor Recuperável de Contas a Receber',\n",
       "         datetime.date(2019, 3, 31), 2019, 1, -7048000.0],\n",
       "        ['MOVI3', '3.04.04', 'Outras Receitas Operacionais',\n",
       "         datetime.date(2019, 3, 31), 2019, 1, 272000.0],\n",
       "        ['MOVI3', '3.04.05', 'Outras Despesas Operacionais',\n",
       "         datetime.date(2019, 3, 31), 2019, 1, None],\n",
       "        ['MOVI3', '3.04.06', 'Resultado de Equivalência Patrimonial',\n",
       "         datetime.date(2019, 3, 31), 2019, 1, None],\n",
       "        ['MOVI3', '3.05',\n",
       "         'Resultado Antes do Resultado Financeiro e dos Tributos',\n",
       "         datetime.date(2019, 3, 31), 2019, 1, 99174000.0],\n",
       "        ['MOVI3', '3.06', 'Resultado Financeiro',\n",
       "         datetime.date(2019, 3, 31), 2019, 1, -45708000.0],\n",
       "        ['MOVI3', '3.06.01', 'Receitas Financeiras',\n",
       "         datetime.date(2019, 3, 31), 2019, 1, 12915000.0],\n",
       "        ['MOVI3', '3.06.02', 'Despesas Financeiras',\n",
       "         datetime.date(2019, 3, 31), 2019, 1, -58623000.0],\n",
       "        ['MOVI3', '3.07', 'Resultado Antes dos Tributos sobre o Lucro',\n",
       "         datetime.date(2019, 3, 31), 2019, 1, 53466000.0],\n",
       "        ['MOVI3', '3.08',\n",
       "         'Imposto de Renda e Contribuição Social sobre o Lucro',\n",
       "         datetime.date(2019, 3, 31), 2019, 1, -11483000.0],\n",
       "        ['MOVI3', '3.08.01', 'Corrente', datetime.date(2019, 3, 31), 2019,\n",
       "         1, -8435000.0],\n",
       "        ['MOVI3', '3.08.02', 'Diferido', datetime.date(2019, 3, 31), 2019,\n",
       "         1, -3048000.0],\n",
       "        ['MOVI3', '3.09', 'Resultado Líquido das Operações Continuadas',\n",
       "         datetime.date(2019, 3, 31), 2019, 1, 41983000.0],\n",
       "        ['MOVI3', '3.10', 'Resultado Líquido de Operações Descontinuadas',\n",
       "         datetime.date(2019, 3, 31), 2019, 1, None],\n",
       "        ['MOVI3', '3.10.01',\n",
       "         'Lucro/Prejuízo Líquido das Operações Descontinuadas',\n",
       "         datetime.date(2019, 3, 31), 2019, 1, None],\n",
       "        ['MOVI3', '3.10.02',\n",
       "         'Ganhos/Perdas Líquidas sobre Ativos de Operações Descontinuadas',\n",
       "         datetime.date(2019, 3, 31), 2019, 1, None],\n",
       "        ['MOVI3', '3.11', 'Lucro/Prejuízo Consolidado do Período',\n",
       "         datetime.date(2019, 3, 31), 2019, 1, 41983000.0],\n",
       "        ['MOVI3', '3.11.01', 'Atribuído a Sócios da Empresa Controladora',\n",
       "         datetime.date(2019, 3, 31), 2019, 1, 41983000.0],\n",
       "        ['MOVI3', '3.11.02', 'Atribuído a Sócios Não Controladores',\n",
       "         datetime.date(2019, 3, 31), 2019, 1, None],\n",
       "        ['MOVI3', '3.99', 'Lucro por Ação - (Reais / Ação)',\n",
       "         datetime.date(2019, 3, 31), 2019, 1, 0.0],\n",
       "        ['MOVI3', '3.99.01', 'Lucro Básico por Ação',\n",
       "         datetime.date(2019, 3, 31), 2019, 1, 0.0],\n",
       "        ['MOVI3', '3.99.01.01', 'ON', datetime.date(2019, 3, 31), 2019, 1,\n",
       "         160.0],\n",
       "        ['MOVI3', '3.99.02', 'Lucro Diluído por Ação',\n",
       "         datetime.date(2019, 3, 31), 2019, 1, 0.0],\n",
       "        ['MOVI3', '3.99.02.01', 'ON', datetime.date(2019, 3, 31), 2019, 1,\n",
       "         159.89999999999998]], dtype=object)]"
      ]
     },
     "execution_count": 9,
     "metadata": {},
     "output_type": "execute_result"
    }
   ],
   "source": [
    "tabela"
   ]
  },
  {
   "cell_type": "code",
   "execution_count": 9,
   "metadata": {},
   "outputs": [],
   "source": [
    "con = bi.sqlite(r'C:\\Users\\11111\\Desktop\\fmtpy\\db\\teste.db')"
   ]
  },
  {
   "cell_type": "code",
   "execution_count": 20,
   "metadata": {
    "scrolled": true
   },
   "outputs": [],
   "source": [
    "con.to_sql('teste4', tabela[0], tabela[1], 'append')"
   ]
  },
  {
   "cell_type": "code",
   "execution_count": 21,
   "metadata": {},
   "outputs": [],
   "source": [
    "dic = {'CD_ATIVO':'MGLU3'}"
   ]
  },
  {
   "cell_type": "code",
   "execution_count": 22,
   "metadata": {},
   "outputs": [],
   "source": [
    "con.delete_from('teste4', **dic)"
   ]
  },
  {
   "cell_type": "code",
   "execution_count": null,
   "metadata": {},
   "outputs": [],
   "source": []
  },
  {
   "cell_type": "code",
   "execution_count": 14,
   "metadata": {
    "scrolled": true
   },
   "outputs": [
    {
     "ename": "NameError",
     "evalue": "name 'con' is not defined",
     "output_type": "error",
     "traceback": [
      "\u001b[1;31m---------------------------------------------------------------------------\u001b[0m",
      "\u001b[1;31mNameError\u001b[0m                                 Traceback (most recent call last)",
      "\u001b[1;32m<ipython-input-14-23fd7b3cb131>\u001b[0m in \u001b[0;36m<module>\u001b[1;34m\u001b[0m\n\u001b[1;32m----> 1\u001b[1;33m \u001b[0mbi\u001b[0m\u001b[1;33m.\u001b[0m\u001b[0mFeatures\u001b[0m\u001b[1;33m(\u001b[0m\u001b[0mtabela\u001b[0m\u001b[1;33m[\u001b[0m\u001b[1;36m0\u001b[0m\u001b[1;33m]\u001b[0m\u001b[1;33m,\u001b[0m \u001b[0mtabela\u001b[0m\u001b[1;33m[\u001b[0m\u001b[1;36m1\u001b[0m\u001b[1;33m]\u001b[0m\u001b[1;33m,\u001b[0m \u001b[1;34m'VALE3'\u001b[0m\u001b[1;33m)\u001b[0m\u001b[1;33m.\u001b[0m\u001b[0mto_sql\u001b[0m\u001b[1;33m(\u001b[0m\u001b[0mcon\u001b[0m\u001b[1;33m,\u001b[0m \u001b[0mreplace\u001b[0m\u001b[1;33m=\u001b[0m\u001b[1;34m'CD_ATIVO'\u001b[0m\u001b[1;33m)\u001b[0m\u001b[1;33m\u001b[0m\u001b[1;33m\u001b[0m\u001b[0m\n\u001b[0m",
      "\u001b[1;32m~\\Desktop\\fmtpy\\fmtpy\\fmtpy\\bi.py\u001b[0m in \u001b[0;36mto_sql\u001b[1;34m(self, cnn, replace)\u001b[0m\n\u001b[0;32m     88\u001b[0m         \u001b[0mreplace\u001b[0m \u001b[1;33m=\u001b[0m \u001b[0mself\u001b[0m\u001b[1;33m.\u001b[0m\u001b[0mdictdelete\u001b[0m\u001b[1;33m(\u001b[0m\u001b[0mreplace\u001b[0m\u001b[1;33m=\u001b[0m\u001b[0mreplace\u001b[0m\u001b[1;33m)\u001b[0m\u001b[1;33m\u001b[0m\u001b[1;33m\u001b[0m\u001b[0m\n\u001b[0;32m     89\u001b[0m         \u001b[1;32mif\u001b[0m \u001b[0mreplace\u001b[0m\u001b[1;33m:\u001b[0m\u001b[1;33m\u001b[0m\u001b[1;33m\u001b[0m\u001b[0m\n\u001b[1;32m---> 90\u001b[1;33m             \u001b[0mcon\u001b[0m\u001b[1;33m.\u001b[0m\u001b[0mdelete_from\u001b[0m\u001b[1;33m(\u001b[0m\u001b[1;34m'teste3'\u001b[0m\u001b[1;33m,\u001b[0m \u001b[1;33m**\u001b[0m\u001b[0mdictdelete\u001b[0m\u001b[1;33m)\u001b[0m\u001b[1;33m\u001b[0m\u001b[1;33m\u001b[0m\u001b[0m\n\u001b[0m\u001b[0;32m     91\u001b[0m \u001b[1;33m\u001b[0m\u001b[0m\n\u001b[0;32m     92\u001b[0m         \u001b[0mcnn\u001b[0m\u001b[1;33m.\u001b[0m\u001b[0mto_sql\u001b[0m\u001b[1;33m(\u001b[0m\u001b[1;34m'teste3'\u001b[0m\u001b[1;33m,\u001b[0m \u001b[0mself\u001b[0m\u001b[1;33m.\u001b[0m\u001b[0mdados\u001b[0m\u001b[1;33m[\u001b[0m\u001b[1;36m0\u001b[0m\u001b[1;33m]\u001b[0m\u001b[1;33m,\u001b[0m \u001b[0mself\u001b[0m\u001b[1;33m.\u001b[0m\u001b[0mdados\u001b[0m\u001b[1;33m[\u001b[0m\u001b[1;36m1\u001b[0m\u001b[1;33m]\u001b[0m\u001b[1;33m,\u001b[0m \u001b[1;34m'append'\u001b[0m\u001b[1;33m)\u001b[0m\u001b[1;33m\u001b[0m\u001b[1;33m\u001b[0m\u001b[0m\n",
      "\u001b[1;31mNameError\u001b[0m: name 'con' is not defined"
     ]
    }
   ],
   "source": []
  },
  {
   "cell_type": "code",
   "execution_count": null,
   "metadata": {},
   "outputs": [],
   "source": []
  },
  {
   "cell_type": "code",
   "execution_count": 75,
   "metadata": {},
   "outputs": [
    {
     "data": {
      "text/plain": [
       "{'papel': 'HYPE3',\n",
       " 'site': False,\n",
       " 'balanco': <cvmpy.Raw at 0x1d2946d1198>,\n",
       " 'wdriver': 'C:\\\\Users\\\\11111\\\\Desktop\\\\Python\\\\chromedriver.exe',\n",
       " 'ind': 1,\n",
       " 'ano': 2019,\n",
       " 'tri': 1,\n",
       " 'ajustado': True}"
      ]
     },
     "execution_count": 75,
     "metadata": {},
     "output_type": "execute_result"
    }
   ],
   "source": [
    "x.__dict__"
   ]
  },
  {
   "cell_type": "code",
   "execution_count": 102,
   "metadata": {},
   "outputs": [],
   "source": [
    "tb_ativo=[['CD_ATIVO','CD_CVM','CNPJ','ISIN'],\n",
    " np.array([[x.papel, x.balanco.dados.__cd_cvm,\n",
    "x.balanco.dados.__cnpj,\n",
    "x.balanco.dados.isin()]])]"
   ]
  },
  {
   "cell_type": "code",
   "execution_count": 103,
   "metadata": {},
   "outputs": [],
   "source": [
    "relat = x.balanco.relatorios[x.ano]\n",
    "relatorios = np.array([list(relat[i]) for i in relat])\n",
    "relatorios = np.column_stack([relatorios, list(relat)])\n",
    "relatorios = np.column_stack([relatorios, [x.ano for i in list(relat)]])\n",
    "\n",
    "tb_relatorio = [['DATA_REF','DATA_ENT','CD_RELATORIO','TRIMESTRE', 'ANO'], relatorios]"
   ]
  },
  {
   "cell_type": "code",
   "execution_count": 32,
   "metadata": {},
   "outputs": [
    {
     "ename": "NameError",
     "evalue": "name 'tb_ativo' is not defined",
     "output_type": "error",
     "traceback": [
      "\u001b[1;31m---------------------------------------------------------------------------\u001b[0m",
      "\u001b[1;31mNameError\u001b[0m                                 Traceback (most recent call last)",
      "\u001b[1;32m<ipython-input-32-bbad00a52c2e>\u001b[0m in \u001b[0;36m<module>\u001b[1;34m\u001b[0m\n\u001b[1;32m----> 1\u001b[1;33m \u001b[0mbi\u001b[0m\u001b[1;33m.\u001b[0m\u001b[0mFeatures\u001b[0m\u001b[1;33m(\u001b[0m\u001b[0mtb_ativo\u001b[0m\u001b[1;33m[\u001b[0m\u001b[1;36m0\u001b[0m\u001b[1;33m]\u001b[0m\u001b[1;33m,\u001b[0m \u001b[0mtb_ativo\u001b[0m\u001b[1;33m[\u001b[0m\u001b[1;36m1\u001b[0m\u001b[1;33m]\u001b[0m\u001b[1;33m)\u001b[0m\u001b[1;33m\u001b[0m\u001b[1;33m\u001b[0m\u001b[0m\n\u001b[0m",
      "\u001b[1;31mNameError\u001b[0m: name 'tb_ativo' is not defined"
     ]
    }
   ],
   "source": [
    "bi.Features(tb_ativo[0], tb_ativo[1])"
   ]
  },
  {
   "cell_type": "code",
   "execution_count": 106,
   "metadata": {},
   "outputs": [
    {
     "data": {
      "text/plain": [
       "\n",
       "------------  ----  ---------  ----------  ----------\n",
       "CD_RELATORIO  ANO   TRIMESTRE  DATA_REF    DATA_ENT\n",
       "88825         2019  3          2019-09-30  2019-10-25\n",
       "85629         2019  2          2019-06-30  2019-07-26\n",
       "82439         2019  1          2019-03-31  2019-04-26\n",
       "91427         2019  4          2019-12-31  2020-03-06\n",
       "------------  ----  ---------  ----------  ----------"
      ]
     },
     "execution_count": 106,
     "metadata": {},
     "output_type": "execute_result"
    }
   ],
   "source": [
    "bi.Features(tb_relatorio[0], tb_relatorio[1])['CD_RELATORIO','ANO','TRIMESTRE','DATA_REF','DATA_ENT']"
   ]
  },
  {
   "cell_type": "code",
   "execution_count": 107,
   "metadata": {},
   "outputs": [
    {
     "data": {
      "text/plain": [
       "221.0"
      ]
     },
     "execution_count": 107,
     "metadata": {},
     "output_type": "execute_result"
    }
   ],
   "source": [
    "130*1.7"
   ]
  },
  {
   "cell_type": "code",
   "execution_count": 88,
   "metadata": {},
   "outputs": [
    {
     "data": {
      "text/plain": [
       "[['CD_ATIVO', 'CD_CVM', 'CNPJ', 'ISIN'],\n",
       " array(['HYPE3', '21431', '02.932.074/0001-91', 'BRHYPEACNOR0'],\n",
       "       dtype='<U18')]"
      ]
     },
     "execution_count": 88,
     "metadata": {},
     "output_type": "execute_result"
    }
   ],
   "source": [
    "tb_ativo"
   ]
  },
  {
   "cell_type": "code",
   "execution_count": 95,
   "metadata": {},
   "outputs": [],
   "source": [
    "f = bi.Features(tb_relatorio[0], tb_relatorio[1])"
   ]
  },
  {
   "cell_type": "code",
   "execution_count": 100,
   "metadata": {},
   "outputs": [
    {
     "data": {
      "text/plain": [
       "[['CD_RELATORIO', 'ANO', 'TRIMESTRE', 'DATA_REF', 'DATA_ENT'],\n",
       " array([[88825, 2019, 3, datetime.date(2019, 9, 30),\n",
       "         datetime.date(2019, 10, 25)],\n",
       "        [85629, 2019, 2, datetime.date(2019, 6, 30),\n",
       "         datetime.date(2019, 7, 26)],\n",
       "        [82439, 2019, 1, datetime.date(2019, 3, 31),\n",
       "         datetime.date(2019, 4, 26)],\n",
       "        [91427, 2019, 4, datetime.date(2019, 12, 31),\n",
       "         datetime.date(2020, 3, 6)]], dtype=object),\n",
       " '']"
      ]
     },
     "execution_count": 100,
     "metadata": {},
     "output_type": "execute_result"
    }
   ],
   "source": [
    "f['CD_RELATORIO','ANO','TRIMESTRE','DATA_REF','DATA_ENT'].np()"
   ]
  },
  {
   "cell_type": "code",
   "execution_count": 14,
   "metadata": {},
   "outputs": [],
   "source": [
    "s = bi.sqlite(r'C:\\Users\\11111\\Desktop\\fmtpy\\db\\teste.db')"
   ]
  },
  {
   "cell_type": "code",
   "execution_count": 21,
   "metadata": {},
   "outputs": [],
   "source": [
    "s.to_sql('teste1', tabela[0], tabela[1], 'replace')"
   ]
  },
  {
   "cell_type": "code",
   "execution_count": null,
   "metadata": {},
   "outputs": [],
   "source": []
  },
  {
   "cell_type": "code",
   "execution_count": null,
   "metadata": {},
   "outputs": [],
   "source": []
  }
 ],
 "metadata": {
  "kernelspec": {
   "display_name": "Python 3",
   "language": "python",
   "name": "python3"
  },
  "language_info": {
   "codemirror_mode": {
    "name": "ipython",
    "version": 3
   },
   "file_extension": ".py",
   "mimetype": "text/x-python",
   "name": "python",
   "nbconvert_exporter": "python",
   "pygments_lexer": "ipython3",
   "version": "3.7.3"
  }
 },
 "nbformat": 4,
 "nbformat_minor": 2
}
