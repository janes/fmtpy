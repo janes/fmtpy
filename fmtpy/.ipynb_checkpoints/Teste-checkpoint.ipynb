{
 "cells": [
  {
   "cell_type": "code",
   "execution_count": 1,
   "metadata": {},
   "outputs": [],
   "source": [
    "import main\n",
    "import numpy as np"
   ]
  },
  {
   "cell_type": "code",
   "execution_count": 2,
   "metadata": {},
   "outputs": [],
   "source": [
    "import bi"
   ]
  },
  {
   "cell_type": "code",
   "execution_count": 3,
   "metadata": {},
   "outputs": [],
   "source": [
    "import cvmpy as cvm"
   ]
  },
  {
   "cell_type": "code",
   "execution_count": 4,
   "metadata": {},
   "outputs": [],
   "source": [
    "import numpy as np"
   ]
  },
  {
   "cell_type": "code",
   "execution_count": 5,
   "metadata": {},
   "outputs": [],
   "source": [
    "import pandas as pd\n",
    "pd.options.display.float_format = '{:,.2f}'.format"
   ]
  },
  {
   "cell_type": "code",
   "execution_count": 6,
   "metadata": {},
   "outputs": [],
   "source": [
    "#x = main.Dados('MGLU3')"
   ]
  },
  {
   "cell_type": "code",
   "execution_count": 7,
   "metadata": {},
   "outputs": [],
   "source": [
    "x = bi.Balancos('PETR4',r'C:\\Users\\11111\\Desktop\\Python\\chromedriver.exe')"
   ]
  },
  {
   "cell_type": "code",
   "execution_count": 8,
   "metadata": {},
   "outputs": [],
   "source": [
    "#x.balanco.__dict__"
   ]
  },
  {
   "cell_type": "code",
   "execution_count": 9,
   "metadata": {},
   "outputs": [
    {
     "name": "stdout",
     "output_type": "stream",
     "text": [
      "ITR\n"
     ]
    }
   ],
   "source": [
    "z = x.balanco.relatorios_cvm(2019)"
   ]
  },
  {
   "cell_type": "code",
   "execution_count": 13,
   "metadata": {},
   "outputs": [],
   "source": [
    "relat = z.find(id='grdDocumentos').find('tbody')\\"
   ]
  },
  {
   "cell_type": "code",
   "execution_count": 14,
   "metadata": {},
   "outputs": [
    {
     "data": {
      "text/plain": [
       "<table aria-describedby=\"grdDocumentos_info\" cellspacing=\"0\" class=\"display cell-border dataTable no-footer\" id=\"grdDocumentos\" role=\"grid\" style=\"width: 100%;\" width=\"100%\">\n",
       "<thead>\n",
       "<tr role=\"row\"><th aria-controls=\"grdDocumentos\" aria-label=\"Código CVM\n",
       "                        : clique para usar ordem crescente\" class=\"textoPequeno sorting\" colspan=\"1\" rowspan=\"1\" style=\"width: 48px;\" tabindex=\"0\">Código CVM\n",
       "                        </th><th aria-controls=\"grdDocumentos\" aria-label=\"Empresa\n",
       "                        : clique para usar ordem crescente\" class=\"textoGrande sorting\" colspan=\"1\" rowspan=\"1\" style=\"width: 166px;\" tabindex=\"0\">Empresa\n",
       "                        </th><th aria-controls=\"grdDocumentos\" aria-label=\"Categoria\n",
       "                        : clique para usar ordem crescente\" class=\"textoMedio sorting\" colspan=\"1\" rowspan=\"1\" style=\"width: 92px;\" tabindex=\"0\">Categoria\n",
       "                        </th><th aria-controls=\"grdDocumentos\" aria-label=\"Tipo\n",
       "                        : clique para usar ordem crescente\" class=\"textoMedio sorting\" colspan=\"1\" rowspan=\"1\" style=\"width: 88px;\" tabindex=\"0\">Tipo\n",
       "                        </th><th aria-controls=\"grdDocumentos\" aria-label=\"Espécie\n",
       "                        : clique para usar ordem crescente\" class=\"textoMedio sorting\" colspan=\"1\" rowspan=\"1\" style=\"width: 91px;\" tabindex=\"0\">Espécie\n",
       "                        </th><th aria-controls=\"grdDocumentos\" aria-label=\"Data Referência\n",
       "                        : clique para usar ordem crescente\" class=\"textoPequeno sorting\" colspan=\"1\" rowspan=\"1\" style=\"width: 67px;\" tabindex=\"0\">Data Referência\n",
       "                        </th><th aria-controls=\"grdDocumentos\" aria-label=\"Data Entrega\n",
       "                        : clique para usar ordem crescente\" aria-sort=\"descending\" class=\"textoMedio sorting\" colspan=\"1\" rowspan=\"1\" style=\"width: 91px;\" tabindex=\"0\">Data Entrega\n",
       "                        </th><th aria-controls=\"grdDocumentos\" aria-label=\"Status\n",
       "                        : clique para usar ordem crescente\" class=\"textoPequeno sorting\" colspan=\"1\" rowspan=\"1\" style=\"width: 47px;\" tabindex=\"0\">Status\n",
       "                        </th><th aria-controls=\"grdDocumentos\" aria-label=\"V\n",
       "                        : clique para usar ordem crescente\" class=\"sorting\" colspan=\"1\" rowspan=\"1\" style=\"width: 9px;\" tabindex=\"0\">V\n",
       "                        </th><th aria-controls=\"grdDocumentos\" aria-label=\"Modalidade\n",
       "                        : clique para usar ordem crescente\" class=\"textoPequeno sorting\" colspan=\"1\" rowspan=\"1\" style=\"width: 72px;\" tabindex=\"0\">Modalidade\n",
       "                        </th><th aria-label=\"Ações\n",
       "                        \" class=\"textoPequeno sorting_disabled\" colspan=\"1\" rowspan=\"1\" style=\"width: 47px;\">Ações\n",
       "                        </th></tr>\n",
       "</thead>\n",
       "<tbody></tbody>\n",
       "</table>"
      ]
     },
     "execution_count": 14,
     "metadata": {},
     "output_type": "execute_result"
    }
   ],
   "source": [
    "relat"
   ]
  },
  {
   "cell_type": "code",
   "execution_count": null,
   "metadata": {},
   "outputs": [],
   "source": []
  },
  {
   "cell_type": "code",
   "execution_count": null,
   "metadata": {},
   "outputs": [],
   "source": []
  },
  {
   "cell_type": "code",
   "execution_count": 31,
   "metadata": {},
   "outputs": [],
   "source": [
    "x = main.Balanco('MOVI3')"
   ]
  },
  {
   "cell_type": "code",
   "execution_count": 24,
   "metadata": {},
   "outputs": [],
   "source": [
    "tabela = x.get(1,2019,1)"
   ]
  },
  {
   "cell_type": "code",
   "execution_count": 23,
   "metadata": {
    "scrolled": true
   },
   "outputs": [
    {
     "data": {
      "text/plain": [
       "[3, 2, 1, 4]"
      ]
     },
     "execution_count": 23,
     "metadata": {},
     "output_type": "execute_result"
    }
   ],
   "source": [
    "[i for i in x.balanco.relatorios[2019]]"
   ]
  },
  {
   "cell_type": "code",
   "execution_count": null,
   "metadata": {},
   "outputs": [],
   "source": []
  },
  {
   "cell_type": "code",
   "execution_count": 22,
   "metadata": {},
   "outputs": [
    {
     "name": "stdout",
     "output_type": "stream",
     "text": [
      "Obtendo Fluxo de Caixa para SANB11 referente ao 4º trimestre de 2019\n"
     ]
    }
   ],
   "source": [
    "tabela = x.fat_balancos_cvm_agregado(5,2019,4)"
   ]
  },
  {
   "cell_type": "code",
   "execution_count": 23,
   "metadata": {
    "scrolled": true
   },
   "outputs": [
    {
     "data": {
      "text/html": [
       "<div>\n",
       "<style scoped>\n",
       "    .dataframe tbody tr th:only-of-type {\n",
       "        vertical-align: middle;\n",
       "    }\n",
       "\n",
       "    .dataframe tbody tr th {\n",
       "        vertical-align: top;\n",
       "    }\n",
       "\n",
       "    .dataframe thead th {\n",
       "        text-align: right;\n",
       "    }\n",
       "</style>\n",
       "<table border=\"1\" class=\"dataframe\">\n",
       "  <thead>\n",
       "    <tr style=\"text-align: right;\">\n",
       "      <th></th>\n",
       "      <th>CD_CVM</th>\n",
       "      <th>IND</th>\n",
       "      <th>CD_RELATORIO</th>\n",
       "      <th>CONTA</th>\n",
       "      <th>VALOR</th>\n",
       "    </tr>\n",
       "  </thead>\n",
       "  <tbody>\n",
       "    <tr>\n",
       "      <th>0</th>\n",
       "      <td>20532</td>\n",
       "      <td>5</td>\n",
       "      <td>91518</td>\n",
       "      <td>6.01</td>\n",
       "      <td>24,871,800,000.00</td>\n",
       "    </tr>\n",
       "    <tr>\n",
       "      <th>1</th>\n",
       "      <td>20532</td>\n",
       "      <td>5</td>\n",
       "      <td>91518</td>\n",
       "      <td>6.01.01</td>\n",
       "      <td>31,286,327,000.00</td>\n",
       "    </tr>\n",
       "    <tr>\n",
       "      <th>2</th>\n",
       "      <td>20532</td>\n",
       "      <td>5</td>\n",
       "      <td>91518</td>\n",
       "      <td>6.01.01.01</td>\n",
       "      <td>16,631,450,000.00</td>\n",
       "    </tr>\n",
       "    <tr>\n",
       "      <th>3</th>\n",
       "      <td>20532</td>\n",
       "      <td>5</td>\n",
       "      <td>91518</td>\n",
       "      <td>6.01.01.02</td>\n",
       "      <td>1,870,836,000.00</td>\n",
       "    </tr>\n",
       "    <tr>\n",
       "      <th>4</th>\n",
       "      <td>20532</td>\n",
       "      <td>5</td>\n",
       "      <td>91518</td>\n",
       "      <td>6.01.01.03</td>\n",
       "      <td>521,021,000.00</td>\n",
       "    </tr>\n",
       "    <tr>\n",
       "      <th>5</th>\n",
       "      <td>20532</td>\n",
       "      <td>5</td>\n",
       "      <td>91518</td>\n",
       "      <td>6.01.01.04</td>\n",
       "      <td>131,435,000.00</td>\n",
       "    </tr>\n",
       "    <tr>\n",
       "      <th>6</th>\n",
       "      <td>20532</td>\n",
       "      <td>5</td>\n",
       "      <td>91518</td>\n",
       "      <td>6.01.01.05</td>\n",
       "      <td>17,051,491,000.00</td>\n",
       "    </tr>\n",
       "    <tr>\n",
       "      <th>7</th>\n",
       "      <td>20532</td>\n",
       "      <td>5</td>\n",
       "      <td>91518</td>\n",
       "      <td>6.01.01.06</td>\n",
       "      <td>-20,489,000.00</td>\n",
       "    </tr>\n",
       "    <tr>\n",
       "      <th>8</th>\n",
       "      <td>20532</td>\n",
       "      <td>5</td>\n",
       "      <td>91518</td>\n",
       "      <td>6.01.01.07</td>\n",
       "      <td>-149,488,000.00</td>\n",
       "    </tr>\n",
       "    <tr>\n",
       "      <th>9</th>\n",
       "      <td>20532</td>\n",
       "      <td>5</td>\n",
       "      <td>91518</td>\n",
       "      <td>6.01.01.08</td>\n",
       "      <td>-2,912,281,000.00</td>\n",
       "    </tr>\n",
       "    <tr>\n",
       "      <th>10</th>\n",
       "      <td>20532</td>\n",
       "      <td>5</td>\n",
       "      <td>91518</td>\n",
       "      <td>6.01.01.09</td>\n",
       "      <td>-574,399,000.00</td>\n",
       "    </tr>\n",
       "    <tr>\n",
       "      <th>11</th>\n",
       "      <td>20532</td>\n",
       "      <td>5</td>\n",
       "      <td>91518</td>\n",
       "      <td>6.01.01.10</td>\n",
       "      <td>-182,469,000.00</td>\n",
       "    </tr>\n",
       "    <tr>\n",
       "      <th>12</th>\n",
       "      <td>20532</td>\n",
       "      <td>5</td>\n",
       "      <td>91518</td>\n",
       "      <td>6.01.01.11</td>\n",
       "      <td>99,000.00</td>\n",
       "    </tr>\n",
       "    <tr>\n",
       "      <th>13</th>\n",
       "      <td>20532</td>\n",
       "      <td>5</td>\n",
       "      <td>91518</td>\n",
       "      <td>6.01.01.12</td>\n",
       "      <td>-2,609,679,000.00</td>\n",
       "    </tr>\n",
       "    <tr>\n",
       "      <th>14</th>\n",
       "      <td>20532</td>\n",
       "      <td>5</td>\n",
       "      <td>91518</td>\n",
       "      <td>6.01.01.13</td>\n",
       "      <td>1,528,800,000.00</td>\n",
       "    </tr>\n",
       "    <tr>\n",
       "      <th>15</th>\n",
       "      <td>20532</td>\n",
       "      <td>5</td>\n",
       "      <td>91518</td>\n",
       "      <td>6.01.02</td>\n",
       "      <td>-6,414,527,000.00</td>\n",
       "    </tr>\n",
       "    <tr>\n",
       "      <th>16</th>\n",
       "      <td>20532</td>\n",
       "      <td>5</td>\n",
       "      <td>91518</td>\n",
       "      <td>6.01.02.01</td>\n",
       "      <td>855,000.00</td>\n",
       "    </tr>\n",
       "    <tr>\n",
       "      <th>17</th>\n",
       "      <td>20532</td>\n",
       "      <td>5</td>\n",
       "      <td>91518</td>\n",
       "      <td>6.01.02.02</td>\n",
       "      <td>None</td>\n",
       "    </tr>\n",
       "    <tr>\n",
       "      <th>18</th>\n",
       "      <td>20532</td>\n",
       "      <td>5</td>\n",
       "      <td>91518</td>\n",
       "      <td>6.01.02.03</td>\n",
       "      <td>11,080,730,000.00</td>\n",
       "    </tr>\n",
       "    <tr>\n",
       "      <th>19</th>\n",
       "      <td>20532</td>\n",
       "      <td>5</td>\n",
       "      <td>91518</td>\n",
       "      <td>6.01.02.04</td>\n",
       "      <td>None</td>\n",
       "    </tr>\n",
       "    <tr>\n",
       "      <th>20</th>\n",
       "      <td>20532</td>\n",
       "      <td>5</td>\n",
       "      <td>91518</td>\n",
       "      <td>6.01.02.05</td>\n",
       "      <td>11,831,411,000.00</td>\n",
       "    </tr>\n",
       "    <tr>\n",
       "      <th>21</th>\n",
       "      <td>20532</td>\n",
       "      <td>5</td>\n",
       "      <td>91518</td>\n",
       "      <td>6.01.02.06</td>\n",
       "      <td>746,024,000.00</td>\n",
       "    </tr>\n",
       "    <tr>\n",
       "      <th>22</th>\n",
       "      <td>20532</td>\n",
       "      <td>5</td>\n",
       "      <td>91518</td>\n",
       "      <td>6.01.02.07</td>\n",
       "      <td>None</td>\n",
       "    </tr>\n",
       "    <tr>\n",
       "      <th>23</th>\n",
       "      <td>20532</td>\n",
       "      <td>5</td>\n",
       "      <td>91518</td>\n",
       "      <td>6.01.02.08</td>\n",
       "      <td>-8,835,552,000.00</td>\n",
       "    </tr>\n",
       "    <tr>\n",
       "      <th>24</th>\n",
       "      <td>20532</td>\n",
       "      <td>5</td>\n",
       "      <td>91518</td>\n",
       "      <td>6.01.02.09</td>\n",
       "      <td>None</td>\n",
       "    </tr>\n",
       "    <tr>\n",
       "      <th>25</th>\n",
       "      <td>20532</td>\n",
       "      <td>5</td>\n",
       "      <td>91518</td>\n",
       "      <td>6.01.02.10</td>\n",
       "      <td>-60,462,247,000.00</td>\n",
       "    </tr>\n",
       "    <tr>\n",
       "      <th>26</th>\n",
       "      <td>20532</td>\n",
       "      <td>5</td>\n",
       "      <td>91518</td>\n",
       "      <td>6.01.02.11</td>\n",
       "      <td>None</td>\n",
       "    </tr>\n",
       "    <tr>\n",
       "      <th>27</th>\n",
       "      <td>20532</td>\n",
       "      <td>5</td>\n",
       "      <td>91518</td>\n",
       "      <td>6.01.02.12</td>\n",
       "      <td>3,306,269,000.00</td>\n",
       "    </tr>\n",
       "    <tr>\n",
       "      <th>28</th>\n",
       "      <td>20532</td>\n",
       "      <td>5</td>\n",
       "      <td>91518</td>\n",
       "      <td>6.01.02.13</td>\n",
       "      <td>None</td>\n",
       "    </tr>\n",
       "    <tr>\n",
       "      <th>29</th>\n",
       "      <td>20532</td>\n",
       "      <td>5</td>\n",
       "      <td>91518</td>\n",
       "      <td>6.01.02.14</td>\n",
       "      <td>-4,874,323,000.00</td>\n",
       "    </tr>\n",
       "    <tr>\n",
       "      <th>...</th>\n",
       "      <td>...</td>\n",
       "      <td>...</td>\n",
       "      <td>...</td>\n",
       "      <td>...</td>\n",
       "      <td>...</td>\n",
       "    </tr>\n",
       "    <tr>\n",
       "      <th>31</th>\n",
       "      <td>20532</td>\n",
       "      <td>5</td>\n",
       "      <td>91518</td>\n",
       "      <td>6.01.02.16</td>\n",
       "      <td>40,961,046,000.00</td>\n",
       "    </tr>\n",
       "    <tr>\n",
       "      <th>32</th>\n",
       "      <td>20532</td>\n",
       "      <td>5</td>\n",
       "      <td>91518</td>\n",
       "      <td>6.01.02.17</td>\n",
       "      <td>1,759,085,000.00</td>\n",
       "    </tr>\n",
       "    <tr>\n",
       "      <th>33</th>\n",
       "      <td>20532</td>\n",
       "      <td>5</td>\n",
       "      <td>91518</td>\n",
       "      <td>6.01.02.18</td>\n",
       "      <td>-5,301,184,000.00</td>\n",
       "    </tr>\n",
       "    <tr>\n",
       "      <th>34</th>\n",
       "      <td>20532</td>\n",
       "      <td>5</td>\n",
       "      <td>91518</td>\n",
       "      <td>6.01.03</td>\n",
       "      <td>None</td>\n",
       "    </tr>\n",
       "    <tr>\n",
       "      <th>35</th>\n",
       "      <td>20532</td>\n",
       "      <td>5</td>\n",
       "      <td>91518</td>\n",
       "      <td>6.02</td>\n",
       "      <td>-2,305,410,000.00</td>\n",
       "    </tr>\n",
       "    <tr>\n",
       "      <th>36</th>\n",
       "      <td>20532</td>\n",
       "      <td>5</td>\n",
       "      <td>91518</td>\n",
       "      <td>6.02.01</td>\n",
       "      <td>-1,924,783,000.00</td>\n",
       "    </tr>\n",
       "    <tr>\n",
       "      <th>37</th>\n",
       "      <td>20532</td>\n",
       "      <td>5</td>\n",
       "      <td>91518</td>\n",
       "      <td>6.02.02</td>\n",
       "      <td>-1,311,800,000.00</td>\n",
       "    </tr>\n",
       "    <tr>\n",
       "      <th>38</th>\n",
       "      <td>20532</td>\n",
       "      <td>5</td>\n",
       "      <td>91518</td>\n",
       "      <td>6.02.03</td>\n",
       "      <td>29,911,000.00</td>\n",
       "    </tr>\n",
       "    <tr>\n",
       "      <th>39</th>\n",
       "      <td>20532</td>\n",
       "      <td>5</td>\n",
       "      <td>91518</td>\n",
       "      <td>6.02.04</td>\n",
       "      <td>148,273,000.00</td>\n",
       "    </tr>\n",
       "    <tr>\n",
       "      <th>40</th>\n",
       "      <td>20532</td>\n",
       "      <td>5</td>\n",
       "      <td>91518</td>\n",
       "      <td>6.02.05</td>\n",
       "      <td>753,735,000.00</td>\n",
       "    </tr>\n",
       "    <tr>\n",
       "      <th>41</th>\n",
       "      <td>20532</td>\n",
       "      <td>5</td>\n",
       "      <td>91518</td>\n",
       "      <td>6.02.06</td>\n",
       "      <td>None</td>\n",
       "    </tr>\n",
       "    <tr>\n",
       "      <th>42</th>\n",
       "      <td>20532</td>\n",
       "      <td>5</td>\n",
       "      <td>91518</td>\n",
       "      <td>6.02.07</td>\n",
       "      <td>None</td>\n",
       "    </tr>\n",
       "    <tr>\n",
       "      <th>43</th>\n",
       "      <td>20532</td>\n",
       "      <td>5</td>\n",
       "      <td>91518</td>\n",
       "      <td>6.02.08</td>\n",
       "      <td>-746,000.00</td>\n",
       "    </tr>\n",
       "    <tr>\n",
       "      <th>44</th>\n",
       "      <td>20532</td>\n",
       "      <td>5</td>\n",
       "      <td>91518</td>\n",
       "      <td>6.02.09</td>\n",
       "      <td>None</td>\n",
       "    </tr>\n",
       "    <tr>\n",
       "      <th>45</th>\n",
       "      <td>20532</td>\n",
       "      <td>5</td>\n",
       "      <td>91518</td>\n",
       "      <td>6.02.10</td>\n",
       "      <td>None</td>\n",
       "    </tr>\n",
       "    <tr>\n",
       "      <th>46</th>\n",
       "      <td>20532</td>\n",
       "      <td>5</td>\n",
       "      <td>91518</td>\n",
       "      <td>6.02.11</td>\n",
       "      <td>None</td>\n",
       "    </tr>\n",
       "    <tr>\n",
       "      <th>47</th>\n",
       "      <td>20532</td>\n",
       "      <td>5</td>\n",
       "      <td>91518</td>\n",
       "      <td>6.03</td>\n",
       "      <td>-26,199,863,000.00</td>\n",
       "    </tr>\n",
       "    <tr>\n",
       "      <th>48</th>\n",
       "      <td>20532</td>\n",
       "      <td>5</td>\n",
       "      <td>91518</td>\n",
       "      <td>6.03.01</td>\n",
       "      <td>-219,703,000.00</td>\n",
       "    </tr>\n",
       "    <tr>\n",
       "      <th>49</th>\n",
       "      <td>20532</td>\n",
       "      <td>5</td>\n",
       "      <td>91518</td>\n",
       "      <td>6.03.02</td>\n",
       "      <td>None</td>\n",
       "    </tr>\n",
       "    <tr>\n",
       "      <th>50</th>\n",
       "      <td>20532</td>\n",
       "      <td>5</td>\n",
       "      <td>91518</td>\n",
       "      <td>6.03.03</td>\n",
       "      <td>53,017,039,000.00</td>\n",
       "    </tr>\n",
       "    <tr>\n",
       "      <th>51</th>\n",
       "      <td>20532</td>\n",
       "      <td>5</td>\n",
       "      <td>91518</td>\n",
       "      <td>6.03.04</td>\n",
       "      <td>-6,953,718,000.00</td>\n",
       "    </tr>\n",
       "    <tr>\n",
       "      <th>52</th>\n",
       "      <td>20532</td>\n",
       "      <td>5</td>\n",
       "      <td>91518</td>\n",
       "      <td>6.03.05</td>\n",
       "      <td>-61,914,716,000.00</td>\n",
       "    </tr>\n",
       "    <tr>\n",
       "      <th>53</th>\n",
       "      <td>20532</td>\n",
       "      <td>5</td>\n",
       "      <td>91518</td>\n",
       "      <td>6.03.06</td>\n",
       "      <td>-9,885,607,000.00</td>\n",
       "    </tr>\n",
       "    <tr>\n",
       "      <th>54</th>\n",
       "      <td>20532</td>\n",
       "      <td>5</td>\n",
       "      <td>91518</td>\n",
       "      <td>6.03.07</td>\n",
       "      <td>-328,892,000.00</td>\n",
       "    </tr>\n",
       "    <tr>\n",
       "      <th>55</th>\n",
       "      <td>20532</td>\n",
       "      <td>5</td>\n",
       "      <td>91518</td>\n",
       "      <td>6.03.08</td>\n",
       "      <td>-14,266,000.00</td>\n",
       "    </tr>\n",
       "    <tr>\n",
       "      <th>56</th>\n",
       "      <td>20532</td>\n",
       "      <td>5</td>\n",
       "      <td>91518</td>\n",
       "      <td>6.03.09</td>\n",
       "      <td>100,000,000.00</td>\n",
       "    </tr>\n",
       "    <tr>\n",
       "      <th>57</th>\n",
       "      <td>20532</td>\n",
       "      <td>5</td>\n",
       "      <td>91518</td>\n",
       "      <td>6.04</td>\n",
       "      <td>-99,000.00</td>\n",
       "    </tr>\n",
       "    <tr>\n",
       "      <th>58</th>\n",
       "      <td>20532</td>\n",
       "      <td>5</td>\n",
       "      <td>91518</td>\n",
       "      <td>6.05</td>\n",
       "      <td>-3,633,572,000.00</td>\n",
       "    </tr>\n",
       "    <tr>\n",
       "      <th>59</th>\n",
       "      <td>20532</td>\n",
       "      <td>5</td>\n",
       "      <td>91518</td>\n",
       "      <td>6.05.01</td>\n",
       "      <td>25,285,160,000.00</td>\n",
       "    </tr>\n",
       "    <tr>\n",
       "      <th>60</th>\n",
       "      <td>20532</td>\n",
       "      <td>5</td>\n",
       "      <td>91518</td>\n",
       "      <td>6.05.02</td>\n",
       "      <td>21,651,588,000.00</td>\n",
       "    </tr>\n",
       "  </tbody>\n",
       "</table>\n",
       "<p>61 rows × 5 columns</p>\n",
       "</div>"
      ],
      "text/plain": [
       "   CD_CVM IND CD_RELATORIO       CONTA              VALOR\n",
       "0   20532   5        91518        6.01  24,871,800,000.00\n",
       "1   20532   5        91518     6.01.01  31,286,327,000.00\n",
       "2   20532   5        91518  6.01.01.01  16,631,450,000.00\n",
       "3   20532   5        91518  6.01.01.02   1,870,836,000.00\n",
       "4   20532   5        91518  6.01.01.03     521,021,000.00\n",
       "5   20532   5        91518  6.01.01.04     131,435,000.00\n",
       "6   20532   5        91518  6.01.01.05  17,051,491,000.00\n",
       "7   20532   5        91518  6.01.01.06     -20,489,000.00\n",
       "8   20532   5        91518  6.01.01.07    -149,488,000.00\n",
       "9   20532   5        91518  6.01.01.08  -2,912,281,000.00\n",
       "10  20532   5        91518  6.01.01.09    -574,399,000.00\n",
       "11  20532   5        91518  6.01.01.10    -182,469,000.00\n",
       "12  20532   5        91518  6.01.01.11          99,000.00\n",
       "13  20532   5        91518  6.01.01.12  -2,609,679,000.00\n",
       "14  20532   5        91518  6.01.01.13   1,528,800,000.00\n",
       "15  20532   5        91518     6.01.02  -6,414,527,000.00\n",
       "16  20532   5        91518  6.01.02.01         855,000.00\n",
       "17  20532   5        91518  6.01.02.02               None\n",
       "18  20532   5        91518  6.01.02.03  11,080,730,000.00\n",
       "19  20532   5        91518  6.01.02.04               None\n",
       "20  20532   5        91518  6.01.02.05  11,831,411,000.00\n",
       "21  20532   5        91518  6.01.02.06     746,024,000.00\n",
       "22  20532   5        91518  6.01.02.07               None\n",
       "23  20532   5        91518  6.01.02.08  -8,835,552,000.00\n",
       "24  20532   5        91518  6.01.02.09               None\n",
       "25  20532   5        91518  6.01.02.10 -60,462,247,000.00\n",
       "26  20532   5        91518  6.01.02.11               None\n",
       "27  20532   5        91518  6.01.02.12   3,306,269,000.00\n",
       "28  20532   5        91518  6.01.02.13               None\n",
       "29  20532   5        91518  6.01.02.14  -4,874,323,000.00\n",
       "..    ...  ..          ...         ...                ...\n",
       "31  20532   5        91518  6.01.02.16  40,961,046,000.00\n",
       "32  20532   5        91518  6.01.02.17   1,759,085,000.00\n",
       "33  20532   5        91518  6.01.02.18  -5,301,184,000.00\n",
       "34  20532   5        91518     6.01.03               None\n",
       "35  20532   5        91518        6.02  -2,305,410,000.00\n",
       "36  20532   5        91518     6.02.01  -1,924,783,000.00\n",
       "37  20532   5        91518     6.02.02  -1,311,800,000.00\n",
       "38  20532   5        91518     6.02.03      29,911,000.00\n",
       "39  20532   5        91518     6.02.04     148,273,000.00\n",
       "40  20532   5        91518     6.02.05     753,735,000.00\n",
       "41  20532   5        91518     6.02.06               None\n",
       "42  20532   5        91518     6.02.07               None\n",
       "43  20532   5        91518     6.02.08        -746,000.00\n",
       "44  20532   5        91518     6.02.09               None\n",
       "45  20532   5        91518     6.02.10               None\n",
       "46  20532   5        91518     6.02.11               None\n",
       "47  20532   5        91518        6.03 -26,199,863,000.00\n",
       "48  20532   5        91518     6.03.01    -219,703,000.00\n",
       "49  20532   5        91518     6.03.02               None\n",
       "50  20532   5        91518     6.03.03  53,017,039,000.00\n",
       "51  20532   5        91518     6.03.04  -6,953,718,000.00\n",
       "52  20532   5        91518     6.03.05 -61,914,716,000.00\n",
       "53  20532   5        91518     6.03.06  -9,885,607,000.00\n",
       "54  20532   5        91518     6.03.07    -328,892,000.00\n",
       "55  20532   5        91518     6.03.08     -14,266,000.00\n",
       "56  20532   5        91518     6.03.09     100,000,000.00\n",
       "57  20532   5        91518        6.04         -99,000.00\n",
       "58  20532   5        91518        6.05  -3,633,572,000.00\n",
       "59  20532   5        91518     6.05.01  25,285,160,000.00\n",
       "60  20532   5        91518     6.05.02  21,651,588,000.00\n",
       "\n",
       "[61 rows x 5 columns]"
      ]
     },
     "execution_count": 23,
     "metadata": {},
     "output_type": "execute_result"
    }
   ],
   "source": [
    "pd.DataFrame(tabela[1], columns=tabela[0])"
   ]
  },
  {
   "cell_type": "code",
   "execution_count": 7,
   "metadata": {},
   "outputs": [],
   "source": [
    "cnn = bi.sqlite(r'C:\\Users\\11111\\Desktop\\fmtpy\\db\\teste.db')"
   ]
  },
  {
   "cell_type": "code",
   "execution_count": 10,
   "metadata": {},
   "outputs": [],
   "source": [
    "z = bi.Upload(cnn, ['MOVI3'], [2013, 2015], r'C:\\Users\\11111\\Desktop\\Python\\chromedriver.exe')"
   ]
  },
  {
   "cell_type": "code",
   "execution_count": null,
   "metadata": {},
   "outputs": [],
   "source": []
  },
  {
   "cell_type": "code",
   "execution_count": 11,
   "metadata": {
    "scrolled": true
   },
   "outputs": [
    {
     "name": "stdout",
     "output_type": "stream",
     "text": [
      "Número de tentativas excedidads para o site da B3!!\n"
     ]
    },
    {
     "ename": "AttributeError",
     "evalue": "'NoneType' object has no attribute 'find_all'",
     "output_type": "error",
     "traceback": [
      "\u001b[1;31m---------------------------------------------------------------------------\u001b[0m",
      "\u001b[1;31mAttributeError\u001b[0m                            Traceback (most recent call last)",
      "\u001b[1;32m<ipython-input-11-f28812c9a1c0>\u001b[0m in \u001b[0;36m<module>\u001b[1;34m\u001b[0m\n\u001b[1;32m----> 1\u001b[1;33m \u001b[0mz\u001b[0m\u001b[1;33m.\u001b[0m\u001b[0mgo\u001b[0m\u001b[1;33m(\u001b[0m\u001b[1;33m)\u001b[0m\u001b[1;33m\u001b[0m\u001b[1;33m\u001b[0m\u001b[0m\n\u001b[0m",
      "\u001b[1;32m~\\Desktop\\fmtpy\\fmtpy\\fmtpy\\bi.py\u001b[0m in \u001b[0;36mgo\u001b[1;34m(self)\u001b[0m\n\u001b[0;32m    156\u001b[0m         \u001b[0mself\u001b[0m\u001b[1;33m.\u001b[0m\u001b[0mbalanco\u001b[0m \u001b[1;33m=\u001b[0m \u001b[0mBalancos\u001b[0m\u001b[1;33m(\u001b[0m\u001b[0mself\u001b[0m\u001b[1;33m.\u001b[0m\u001b[0macao\u001b[0m\u001b[1;33m[\u001b[0m\u001b[1;36m0\u001b[0m\u001b[1;33m]\u001b[0m\u001b[1;33m,\u001b[0m\u001b[0mself\u001b[0m\u001b[1;33m.\u001b[0m\u001b[0mwdriver\u001b[0m\u001b[1;33m)\u001b[0m\u001b[1;33m\u001b[0m\u001b[1;33m\u001b[0m\u001b[0m\n\u001b[0;32m    157\u001b[0m         \u001b[1;32mfor\u001b[0m \u001b[0mano\u001b[0m \u001b[1;32min\u001b[0m \u001b[0mself\u001b[0m\u001b[1;33m.\u001b[0m\u001b[0manos\u001b[0m\u001b[1;33m:\u001b[0m\u001b[1;33m\u001b[0m\u001b[1;33m\u001b[0m\u001b[0m\n\u001b[1;32m--> 158\u001b[1;33m             \u001b[1;32mif\u001b[0m \u001b[0mself\u001b[0m\u001b[1;33m.\u001b[0m\u001b[0mbalanco\u001b[0m\u001b[1;33m.\u001b[0m\u001b[0mbalanco\u001b[0m\u001b[1;33m.\u001b[0m\u001b[0mrelatorios_cvm\u001b[0m\u001b[1;33m(\u001b[0m\u001b[0mano\u001b[0m\u001b[1;33m)\u001b[0m\u001b[1;33m:\u001b[0m\u001b[1;33m\u001b[0m\u001b[1;33m\u001b[0m\u001b[0m\n\u001b[0m\u001b[0;32m    159\u001b[0m                 \u001b[1;32mfor\u001b[0m \u001b[0mtri\u001b[0m \u001b[1;32min\u001b[0m \u001b[1;33m[\u001b[0m\u001b[0mi\u001b[0m \u001b[1;32mfor\u001b[0m \u001b[0mi\u001b[0m \u001b[1;32min\u001b[0m \u001b[0mself\u001b[0m\u001b[1;33m.\u001b[0m\u001b[0mbalanco\u001b[0m\u001b[1;33m.\u001b[0m\u001b[0mbalanco\u001b[0m\u001b[1;33m.\u001b[0m\u001b[0mrelatorios\u001b[0m\u001b[1;33m[\u001b[0m\u001b[0mano\u001b[0m\u001b[1;33m]\u001b[0m\u001b[1;33m]\u001b[0m\u001b[1;33m:\u001b[0m\u001b[1;33m\u001b[0m\u001b[1;33m\u001b[0m\u001b[0m\n\u001b[0;32m    160\u001b[0m                     \u001b[1;32mfor\u001b[0m \u001b[0mind\u001b[0m \u001b[1;32min\u001b[0m \u001b[0mmain\u001b[0m\u001b[1;33m.\u001b[0m\u001b[0mindice_ind\u001b[0m\u001b[1;33m:\u001b[0m\u001b[1;33m\u001b[0m\u001b[1;33m\u001b[0m\u001b[0m\n",
      "\u001b[1;32m~\\Desktop\\fmtpy\\fmtpy\\fmtpy\\cvmpy.py\u001b[0m in \u001b[0;36mrelatorios_cvm\u001b[1;34m(self, ano)\u001b[0m\n\u001b[0;32m     83\u001b[0m                 \u001b[0mprint\u001b[0m\u001b[1;33m(\u001b[0m\u001b[1;34m'Número de tentativas excedidads para o site da B3!!'\u001b[0m\u001b[1;33m)\u001b[0m\u001b[1;33m\u001b[0m\u001b[1;33m\u001b[0m\u001b[0m\n\u001b[0;32m     84\u001b[0m \u001b[1;33m\u001b[0m\u001b[0m\n\u001b[1;32m---> 85\u001b[1;33m         \u001b[0manos\u001b[0m \u001b[1;33m=\u001b[0m \u001b[0msoup\u001b[0m\u001b[1;33m.\u001b[0m\u001b[0mfind\u001b[0m\u001b[1;33m(\u001b[0m\u001b[0mid\u001b[0m\u001b[1;33m=\u001b[0m\u001b[1;34m'ctl00_contentPlaceHolderConteudo_cmbAno'\u001b[0m\u001b[1;33m)\u001b[0m\u001b[1;33m.\u001b[0m\u001b[0mfind_all\u001b[0m\u001b[1;33m(\u001b[0m\u001b[1;34m'option'\u001b[0m\u001b[1;33m)\u001b[0m\u001b[1;33m\u001b[0m\u001b[1;33m\u001b[0m\u001b[0m\n\u001b[0m\u001b[0;32m     86\u001b[0m         \u001b[1;32mif\u001b[0m \u001b[0mstr\u001b[0m\u001b[1;33m(\u001b[0m\u001b[0mano\u001b[0m\u001b[1;33m)\u001b[0m \u001b[1;32mnot\u001b[0m \u001b[1;32min\u001b[0m \u001b[1;33m[\u001b[0m\u001b[0mi\u001b[0m\u001b[1;33m.\u001b[0m\u001b[0mtext\u001b[0m \u001b[1;32mfor\u001b[0m \u001b[0mi\u001b[0m \u001b[1;32min\u001b[0m \u001b[0manos\u001b[0m\u001b[1;33m]\u001b[0m\u001b[1;33m:\u001b[0m\u001b[1;33m\u001b[0m\u001b[1;33m\u001b[0m\u001b[0m\n\u001b[0;32m     87\u001b[0m             \u001b[1;32mreturn\u001b[0m \u001b[1;32mFalse\u001b[0m\u001b[1;33m\u001b[0m\u001b[1;33m\u001b[0m\u001b[0m\n",
      "\u001b[1;31mAttributeError\u001b[0m: 'NoneType' object has no attribute 'find_all'"
     ]
    }
   ],
   "source": [
    "z.go()"
   ]
  },
  {
   "cell_type": "code",
   "execution_count": 11,
   "metadata": {},
   "outputs": [
    {
     "ename": "NameError",
     "evalue": "name 'x' is not defined",
     "output_type": "error",
     "traceback": [
      "\u001b[1;31m---------------------------------------------------------------------------\u001b[0m",
      "\u001b[1;31mNameError\u001b[0m                                 Traceback (most recent call last)",
      "\u001b[1;32m<ipython-input-11-d5fa5cd21441>\u001b[0m in \u001b[0;36m<module>\u001b[1;34m\u001b[0m\n\u001b[1;32m----> 1\u001b[1;33m \u001b[0mx\u001b[0m\u001b[1;33m.\u001b[0m\u001b[0mbalanco\u001b[0m \u001b[1;33m=\u001b[0m \u001b[0mbi\u001b[0m\u001b[1;33m.\u001b[0m\u001b[0mBalancos\u001b[0m\u001b[1;33m(\u001b[0m\u001b[0mx\u001b[0m\u001b[1;33m.\u001b[0m\u001b[0macao\u001b[0m\u001b[1;33m[\u001b[0m\u001b[1;36m0\u001b[0m\u001b[1;33m]\u001b[0m\u001b[1;33m,\u001b[0m\u001b[0mx\u001b[0m\u001b[1;33m.\u001b[0m\u001b[0mwdriver\u001b[0m\u001b[1;33m)\u001b[0m\u001b[1;33m\u001b[0m\u001b[1;33m\u001b[0m\u001b[0m\n\u001b[0m\u001b[0;32m      2\u001b[0m \u001b[0mx\u001b[0m\u001b[1;33m.\u001b[0m\u001b[0mbalanco\u001b[0m\u001b[1;33m.\u001b[0m\u001b[0mbalanco\u001b[0m\u001b[1;33m.\u001b[0m\u001b[0mrelatorios_cvm\u001b[0m\u001b[1;33m(\u001b[0m\u001b[1;36m2013\u001b[0m\u001b[1;33m)\u001b[0m\u001b[1;33m\u001b[0m\u001b[1;33m\u001b[0m\u001b[0m\n",
      "\u001b[1;31mNameError\u001b[0m: name 'x' is not defined"
     ]
    }
   ],
   "source": [
    "x.balanco = bi.Balancos(x.acao[0],x.wdriver)\n",
    "x.balanco.balanco.relatorios_cvm(2013)"
   ]
  },
  {
   "cell_type": "code",
   "execution_count": 10,
   "metadata": {},
   "outputs": [
    {
     "name": "stdout",
     "output_type": "stream",
     "text": [
      "input 2 2019 1\n",
      "Obtendo Balanço Ativo para MOVI3 referente ao 1º trimestre de 2019\n"
     ]
    },
    {
     "ename": "IndexError",
     "evalue": "index 10 is out of bounds for axis 1 with size 10",
     "output_type": "error",
     "traceback": [
      "\u001b[1;31m---------------------------------------------------------------------------\u001b[0m",
      "\u001b[1;31mIndexError\u001b[0m                                Traceback (most recent call last)",
      "\u001b[1;32m<ipython-input-10-a3f1b43066f5>\u001b[0m in \u001b[0;36m<module>\u001b[1;34m\u001b[0m\n\u001b[1;32m----> 1\u001b[1;33m \u001b[0mx\u001b[0m\u001b[1;33m.\u001b[0m\u001b[0minput\u001b[0m\u001b[1;33m(\u001b[0m\u001b[1;36m2\u001b[0m\u001b[1;33m,\u001b[0m\u001b[1;36m2019\u001b[0m\u001b[1;33m,\u001b[0m\u001b[1;36m1\u001b[0m\u001b[1;33m)\u001b[0m\u001b[1;33m\u001b[0m\u001b[1;33m\u001b[0m\u001b[0m\n\u001b[0m",
      "\u001b[1;32m~\\Desktop\\fmtpy\\fmtpy\\fmtpy\\bi.py\u001b[0m in \u001b[0;36minput\u001b[1;34m(self, ind, ano, tri)\u001b[0m\n\u001b[0;32m    167\u001b[0m                 CD_RELATORIO=self.balanco.balanco.relatorios[ano][tri][2]):\n\u001b[0;32m    168\u001b[0m \u001b[1;33m\u001b[0m\u001b[0m\n\u001b[1;32m--> 169\u001b[1;33m             \u001b[0mself\u001b[0m\u001b[1;33m.\u001b[0m\u001b[0mbalanco\u001b[0m\u001b[1;33m.\u001b[0m\u001b[0mfat_balancos_cvm_agregado\u001b[0m\u001b[1;33m(\u001b[0m\u001b[0mind\u001b[0m\u001b[1;33m,\u001b[0m \u001b[0mano\u001b[0m\u001b[1;33m,\u001b[0m \u001b[0mtri\u001b[0m\u001b[1;33m)\u001b[0m\u001b[0;31m\\\u001b[0m\u001b[1;33m\u001b[0m\u001b[1;33m\u001b[0m\u001b[0m\n\u001b[0m\u001b[0;32m    170\u001b[0m                 \u001b[1;33m.\u001b[0m\u001b[0mto_sql\u001b[0m\u001b[1;33m(\u001b[0m\u001b[1;34m'fat_balancos_cvm_agregado'\u001b[0m\u001b[1;33m,\u001b[0m\u001b[0mself\u001b[0m\u001b[1;33m.\u001b[0m\u001b[0mcnn\u001b[0m\u001b[1;33m,\u001b[0m \u001b[0mcampos\u001b[0m\u001b[1;33m=\u001b[0m\u001b[1;33m[\u001b[0m\u001b[1;34m'CD_CVM'\u001b[0m\u001b[1;33m,\u001b[0m \u001b[1;34m'IND'\u001b[0m\u001b[1;33m,\u001b[0m \u001b[1;34m'CD_RELATORIO'\u001b[0m\u001b[1;33m]\u001b[0m\u001b[1;33m)\u001b[0m\u001b[1;33m\u001b[0m\u001b[1;33m\u001b[0m\u001b[0m\n\u001b[0;32m    171\u001b[0m \u001b[1;33m\u001b[0m\u001b[0m\n",
      "\u001b[1;32m~\\Desktop\\fmtpy\\fmtpy\\fmtpy\\bi.py\u001b[0m in \u001b[0;36mfat_balancos_cvm_agregado\u001b[1;34m(self, ind, ano, tri)\u001b[0m\n\u001b[0;32m    113\u001b[0m     \u001b[1;32mdef\u001b[0m \u001b[0mfat_balancos_cvm_agregado\u001b[0m\u001b[1;33m(\u001b[0m\u001b[0mself\u001b[0m\u001b[1;33m,\u001b[0m \u001b[0mind\u001b[0m\u001b[1;33m,\u001b[0m \u001b[0mano\u001b[0m\u001b[1;33m,\u001b[0m \u001b[0mtri\u001b[0m\u001b[1;33m)\u001b[0m\u001b[1;33m:\u001b[0m\u001b[1;33m\u001b[0m\u001b[1;33m\u001b[0m\u001b[0m\n\u001b[0;32m    114\u001b[0m         \u001b[0mtabela\u001b[0m \u001b[1;33m=\u001b[0m \u001b[0mself\u001b[0m\u001b[1;33m.\u001b[0m\u001b[0mget\u001b[0m\u001b[1;33m(\u001b[0m\u001b[0mind\u001b[0m\u001b[1;33m,\u001b[0m\u001b[0mano\u001b[0m\u001b[1;33m,\u001b[0m\u001b[0mtri\u001b[0m\u001b[1;33m,\u001b[0m\u001b[1;32mFalse\u001b[0m\u001b[1;33m)\u001b[0m\u001b[1;33m\u001b[0m\u001b[1;33m\u001b[0m\u001b[0m\n\u001b[1;32m--> 115\u001b[1;33m         \u001b[1;32mreturn\u001b[0m \u001b[0mFeatures\u001b[0m\u001b[1;33m(\u001b[0m\u001b[0mtabela\u001b[0m\u001b[1;33m[\u001b[0m\u001b[1;36m0\u001b[0m\u001b[1;33m]\u001b[0m\u001b[1;33m,\u001b[0m \u001b[0mtabela\u001b[0m\u001b[1;33m[\u001b[0m\u001b[1;36m1\u001b[0m\u001b[1;33m]\u001b[0m\u001b[1;33m)\u001b[0m\u001b[1;33m[\u001b[0m\u001b[1;34m'CD_CVM'\u001b[0m\u001b[1;33m,\u001b[0m \u001b[1;34m'IND'\u001b[0m\u001b[1;33m,\u001b[0m \u001b[1;34m'CD_RELATORIO'\u001b[0m\u001b[1;33m,\u001b[0m \u001b[1;34m'CONTA'\u001b[0m\u001b[1;33m,\u001b[0m \u001b[1;34m'VALOR'\u001b[0m\u001b[1;33m]\u001b[0m\u001b[1;33m\u001b[0m\u001b[1;33m\u001b[0m\u001b[0m\n\u001b[0m\u001b[0;32m    116\u001b[0m \u001b[1;33m\u001b[0m\u001b[0m\n\u001b[0;32m    117\u001b[0m     \u001b[1;32mdef\u001b[0m \u001b[0mdim_ativo\u001b[0m\u001b[1;33m(\u001b[0m\u001b[0mself\u001b[0m\u001b[1;33m)\u001b[0m\u001b[1;33m:\u001b[0m\u001b[1;33m\u001b[0m\u001b[1;33m\u001b[0m\u001b[0m\n",
      "\u001b[1;32m~\\Desktop\\fmtpy\\fmtpy\\fmtpy\\bi.py\u001b[0m in \u001b[0;36m__init__\u001b[1;34m(self, head, dados, nome)\u001b[0m\n\u001b[0;32m     84\u001b[0m \u001b[1;33m\u001b[0m\u001b[0m\n\u001b[0;32m     85\u001b[0m     \u001b[1;32mdef\u001b[0m \u001b[0m__init__\u001b[0m\u001b[1;33m(\u001b[0m\u001b[0mself\u001b[0m\u001b[1;33m,\u001b[0m \u001b[0mhead\u001b[0m\u001b[1;33m,\u001b[0m \u001b[0mdados\u001b[0m\u001b[1;33m,\u001b[0m \u001b[0mnome\u001b[0m\u001b[1;33m=\u001b[0m\u001b[1;34m''\u001b[0m\u001b[1;33m)\u001b[0m\u001b[1;33m:\u001b[0m\u001b[1;33m\u001b[0m\u001b[1;33m\u001b[0m\u001b[0m\n\u001b[1;32m---> 86\u001b[1;33m         \u001b[0msuper\u001b[0m\u001b[1;33m(\u001b[0m\u001b[1;33m)\u001b[0m\u001b[1;33m.\u001b[0m\u001b[0m__init__\u001b[0m\u001b[1;33m(\u001b[0m\u001b[0mhead\u001b[0m\u001b[1;33m,\u001b[0m \u001b[0mdados\u001b[0m\u001b[1;33m,\u001b[0m \u001b[0mnome\u001b[0m\u001b[1;33m)\u001b[0m\u001b[1;33m\u001b[0m\u001b[1;33m\u001b[0m\u001b[0m\n\u001b[0m\u001b[0;32m     87\u001b[0m \u001b[1;33m\u001b[0m\u001b[0m\n\u001b[0;32m     88\u001b[0m     \u001b[1;31m# no caso de replace, retorna os dados que serão deletados\u001b[0m\u001b[1;33m\u001b[0m\u001b[1;33m\u001b[0m\u001b[1;33m\u001b[0m\u001b[0m\n",
      "\u001b[1;32m~\\Desktop\\fmtpy\\fmtpy\\fmtpy\\main.py\u001b[0m in \u001b[0;36m__init__\u001b[1;34m(self, head, dados, nome)\u001b[0m\n\u001b[0;32m    315\u001b[0m         \u001b[0mself\u001b[0m\u001b[1;33m.\u001b[0m\u001b[0mativo\u001b[0m \u001b[1;33m=\u001b[0m \u001b[0mnome\u001b[0m\u001b[1;33m\u001b[0m\u001b[1;33m\u001b[0m\u001b[0m\n\u001b[0;32m    316\u001b[0m         \u001b[1;32mfor\u001b[0m \u001b[0mj\u001b[0m\u001b[1;33m,\u001b[0m \u001b[0mi\u001b[0m \u001b[1;32min\u001b[0m \u001b[0menumerate\u001b[0m\u001b[1;33m(\u001b[0m\u001b[0mself\u001b[0m\u001b[1;33m.\u001b[0m\u001b[0mhead\u001b[0m\u001b[1;33m)\u001b[0m\u001b[1;33m:\u001b[0m\u001b[1;33m\u001b[0m\u001b[1;33m\u001b[0m\u001b[0m\n\u001b[1;32m--> 317\u001b[1;33m             \u001b[0msetattr\u001b[0m\u001b[1;33m(\u001b[0m\u001b[0mself\u001b[0m\u001b[1;33m,\u001b[0m \u001b[0mi\u001b[0m\u001b[1;33m,\u001b[0m \u001b[0mself\u001b[0m\u001b[1;33m.\u001b[0m\u001b[0mdados\u001b[0m\u001b[1;33m[\u001b[0m\u001b[1;33m:\u001b[0m\u001b[1;33m,\u001b[0m\u001b[0mj\u001b[0m\u001b[1;33m]\u001b[0m\u001b[1;33m)\u001b[0m\u001b[1;33m\u001b[0m\u001b[1;33m\u001b[0m\u001b[0m\n\u001b[0m\u001b[0;32m    318\u001b[0m \u001b[1;33m\u001b[0m\u001b[0m\n\u001b[0;32m    319\u001b[0m     \u001b[1;32mdef\u001b[0m \u001b[0m__repr__\u001b[0m\u001b[1;33m(\u001b[0m\u001b[0mself\u001b[0m\u001b[1;33m)\u001b[0m\u001b[1;33m:\u001b[0m\u001b[1;33m\u001b[0m\u001b[1;33m\u001b[0m\u001b[0m\n",
      "\u001b[1;31mIndexError\u001b[0m: index 10 is out of bounds for axis 1 with size 10"
     ]
    }
   ],
   "source": [
    "x.input(2,2019,1)"
   ]
  },
  {
   "cell_type": "code",
   "execution_count": null,
   "metadata": {},
   "outputs": [],
   "source": []
  },
  {
   "cell_type": "code",
   "execution_count": 8,
   "metadata": {},
   "outputs": [
    {
     "name": "stdout",
     "output_type": "stream",
     "text": [
      "Obtendo Resultado para PETR4 referente ao 1º trimestre de 2019\n"
     ]
    },
    {
     "name": "stderr",
     "output_type": "stream",
     "text": [
      "C:\\Users\\11111\\Desktop\\fmtpy\\fmtpy\\fmtpy\\cvmpy.py:138: UserWarning: No parser was explicitly specified, so I'm using the best available HTML parser for this system (\"lxml\"). This usually isn't a problem, but if you run this code on another system, or in a different virtual environment, it may use a different parser and behave differently.\n",
      "\n",
      "The code that caused this warning is on line 138 of the file C:\\Users\\11111\\Desktop\\fmtpy\\fmtpy\\fmtpy\\cvmpy.py. To get rid of this warning, pass the additional argument 'features=\"lxml\"' to the BeautifulSoup constructor.\n",
      "\n",
      "  soup = BeautifulSoup(response)\n"
     ]
    },
    {
     "name": "stdout",
     "output_type": "stream",
     "text": [
      "1\n",
      "Obtendo Balanço Ativo para PETR4 referente ao 1º trimestre de 2019\n"
     ]
    },
    {
     "ename": "IndexError",
     "evalue": "index 10 is out of bounds for axis 1 with size 10",
     "output_type": "error",
     "traceback": [
      "\u001b[1;31m---------------------------------------------------------------------------\u001b[0m",
      "\u001b[1;31mIndexError\u001b[0m                                Traceback (most recent call last)",
      "\u001b[1;32m<ipython-input-8-613cc2b61f9b>\u001b[0m in \u001b[0;36m<module>\u001b[1;34m\u001b[0m\n\u001b[1;32m----> 1\u001b[1;33m \u001b[0mx\u001b[0m\u001b[1;33m.\u001b[0m\u001b[0mgo\u001b[0m\u001b[1;33m(\u001b[0m\u001b[1;33m)\u001b[0m\u001b[1;33m\u001b[0m\u001b[1;33m\u001b[0m\u001b[0m\n\u001b[0m",
      "\u001b[1;32m~\\Desktop\\fmtpy\\fmtpy\\fmtpy\\bi.py\u001b[0m in \u001b[0;36mgo\u001b[1;34m(self)\u001b[0m\n\u001b[0;32m    160\u001b[0m             \u001b[1;32mfor\u001b[0m \u001b[0mtri\u001b[0m \u001b[1;32min\u001b[0m \u001b[0mrange\u001b[0m\u001b[1;33m(\u001b[0m\u001b[1;36m1\u001b[0m\u001b[1;33m,\u001b[0m\u001b[1;36m5\u001b[0m\u001b[1;33m)\u001b[0m\u001b[1;33m:\u001b[0m\u001b[1;33m\u001b[0m\u001b[1;33m\u001b[0m\u001b[0m\n\u001b[0;32m    161\u001b[0m                 \u001b[1;32mfor\u001b[0m \u001b[0mind\u001b[0m \u001b[1;32min\u001b[0m \u001b[0mmain\u001b[0m\u001b[1;33m.\u001b[0m\u001b[0mindice_ind\u001b[0m\u001b[1;33m:\u001b[0m\u001b[1;33m\u001b[0m\u001b[1;33m\u001b[0m\u001b[0m\n\u001b[1;32m--> 162\u001b[1;33m                     \u001b[0mself\u001b[0m\u001b[1;33m.\u001b[0m\u001b[0minput\u001b[0m\u001b[1;33m(\u001b[0m\u001b[0mind\u001b[0m\u001b[1;33m,\u001b[0m \u001b[0mano\u001b[0m\u001b[1;33m,\u001b[0m \u001b[0mtri\u001b[0m\u001b[1;33m)\u001b[0m\u001b[1;33m\u001b[0m\u001b[1;33m\u001b[0m\u001b[0m\n\u001b[0m\u001b[0;32m    163\u001b[0m \u001b[1;33m\u001b[0m\u001b[0m\n\u001b[0;32m    164\u001b[0m     \u001b[1;32mdef\u001b[0m \u001b[0minput\u001b[0m\u001b[1;33m(\u001b[0m\u001b[0mself\u001b[0m\u001b[1;33m,\u001b[0m \u001b[0mind\u001b[0m\u001b[1;33m,\u001b[0m \u001b[0mano\u001b[0m\u001b[1;33m,\u001b[0m \u001b[0mtri\u001b[0m\u001b[1;33m)\u001b[0m\u001b[1;33m:\u001b[0m\u001b[1;33m\u001b[0m\u001b[1;33m\u001b[0m\u001b[0m\n",
      "\u001b[1;32m~\\Desktop\\fmtpy\\fmtpy\\fmtpy\\bi.py\u001b[0m in \u001b[0;36minput\u001b[1;34m(self, ind, ano, tri)\u001b[0m\n\u001b[0;32m    167\u001b[0m                 CD_RELATORIO=self.balanco.balanco.relatorios[ano][tri][2]):\n\u001b[0;32m    168\u001b[0m \u001b[1;33m\u001b[0m\u001b[0m\n\u001b[1;32m--> 169\u001b[1;33m             \u001b[0mself\u001b[0m\u001b[1;33m.\u001b[0m\u001b[0mbalanco\u001b[0m\u001b[1;33m.\u001b[0m\u001b[0mfat_balancos_cvm_agregado\u001b[0m\u001b[1;33m(\u001b[0m\u001b[0mind\u001b[0m\u001b[1;33m,\u001b[0m \u001b[0mano\u001b[0m\u001b[1;33m,\u001b[0m \u001b[0mtri\u001b[0m\u001b[1;33m)\u001b[0m\u001b[0;31m\\\u001b[0m\u001b[1;33m\u001b[0m\u001b[1;33m\u001b[0m\u001b[0m\n\u001b[0m\u001b[0;32m    170\u001b[0m                 \u001b[1;33m.\u001b[0m\u001b[0mto_sql\u001b[0m\u001b[1;33m(\u001b[0m\u001b[1;34m'fat_balancos_cvm_agregado'\u001b[0m\u001b[1;33m,\u001b[0m\u001b[0mself\u001b[0m\u001b[1;33m.\u001b[0m\u001b[0mcnn\u001b[0m\u001b[1;33m,\u001b[0m \u001b[0mcampos\u001b[0m\u001b[1;33m=\u001b[0m\u001b[1;33m[\u001b[0m\u001b[1;34m'CD_CVM'\u001b[0m\u001b[1;33m,\u001b[0m \u001b[1;34m'IND'\u001b[0m\u001b[1;33m,\u001b[0m \u001b[1;34m'CD_RELATORIO'\u001b[0m\u001b[1;33m]\u001b[0m\u001b[1;33m)\u001b[0m\u001b[1;33m\u001b[0m\u001b[1;33m\u001b[0m\u001b[0m\n\u001b[0;32m    171\u001b[0m \u001b[1;33m\u001b[0m\u001b[0m\n",
      "\u001b[1;32m~\\Desktop\\fmtpy\\fmtpy\\fmtpy\\bi.py\u001b[0m in \u001b[0;36mfat_balancos_cvm_agregado\u001b[1;34m(self, ind, ano, tri)\u001b[0m\n\u001b[0;32m    114\u001b[0m     \u001b[1;32mdef\u001b[0m \u001b[0mfat_balancos_cvm_agregado\u001b[0m\u001b[1;33m(\u001b[0m\u001b[0mself\u001b[0m\u001b[1;33m,\u001b[0m \u001b[0mind\u001b[0m\u001b[1;33m,\u001b[0m \u001b[0mano\u001b[0m\u001b[1;33m,\u001b[0m \u001b[0mtri\u001b[0m\u001b[1;33m)\u001b[0m\u001b[1;33m:\u001b[0m\u001b[1;33m\u001b[0m\u001b[1;33m\u001b[0m\u001b[0m\n\u001b[0;32m    115\u001b[0m         \u001b[0mtabela\u001b[0m \u001b[1;33m=\u001b[0m \u001b[0mself\u001b[0m\u001b[1;33m.\u001b[0m\u001b[0mget\u001b[0m\u001b[1;33m(\u001b[0m\u001b[0mind\u001b[0m\u001b[1;33m,\u001b[0m\u001b[0mano\u001b[0m\u001b[1;33m,\u001b[0m\u001b[0mtri\u001b[0m\u001b[1;33m,\u001b[0m\u001b[1;32mFalse\u001b[0m\u001b[1;33m)\u001b[0m\u001b[1;33m\u001b[0m\u001b[1;33m\u001b[0m\u001b[0m\n\u001b[1;32m--> 116\u001b[1;33m         \u001b[1;32mreturn\u001b[0m \u001b[0mFeatures\u001b[0m\u001b[1;33m(\u001b[0m\u001b[0mtabela\u001b[0m\u001b[1;33m[\u001b[0m\u001b[1;36m0\u001b[0m\u001b[1;33m]\u001b[0m\u001b[1;33m,\u001b[0m \u001b[0mtabela\u001b[0m\u001b[1;33m[\u001b[0m\u001b[1;36m1\u001b[0m\u001b[1;33m]\u001b[0m\u001b[1;33m)\u001b[0m\u001b[1;33m[\u001b[0m\u001b[1;34m'CD_CVM'\u001b[0m\u001b[1;33m,\u001b[0m \u001b[1;34m'IND'\u001b[0m\u001b[1;33m,\u001b[0m \u001b[1;34m'CD_RELATORIO'\u001b[0m\u001b[1;33m,\u001b[0m \u001b[1;34m'CONTA'\u001b[0m\u001b[1;33m,\u001b[0m \u001b[1;34m'VALOR'\u001b[0m\u001b[1;33m]\u001b[0m\u001b[1;33m\u001b[0m\u001b[1;33m\u001b[0m\u001b[0m\n\u001b[0m\u001b[0;32m    117\u001b[0m \u001b[1;33m\u001b[0m\u001b[0m\n\u001b[0;32m    118\u001b[0m     \u001b[1;32mdef\u001b[0m \u001b[0mdim_ativo\u001b[0m\u001b[1;33m(\u001b[0m\u001b[0mself\u001b[0m\u001b[1;33m)\u001b[0m\u001b[1;33m:\u001b[0m\u001b[1;33m\u001b[0m\u001b[1;33m\u001b[0m\u001b[0m\n",
      "\u001b[1;32m~\\Desktop\\fmtpy\\fmtpy\\fmtpy\\bi.py\u001b[0m in \u001b[0;36m__init__\u001b[1;34m(self, head, dados, nome)\u001b[0m\n\u001b[0;32m     84\u001b[0m \u001b[1;33m\u001b[0m\u001b[0m\n\u001b[0;32m     85\u001b[0m     \u001b[1;32mdef\u001b[0m \u001b[0m__init__\u001b[0m\u001b[1;33m(\u001b[0m\u001b[0mself\u001b[0m\u001b[1;33m,\u001b[0m \u001b[0mhead\u001b[0m\u001b[1;33m,\u001b[0m \u001b[0mdados\u001b[0m\u001b[1;33m,\u001b[0m \u001b[0mnome\u001b[0m\u001b[1;33m=\u001b[0m\u001b[1;34m''\u001b[0m\u001b[1;33m)\u001b[0m\u001b[1;33m:\u001b[0m\u001b[1;33m\u001b[0m\u001b[1;33m\u001b[0m\u001b[0m\n\u001b[1;32m---> 86\u001b[1;33m         \u001b[0msuper\u001b[0m\u001b[1;33m(\u001b[0m\u001b[1;33m)\u001b[0m\u001b[1;33m.\u001b[0m\u001b[0m__init__\u001b[0m\u001b[1;33m(\u001b[0m\u001b[0mhead\u001b[0m\u001b[1;33m,\u001b[0m \u001b[0mdados\u001b[0m\u001b[1;33m,\u001b[0m \u001b[0mnome\u001b[0m\u001b[1;33m)\u001b[0m\u001b[1;33m\u001b[0m\u001b[1;33m\u001b[0m\u001b[0m\n\u001b[0m\u001b[0;32m     87\u001b[0m \u001b[1;33m\u001b[0m\u001b[0m\n\u001b[0;32m     88\u001b[0m     \u001b[1;31m# no caso de replace, retorna os dados que serão deletados\u001b[0m\u001b[1;33m\u001b[0m\u001b[1;33m\u001b[0m\u001b[1;33m\u001b[0m\u001b[0m\n",
      "\u001b[1;32m~\\Desktop\\fmtpy\\fmtpy\\fmtpy\\main.py\u001b[0m in \u001b[0;36m__init__\u001b[1;34m(self, head, dados, nome)\u001b[0m\n\u001b[0;32m    315\u001b[0m         \u001b[0mself\u001b[0m\u001b[1;33m.\u001b[0m\u001b[0mativo\u001b[0m \u001b[1;33m=\u001b[0m \u001b[0mnome\u001b[0m\u001b[1;33m\u001b[0m\u001b[1;33m\u001b[0m\u001b[0m\n\u001b[0;32m    316\u001b[0m         \u001b[1;32mfor\u001b[0m \u001b[0mj\u001b[0m\u001b[1;33m,\u001b[0m \u001b[0mi\u001b[0m \u001b[1;32min\u001b[0m \u001b[0menumerate\u001b[0m\u001b[1;33m(\u001b[0m\u001b[0mself\u001b[0m\u001b[1;33m.\u001b[0m\u001b[0mhead\u001b[0m\u001b[1;33m)\u001b[0m\u001b[1;33m:\u001b[0m\u001b[1;33m\u001b[0m\u001b[1;33m\u001b[0m\u001b[0m\n\u001b[1;32m--> 317\u001b[1;33m             \u001b[0msetattr\u001b[0m\u001b[1;33m(\u001b[0m\u001b[0mself\u001b[0m\u001b[1;33m,\u001b[0m \u001b[0mi\u001b[0m\u001b[1;33m,\u001b[0m \u001b[0mself\u001b[0m\u001b[1;33m.\u001b[0m\u001b[0mdados\u001b[0m\u001b[1;33m[\u001b[0m\u001b[1;33m:\u001b[0m\u001b[1;33m,\u001b[0m\u001b[0mj\u001b[0m\u001b[1;33m]\u001b[0m\u001b[1;33m)\u001b[0m\u001b[1;33m\u001b[0m\u001b[1;33m\u001b[0m\u001b[0m\n\u001b[0m\u001b[0;32m    318\u001b[0m \u001b[1;33m\u001b[0m\u001b[0m\n\u001b[0;32m    319\u001b[0m     \u001b[1;32mdef\u001b[0m \u001b[0m__repr__\u001b[0m\u001b[1;33m(\u001b[0m\u001b[0mself\u001b[0m\u001b[1;33m)\u001b[0m\u001b[1;33m:\u001b[0m\u001b[1;33m\u001b[0m\u001b[1;33m\u001b[0m\u001b[0m\n",
      "\u001b[1;31mIndexError\u001b[0m: index 10 is out of bounds for axis 1 with size 10"
     ]
    }
   ],
   "source": [
    "x.go()"
   ]
  },
  {
   "cell_type": "code",
   "execution_count": null,
   "metadata": {},
   "outputs": [],
   "source": []
  },
  {
   "cell_type": "code",
   "execution_count": 17,
   "metadata": {
    "scrolled": true
   },
   "outputs": [
    {
     "name": "stdout",
     "output_type": "stream",
     "text": [
      "1\n"
     ]
    }
   ],
   "source": [
    "bi.Features(tabela[0], tabela[1]).to_sql('fat_balancos_cvm_desagregado', cnn, campos=['CD_CVM', 'IND', 'CD_RELATORIO'], sobrescrever=True)"
   ]
  },
  {
   "cell_type": "code",
   "execution_count": 13,
   "metadata": {},
   "outputs": [
    {
     "data": {
      "text/plain": [
       "<bound method sqlite.reg_existe of <bi.sqlite object at 0x000001BC3C4350B8>>"
      ]
     },
     "execution_count": 13,
     "metadata": {},
     "output_type": "execute_result"
    }
   ],
   "source": [
    "cnn.reg_existe"
   ]
  },
  {
   "cell_type": "code",
   "execution_count": 18,
   "metadata": {},
   "outputs": [
    {
     "data": {
      "text/plain": [
       "{1: 'Resultado',\n",
       " 2: 'Balanço Ativo',\n",
       " 3: 'Balanço Passivo',\n",
       " 4: 'Resultado Abrangente',\n",
       " 5: 'Fluxo de Caixa',\n",
       " 6: 'Valor Adicionado',\n",
       " 7: 'Mutações do PL'}"
      ]
     },
     "execution_count": 18,
     "metadata": {},
     "output_type": "execute_result"
    }
   ],
   "source": [
    "main.indice_ind"
   ]
  },
  {
   "cell_type": "code",
   "execution_count": 20,
   "metadata": {},
   "outputs": [
    {
     "name": "stdout",
     "output_type": "stream",
     "text": [
      "1\n",
      "2\n",
      "3\n",
      "4\n"
     ]
    }
   ],
   "source": [
    "for i in range(1,5):\n",
    "    print(i)"
   ]
  },
  {
   "cell_type": "code",
   "execution_count": null,
   "metadata": {},
   "outputs": [],
   "source": []
  },
  {
   "cell_type": "code",
   "execution_count": 27,
   "metadata": {},
   "outputs": [],
   "source": [
    "x=45"
   ]
  },
  {
   "cell_type": "code",
   "execution_count": 28,
   "metadata": {},
   "outputs": [],
   "source": [
    "if x==4 or\\\n",
    "x==1:\n",
    "    print(1)"
   ]
  },
  {
   "cell_type": "code",
   "execution_count": null,
   "metadata": {},
   "outputs": [],
   "source": []
  },
  {
   "cell_type": "code",
   "execution_count": null,
   "metadata": {},
   "outputs": [],
   "source": []
  },
  {
   "cell_type": "code",
   "execution_count": null,
   "metadata": {},
   "outputs": [],
   "source": []
  }
 ],
 "metadata": {
  "kernelspec": {
   "display_name": "Python 3",
   "language": "python",
   "name": "python3"
  },
  "language_info": {
   "codemirror_mode": {
    "name": "ipython",
    "version": 3
   },
   "file_extension": ".py",
   "mimetype": "text/x-python",
   "name": "python",
   "nbconvert_exporter": "python",
   "pygments_lexer": "ipython3",
   "version": "3.7.3"
  }
 },
 "nbformat": 4,
 "nbformat_minor": 2
}
