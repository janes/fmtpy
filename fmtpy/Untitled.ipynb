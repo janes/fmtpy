{
 "cells": [
  {
   "cell_type": "code",
   "execution_count": 1,
   "metadata": {},
   "outputs": [],
   "source": [
    "import main\n",
    "import invest as inv\n",
    "import numpy as np\n",
    "import time"
   ]
  },
  {
   "cell_type": "code",
   "execution_count": 13,
   "metadata": {},
   "outputs": [],
   "source": [
    "import requests\n",
    "import numpy as np\n",
    "import json\n",
    "import fmtpy as fmt\n",
    "import main\n",
    "from bs4 import BeautifulSoup"
   ]
  },
  {
   "cell_type": "code",
   "execution_count": 53,
   "metadata": {},
   "outputs": [],
   "source": [
    "from json import dumps"
   ]
  },
  {
   "cell_type": "code",
   "execution_count": 54,
   "metadata": {},
   "outputs": [],
   "source": [
    "url='https://www3.bcb.gov.br/novoselic/rest/taxaSelicApurada/pub/search?parametrosOrdenacao=%5B%5D&page=1&pageSize=20'"
   ]
  },
  {
   "cell_type": "code",
   "execution_count": 55,
   "metadata": {},
   "outputs": [],
   "source": [
    "data = {'dataInicial': \"11/04/2020\", 'dataFinal': \"30/04/2020\"}\n",
    "headers={'User-Agent': 'Mozilla/5.0 (Windows NT 10.0; Win64; x64) AppleWebKit/537.36 (KHTML, like Gecko) Chrome/81.0.4044.129 Safari/537.36'}"
   ]
  },
  {
   "cell_type": "code",
   "execution_count": 62,
   "metadata": {},
   "outputs": [
    {
     "name": "stderr",
     "output_type": "stream",
     "text": [
      "C:\\Users\\11111\\Anaconda3\\lib\\site-packages\\urllib3\\connectionpool.py:847: InsecureRequestWarning: Unverified HTTPS request is being made. Adding certificate verification is strongly advised. See: https://urllib3.readthedocs.io/en/latest/advanced-usage.html#ssl-warnings\n",
      "  InsecureRequestWarning)\n"
     ]
    }
   ],
   "source": [
    "response = requests.post(url, params=dumps(data), headers = headers, verify=False)"
   ]
  },
  {
   "cell_type": "code",
   "execution_count": 63,
   "metadata": {},
   "outputs": [
    {
     "data": {
      "text/plain": [
       "<Response [400]>"
      ]
     },
     "execution_count": 63,
     "metadata": {},
     "output_type": "execute_result"
    }
   ],
   "source": [
    "response"
   ]
  },
  {
   "cell_type": "code",
   "execution_count": 64,
   "metadata": {},
   "outputs": [
    {
     "data": {
      "text/plain": [
       "<?xml version=\"1.0\" encoding=\"pt-br\"?>\n",
       "<!DOCTYPE html PUBLIC \"-//W3C//DTD XHTML 1.0 Strict//EN\"\n",
       "  \"http://www.w3.org/TR/xhtml1/DTD/xhtml1-strict.dtd\">\n",
       "\n",
       "<html lang=\"pt-br\" xml:lang=\"pt-br\" xmlns=\"http://www.w3.org/1999/xhtml\">\n",
       "<head>\n",
       "<title>Requisição Inválida!</title>\n",
       "<link rev=\"made\"/>\n",
       "<style>\n",
       "\ta:link    {color:#0036D7; text-decoration: none;}\t\t/* #4D749F */\n",
       "\ta:hover   {color:#3366ff;}\n",
       "\ta:active  {color:#0036D7;}\n",
       "\ta:link\t  {color:#0036D7;}\n",
       "\ta:visited {color:#AF8C3A; text-decoration: none;}\n",
       "</style>\n",
       "</head>\n",
       "<body class=\"semTemplate\" style=\"margin:0;\">\n",
       "<table border=\"0\" cellpadding=\"0\" cellspacing=\"0\" width=\"100%\">\n",
       "<tr>\n",
       "<td align=\"left\" bgcolor=\"#FFCC00\" colspan=\"6\" height=\"23\" valign=\"top\"><img alt=\"Ministério da Fazenda\" height=\"23\" src=\"/local_img/home/logo_faz2.gif\" width=\"177\"/></td>\n",
       "<td align=\"right\" bgcolor=\"#FFCC00\"><img 0=\"\" alt=\"Acesse o Portal do Governo Brasileiro\" border=\"\" height=\"21\" src=\"/local_img/home/brasil2.gif\" width=\"74\"/></td>\n",
       "</tr>\n",
       "<tr bgcolor=\"#003d79\">\n",
       "<td align=\"left\" colspan=\"7\" height=\"40\" style=\"vertical-align:middle\" valign=\"top\"><a alt=\"Página inicial\" href=\"http://www.bcb.gov.br\"><img alt=\"Página inicial\" border=\"0\" height=\"35\" src=\"/local_img/logobacen_transp.gif\" width=\"165\"/></a></td>\n",
       "</tr>\n",
       "<tr>\n",
       "<td align=\"left\" bgcolor=\"#E5E9ED\" rowspan=\"4\" valign=\"top\" width=\"194\"> </td>\n",
       "<td align=\"left\" colspan=\"6\" height=\"40\" valign=\"top\"><img height=\"40\" src=\"/local_img/transparent.gif\" width=\"1\"/></td>\n",
       "</tr>\n",
       "<tr>\n",
       "<td align=\"left\" rowspan=\"2\" valign=\"top\" width=\"20\"><img height=\"20\" src=\"/local_img/transparent.gif\" width=\"20\"/></td>\n",
       "<td width=\"301\"> </td>\n",
       "<td rowspan=\"2\" valign=\"top\" width=\"50\"><img height=\"1\" src=\"/local_img/transparent.gif\" width=\"50\"/></td>\n",
       "<td valign=\"top\" width=\"301\"> </td>\n",
       "<td align=\"left\" rowspan=\"2\" valign=\"top\"> </td>\n",
       "</tr>\n",
       "<tr>\n",
       "<td height=\"250\" valign=\"top\">\n",
       "<!--INICIO TABELA PORTUGUÊS-->\n",
       "<table align=\"right\" border=\"0\" cellpadding=\"0\" cellspacing=\"0\" height=\"185\" style=\"border:solid 2 #4a73a2\" width=\"330\">\n",
       "<tr>\n",
       "<td bgcolor=\"#F2F4F6\" colspan=\"3\" height=\"4\" valign=\"top\"> </td>\n",
       "</tr>\n",
       "<tr>\n",
       "<td align=\"right\" bgcolor=\"#003d79\" height=\"4\" valign=\"middle\" width=\"6\"></td>\n",
       "<td bgcolor=\"#003d79\" height=\"19\" valign=\"top\"><font color=\"white\" face=\"Verdana, Arial, Helvetica, sans-serif\" size=\"2\"><strong>Requisição Inválida!</strong></font></td>\n",
       "<td bgcolor=\"#003d79\" height=\"4\" valign=\"top\"> </td>\n",
       "</tr>\n",
       "<tr bgcolor=\"#F2F4F6\">\n",
       "<td rowspan=\"3\" valign=\"top\" width=\"14\"></td>\n",
       "<td align=\"left\" bgcolor=\"#F2F4F6\" height=\"98\" valign=\"middle\" width=\"243\">\n",
       "<font face=\"Verdana, Arial, Helvetica, sans-serif\" size=\"2\">\n",
       "\t\t\t\t\t\t\t\t      Seu \"browser\" (ou o servidor proxy) enviou uma\n",
       "    requisição inválida ao servidor.\n",
       "\t\t\t\t\t\t\t\t</font>\n",
       "</td>\n",
       "<td rowspan=\"3\" valign=\"top\" width=\"20\"> </td>\n",
       "</tr>\n",
       "<tr>\n",
       "<td align=\"left\" bgcolor=\"#F2F4F6\" colspan=\"3\" height=\"22\" style=\"text-indent:20;\" valign=\"top\">\n",
       "<a href=\"javascript:history.back();\"><img alt=\"Volta à página anterior\" border=\"0\" src=\"/local_img/fundoazul/a_anter.gif\"/><font face=\"Verdana, Arial, Helvetica, sans-serif\" size=\"2\"> Voltar </font></a><a href=\"http://www.bcb.gov.br/\">    <img alt=\"Volta à página inicial da homepage\" border=\"0\" src=\"/local_img/home.gif\"/><font face=\"Verdana, Arial, Helvetica, sans-serif\" size=\"2\"> Página inicial</font></a>\n",
       "</td>\n",
       "</tr>\n",
       "<tr>\n",
       "<td align=\"left\" bgcolor=\"#F2F4F6\" colspan=\"3\" height=\"22\" valign=\"top\"> </td>\n",
       "</tr>\n",
       "</table>\n",
       "<!--FIM TABELA PORTUGUÊS-->\n",
       "</td>\n",
       "<td valign=\"top\" width=\"301\">\n",
       "<!--INICIO TABELA INGLÊS-->\n",
       "<table align=\"left\" border=\"0\" cellpadding=\"0\" cellspacing=\"0\" height=\"185\" style=\"border:solid 2 #4a73a2\" width=\"330\">\n",
       "<tr>\n",
       "<td bgcolor=\"#F2F4F6\" colspan=\"3\" height=\"19\" valign=\"top\"></td>\n",
       "</tr>\n",
       "<tr>\n",
       "<td align=\"right\" bgcolor=\"#003d79\" height=\"19\" valign=\"middle\" width=\"30\"></td>\n",
       "<td bgcolor=\"#003d79\" height=\"19\" valign=\"top\"><font color=\"white\" face=\"Verdana, Arial, Helvetica, sans-serif\" size=\"2\"><strong>Bad request!</strong></font></td>\n",
       "<td bgcolor=\"#003d79\" height=\"19\" valign=\"top\"><img height=\"20\" src=\"/local_img/transparent.gif\" width=\"20\"/></td>\n",
       "</tr>\n",
       "<tr bgcolor=\"#F2F4F6\">\n",
       "<td rowspan=\"3\" valign=\"top\" width=\"14\"></td>\n",
       "<td align=\"left\" bgcolor=\"#F2F4F6\" height=\"99\" valign=\"middle\" width=\"243\"><font face=\"Verdana, Arial, Helvetica, sans-serif\" size=\"2\">    Your browser (or proxy) sent a request that\n",
       "    this server could not understand.\n",
       "    </font></td>\n",
       "<td rowspan=\"3\" valign=\"top\" width=\"20\"> </td>\n",
       "</tr>\n",
       "<tr>\n",
       "<td align=\"left\" bgcolor=\"#F2F4F6\" colspan=\"3\" height=\"22\" style=\"text-indent:50;\" valign=\"top\">\n",
       "<a href=\"javascript:history.back();\"><img alt=\"Back to last page visited\" border=\"0\" src=\"/local_img/fundoazul/a_anter.gif\"/><font face=\"Verdana, Arial, Helvetica, sans-serif\" size=\"2\"> Back</font></a><a href=\"http://www.bcb.gov.br/?english\">      <img alt=\"Back to Banco Central's main page\" border=\"0\" src=\"/local_img/home.gif\"/><font face=\"Verdana, Arial, Helvetica, sans-serif\" size=\"2\"> Home</font></a>\n",
       "</td>\n",
       "<tr bgcolor=\"#F2F4F6\">\n",
       "<td colspan=\"3\" height=\"18\" valign=\"top\"></td>\n",
       "</tr>\n",
       "</tr></table>\n",
       "<!--FIM TABELA INGLÊS-->\n",
       "</td>\n",
       "</tr>\n",
       "<tr>\n",
       "<td></td>\n",
       "<td colspan=\"4\" style=\"border-top-color:#003d79;border-top-width:1;border-top-style:solid;\">\n",
       "<font color=\"red\" face=\"Verdana, Arial, Helvetica, sans-serif\" size=\"2\">\n",
       "\t\t\tTechnical Information: Error 400\n",
       "         <address>\n",
       "<span><!--#config timefmt=\"%c\" --><!--# echo var=\"date_local\" default=\"-\" --><br/>\n",
       "</span>\n",
       "</address>\n",
       "</font>\n",
       "</td>\n",
       "</tr>\n",
       "</table>\n",
       "</body>\n",
       "</html>"
      ]
     },
     "execution_count": 64,
     "metadata": {},
     "output_type": "execute_result"
    }
   ],
   "source": [
    "BeautifulSoup(response.content, 'html.parser')"
   ]
  },
  {
   "cell_type": "code",
   "execution_count": null,
   "metadata": {},
   "outputs": [],
   "source": []
  },
  {
   "cell_type": "code",
   "execution_count": null,
   "metadata": {},
   "outputs": [],
   "source": []
  }
 ],
 "metadata": {
  "kernelspec": {
   "display_name": "Python 3",
   "language": "python",
   "name": "python3"
  },
  "language_info": {
   "codemirror_mode": {
    "name": "ipython",
    "version": 3
   },
   "file_extension": ".py",
   "mimetype": "text/x-python",
   "name": "python",
   "nbconvert_exporter": "python",
   "pygments_lexer": "ipython3",
   "version": "3.7.3"
  }
 },
 "nbformat": 4,
 "nbformat_minor": 2
}
